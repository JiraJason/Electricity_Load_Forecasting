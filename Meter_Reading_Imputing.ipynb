{
 "cells": [
  {
   "cell_type": "markdown",
   "metadata": {},
   "source": [
    "# Meter Reading Imputing\n",
    "- Replace NaN's \n",
    "    - If number of consecutive NaN's < 3: use neighboring values\n",
    "    - If number of consecutive NaN's > 3: calculate average hourly value per season for each building, and use corresponding value\n"
   ]
  },
  {
   "cell_type": "code",
   "execution_count": 2,
   "metadata": {},
   "outputs": [],
   "source": [
    "import numpy as np\n",
    "import pandas as pd\n",
    "import datetime as dt\n",
    "from datetime import timedelta\n",
    "import pickle\n",
    "\n",
    "pd.set_option('display.max_columns', None)"
   ]
  },
  {
   "cell_type": "code",
   "execution_count": 3,
   "metadata": {},
   "outputs": [],
   "source": [
    "%matplotlib inline\n",
    "\n",
    "import sys\n",
    "import statsmodels as ss\n",
    "import numpy as np\n",
    "import matplotlib\n",
    "import matplotlib.pyplot as plt"
   ]
  },
  {
   "cell_type": "code",
   "execution_count": 3,
   "metadata": {},
   "outputs": [],
   "source": [
    "with open('berkeley_matched_readings.pkl','rb') as read_file:\n",
    "    berkeley_df = pickle.load(read_file)"
   ]
  },
  {
   "cell_type": "code",
   "execution_count": 4,
   "metadata": {},
   "outputs": [],
   "source": [
    "berkeley_df = berkeley_df.sort_values(by=['building_id', 'timestamp']).reset_index(drop=True)"
   ]
  },
  {
   "cell_type": "code",
   "execution_count": 5,
   "metadata": {},
   "outputs": [
    {
     "data": {
      "text/html": [
       "<div>\n",
       "<style scoped>\n",
       "    .dataframe tbody tr th:only-of-type {\n",
       "        vertical-align: middle;\n",
       "    }\n",
       "\n",
       "    .dataframe tbody tr th {\n",
       "        vertical-align: top;\n",
       "    }\n",
       "\n",
       "    .dataframe thead th {\n",
       "        text-align: right;\n",
       "    }\n",
       "</style>\n",
       "<table border=\"1\" class=\"dataframe\">\n",
       "  <thead>\n",
       "    <tr style=\"text-align: right;\">\n",
       "      <th></th>\n",
       "      <th>building_id</th>\n",
       "      <th>timestamp</th>\n",
       "      <th>meter_reading_scraped</th>\n",
       "    </tr>\n",
       "  </thead>\n",
       "  <tbody>\n",
       "    <tr>\n",
       "      <td>0</td>\n",
       "      <td>565</td>\n",
       "      <td>2016-01-01 00:00:00</td>\n",
       "      <td>8.0</td>\n",
       "    </tr>\n",
       "    <tr>\n",
       "      <td>1</td>\n",
       "      <td>565</td>\n",
       "      <td>2016-01-01 01:00:00</td>\n",
       "      <td>7.0</td>\n",
       "    </tr>\n",
       "    <tr>\n",
       "      <td>2</td>\n",
       "      <td>565</td>\n",
       "      <td>2016-01-01 02:00:00</td>\n",
       "      <td>8.0</td>\n",
       "    </tr>\n",
       "    <tr>\n",
       "      <td>3</td>\n",
       "      <td>565</td>\n",
       "      <td>2016-01-01 03:00:00</td>\n",
       "      <td>8.0</td>\n",
       "    </tr>\n",
       "    <tr>\n",
       "      <td>4</td>\n",
       "      <td>565</td>\n",
       "      <td>2016-01-01 04:00:00</td>\n",
       "      <td>8.0</td>\n",
       "    </tr>\n",
       "    <tr>\n",
       "      <td>...</td>\n",
       "      <td>...</td>\n",
       "      <td>...</td>\n",
       "      <td>...</td>\n",
       "    </tr>\n",
       "    <tr>\n",
       "      <td>2539675</td>\n",
       "      <td>655</td>\n",
       "      <td>2019-11-30 19:00:00</td>\n",
       "      <td>127.0</td>\n",
       "    </tr>\n",
       "    <tr>\n",
       "      <td>2539676</td>\n",
       "      <td>655</td>\n",
       "      <td>2019-11-30 20:00:00</td>\n",
       "      <td>125.0</td>\n",
       "    </tr>\n",
       "    <tr>\n",
       "      <td>2539677</td>\n",
       "      <td>655</td>\n",
       "      <td>2019-11-30 21:00:00</td>\n",
       "      <td>121.0</td>\n",
       "    </tr>\n",
       "    <tr>\n",
       "      <td>2539678</td>\n",
       "      <td>655</td>\n",
       "      <td>2019-11-30 22:00:00</td>\n",
       "      <td>123.0</td>\n",
       "    </tr>\n",
       "    <tr>\n",
       "      <td>2539679</td>\n",
       "      <td>655</td>\n",
       "      <td>2019-11-30 23:00:00</td>\n",
       "      <td>122.0</td>\n",
       "    </tr>\n",
       "  </tbody>\n",
       "</table>\n",
       "<p>2539680 rows × 3 columns</p>\n",
       "</div>"
      ],
      "text/plain": [
       "         building_id           timestamp  meter_reading_scraped\n",
       "0                565 2016-01-01 00:00:00                    8.0\n",
       "1                565 2016-01-01 01:00:00                    7.0\n",
       "2                565 2016-01-01 02:00:00                    8.0\n",
       "3                565 2016-01-01 03:00:00                    8.0\n",
       "4                565 2016-01-01 04:00:00                    8.0\n",
       "...              ...                 ...                    ...\n",
       "2539675          655 2019-11-30 19:00:00                  127.0\n",
       "2539676          655 2019-11-30 20:00:00                  125.0\n",
       "2539677          655 2019-11-30 21:00:00                  121.0\n",
       "2539678          655 2019-11-30 22:00:00                  123.0\n",
       "2539679          655 2019-11-30 23:00:00                  122.0\n",
       "\n",
       "[2539680 rows x 3 columns]"
      ]
     },
     "execution_count": 5,
     "metadata": {},
     "output_type": "execute_result"
    }
   ],
   "source": [
    "berkeley_df"
   ]
  },
  {
   "cell_type": "markdown",
   "metadata": {},
   "source": [
    "### Add date, year, month, hour, day columns"
   ]
  },
  {
   "cell_type": "code",
   "execution_count": 6,
   "metadata": {},
   "outputs": [],
   "source": [
    "berkeley_time = [str(rows) for index, rows in berkeley_df['timestamp'].iteritems()]    "
   ]
  },
  {
   "cell_type": "code",
   "execution_count": 7,
   "metadata": {},
   "outputs": [],
   "source": [
    "# Function that converts timestamp to datetime, then creates hour, day, month, and date series\n",
    "\n",
    "def to_datetime(time_list):\n",
    "\n",
    "    new_time_list = []\n",
    "\n",
    "    for i in time_list:\n",
    "        i = i.strip()\n",
    "        new_time_list.append(dt.datetime.strptime(i, '%Y-%m-%d %H:%M:%S'))\n",
    "    \n",
    "    hours = pd.Series(new_time_list).dt.hour\n",
    "    days = pd.Series(new_time_list).dt.day\n",
    "    months = pd.Series(new_time_list).dt.month\n",
    "    years = pd.Series(new_time_list).dt.year\n",
    "    date = pd.Series(new_time_list).dt.date\n",
    "    \n",
    "    return new_time_list, hours, days, months, years, date"
   ]
  },
  {
   "cell_type": "code",
   "execution_count": 8,
   "metadata": {},
   "outputs": [],
   "source": [
    "berkeley_new_time, berkeley_hours, berkeley_days, berkeley_months, berkeley_years, berkeley_date = to_datetime(berkeley_time)\n",
    "\n"
   ]
  },
  {
   "cell_type": "code",
   "execution_count": 9,
   "metadata": {},
   "outputs": [],
   "source": [
    "berkeley_df['timestamp'] = berkeley_new_time"
   ]
  },
  {
   "cell_type": "code",
   "execution_count": 10,
   "metadata": {},
   "outputs": [],
   "source": [
    "berkeley_df.insert(2, column = 'Date', value = berkeley_date)\n",
    "berkeley_df.insert(3, column = 'Year', value = berkeley_years)\n",
    "berkeley_df.insert(4, column = 'Month', value = berkeley_months)\n",
    "berkeley_df.insert(5, column = 'Day', value = berkeley_days)\n",
    "berkeley_df.insert(6, column = 'Hour', value = berkeley_hours)"
   ]
  },
  {
   "cell_type": "markdown",
   "metadata": {},
   "source": [
    "### Add Season Column"
   ]
  },
  {
   "cell_type": "code",
   "execution_count": 11,
   "metadata": {},
   "outputs": [],
   "source": [
    "# Create and add season column:\n",
    "\n",
    "def season_helper(month):\n",
    "    if month in [12, 1, 2]:\n",
    "        return 'Winter'\n",
    "    if month in [3, 4, 5]:\n",
    "        return 'Spring'\n",
    "    if month in [6, 7, 8]:\n",
    "        return 'Summer'\n",
    "    else:\n",
    "        return 'Fall'\n"
   ]
  },
  {
   "cell_type": "code",
   "execution_count": 12,
   "metadata": {},
   "outputs": [],
   "source": [
    "berkeley_df.insert(3, column = 'Season', value = berkeley_df['Month'].apply(season_helper))\n"
   ]
  },
  {
   "cell_type": "code",
   "execution_count": 13,
   "metadata": {},
   "outputs": [
    {
     "data": {
      "text/plain": [
       "False    2492642\n",
       "True       47038\n",
       "Name: meter_reading_scraped, dtype: int64"
      ]
     },
     "execution_count": 13,
     "metadata": {},
     "output_type": "execute_result"
    }
   ],
   "source": [
    "berkeley_df['meter_reading_scraped'].isna().value_counts()"
   ]
  },
  {
   "cell_type": "code",
   "execution_count": 14,
   "metadata": {},
   "outputs": [],
   "source": [
    "# with open('berkeley_dates_raw.pkl', 'wb') as to_write:\n",
    "#     pickle.dump(berkeley_df, to_write)"
   ]
  },
  {
   "cell_type": "markdown",
   "metadata": {},
   "source": [
    "---"
   ]
  },
  {
   "cell_type": "markdown",
   "metadata": {},
   "source": [
    "### Load in small_na_series\n",
    "- Per Meter_Reading_Imputing_R1.ipynb, berkeley_df was searched to find where number of consecutive NaN metering reading values was less than 10\n",
    "- small_na_series contains replacement values for these particular NaN's"
   ]
  },
  {
   "cell_type": "code",
   "execution_count": 65,
   "metadata": {},
   "outputs": [],
   "source": [
    "with open('berkeley_dates_raw.pkl','rb') as read_file:\n",
    "    berkeley_df = pickle.load(read_file)"
   ]
  },
  {
   "cell_type": "code",
   "execution_count": 66,
   "metadata": {},
   "outputs": [],
   "source": [
    "with open('small_na_series.pkl','rb') as read_file:\n",
    "    small_na_series = pickle.load(read_file)"
   ]
  },
  {
   "cell_type": "code",
   "execution_count": 67,
   "metadata": {},
   "outputs": [
    {
     "data": {
      "text/plain": [
       "False    2492642\n",
       "True       47038\n",
       "Name: meter_reading_scraped, dtype: int64"
      ]
     },
     "execution_count": 67,
     "metadata": {},
     "output_type": "execute_result"
    }
   ],
   "source": [
    "berkeley_df.meter_reading_scraped.isna().value_counts()"
   ]
  },
  {
   "cell_type": "code",
   "execution_count": 68,
   "metadata": {},
   "outputs": [],
   "source": [
    "berkeley_df.loc[small_na_series.index, 'meter_reading_scraped'] = small_na_series.values\n"
   ]
  },
  {
   "cell_type": "code",
   "execution_count": 69,
   "metadata": {},
   "outputs": [
    {
     "data": {
      "text/plain": [
       "False    2492664\n",
       "True       47016\n",
       "Name: meter_reading_scraped, dtype: int64"
      ]
     },
     "execution_count": 69,
     "metadata": {},
     "output_type": "execute_result"
    }
   ],
   "source": [
    "berkeley_df.meter_reading_scraped.isna().value_counts()"
   ]
  },
  {
   "cell_type": "markdown",
   "metadata": {},
   "source": [
    "### Shift timestamps to match Daylight Savings\n",
    "- To avoid 1:00 AM from being abnormally high, those values will be shifted to 1:30 AM"
   ]
  },
  {
   "cell_type": "code",
   "execution_count": 71,
   "metadata": {},
   "outputs": [
    {
     "data": {
      "text/plain": [
       "1     106116\n",
       "23    105820\n",
       "22    105820\n",
       "3     105820\n",
       "4     105820\n",
       "5     105820\n",
       "6     105820\n",
       "7     105820\n",
       "8     105820\n",
       "9     105820\n",
       "10    105820\n",
       "11    105820\n",
       "12    105820\n",
       "13    105820\n",
       "14    105820\n",
       "15    105820\n",
       "16    105820\n",
       "17    105820\n",
       "18    105820\n",
       "19    105820\n",
       "20    105820\n",
       "21    105820\n",
       "0     105820\n",
       "2     105524\n",
       "Name: Hour, dtype: int64"
      ]
     },
     "execution_count": 71,
     "metadata": {},
     "output_type": "execute_result"
    }
   ],
   "source": [
    "berkeley_df['Hour'].value_counts()"
   ]
  },
  {
   "cell_type": "code",
   "execution_count": 72,
   "metadata": {},
   "outputs": [],
   "source": [
    "berkeley_df = berkeley_df.sort_values(by=['timestamp', 'building_id']).reset_index(drop=True)"
   ]
  },
  {
   "cell_type": "code",
   "execution_count": 73,
   "metadata": {},
   "outputs": [
    {
     "data": {
      "text/plain": [
       "2018-11-04 01:00:00    148\n",
       "2019-11-03 01:00:00    148\n",
       "2017-11-05 01:00:00    148\n",
       "2016-11-06 01:00:00    148\n",
       "2016-04-27 15:00:00     74\n",
       "                      ... \n",
       "2019-10-20 16:00:00     74\n",
       "2016-03-24 03:00:00     74\n",
       "2018-05-13 09:00:00     74\n",
       "2017-03-10 04:00:00     74\n",
       "2017-08-10 14:00:00     74\n",
       "Name: timestamp, Length: 34316, dtype: int64"
      ]
     },
     "execution_count": 73,
     "metadata": {},
     "output_type": "execute_result"
    }
   ],
   "source": [
    "berkeley_df['timestamp'].value_counts()"
   ]
  },
  {
   "cell_type": "code",
   "execution_count": 74,
   "metadata": {},
   "outputs": [],
   "source": [
    "dst_2016 = berkeley_df[berkeley_df['timestamp'] == '2016-11-06 01:00:00'][1::2]['timestamp']\n",
    "dst_2017 = berkeley_df[berkeley_df['timestamp'] == '2017-11-05 01:00:00'][1::2]['timestamp']\n",
    "dst_2018 = berkeley_df[berkeley_df['timestamp'] == '2018-11-04 01:00:00'][1::2]['timestamp']\n",
    "dst_2019 = berkeley_df[berkeley_df['timestamp'] == '2019-11-03 01:00:00'][1::2]['timestamp']"
   ]
  },
  {
   "cell_type": "code",
   "execution_count": 75,
   "metadata": {},
   "outputs": [],
   "source": [
    "dst = dst_2016.append(dst_2017)\n",
    "dst = dst.append(dst_2018)\n",
    "dst = dst.append(dst_2019)"
   ]
  },
  {
   "cell_type": "code",
   "execution_count": 76,
   "metadata": {},
   "outputs": [],
   "source": [
    "dst = dst + timedelta(hours = 0.5)"
   ]
  },
  {
   "cell_type": "code",
   "execution_count": 77,
   "metadata": {},
   "outputs": [
    {
     "data": {
      "text/plain": [
       "550561    2016-11-06 01:30:00\n",
       "550563    2016-11-06 01:30:00\n",
       "550565    2016-11-06 01:30:00\n",
       "550567    2016-11-06 01:30:00\n",
       "550569    2016-11-06 01:30:00\n",
       "                  ...        \n",
       "2490091   2019-11-03 01:30:00\n",
       "2490093   2019-11-03 01:30:00\n",
       "2490095   2019-11-03 01:30:00\n",
       "2490097   2019-11-03 01:30:00\n",
       "2490099   2019-11-03 01:30:00\n",
       "Name: timestamp, Length: 296, dtype: datetime64[ns]"
      ]
     },
     "execution_count": 77,
     "metadata": {},
     "output_type": "execute_result"
    }
   ],
   "source": [
    "dst"
   ]
  },
  {
   "cell_type": "code",
   "execution_count": 78,
   "metadata": {},
   "outputs": [],
   "source": [
    "berkeley_df.loc[dst.index, 'timestamp'] = dst.values"
   ]
  },
  {
   "cell_type": "code",
   "execution_count": 84,
   "metadata": {},
   "outputs": [],
   "source": [
    "# with open('berkeley_part_clean2.pkl', 'wb') as to_write:\n",
    "#     pickle.dump(berkeley_df, to_write)"
   ]
  },
  {
   "cell_type": "markdown",
   "metadata": {},
   "source": [
    "## Find mean values for meter readings\n",
    "- Find means at each building for each hour in each season\n",
    "- Only look at 2016-2018, since this training data only consists of data from these years"
   ]
  },
  {
   "cell_type": "code",
   "execution_count": 85,
   "metadata": {},
   "outputs": [
    {
     "data": {
      "text/html": [
       "<div>\n",
       "<style scoped>\n",
       "    .dataframe tbody tr th:only-of-type {\n",
       "        vertical-align: middle;\n",
       "    }\n",
       "\n",
       "    .dataframe tbody tr th {\n",
       "        vertical-align: top;\n",
       "    }\n",
       "\n",
       "    .dataframe thead th {\n",
       "        text-align: right;\n",
       "    }\n",
       "</style>\n",
       "<table border=\"1\" class=\"dataframe\">\n",
       "  <thead>\n",
       "    <tr style=\"text-align: right;\">\n",
       "      <th></th>\n",
       "      <th>building_id</th>\n",
       "      <th>timestamp</th>\n",
       "      <th>Date</th>\n",
       "      <th>Year</th>\n",
       "      <th>Season</th>\n",
       "      <th>Month</th>\n",
       "      <th>Day</th>\n",
       "      <th>Hour</th>\n",
       "      <th>meter_reading_scraped</th>\n",
       "    </tr>\n",
       "  </thead>\n",
       "  <tbody>\n",
       "    <tr>\n",
       "      <td>0</td>\n",
       "      <td>565</td>\n",
       "      <td>2016-01-01 00:00:00</td>\n",
       "      <td>2016-01-01</td>\n",
       "      <td>2016</td>\n",
       "      <td>Winter</td>\n",
       "      <td>1</td>\n",
       "      <td>1</td>\n",
       "      <td>0</td>\n",
       "      <td>8.0</td>\n",
       "    </tr>\n",
       "    <tr>\n",
       "      <td>1</td>\n",
       "      <td>565</td>\n",
       "      <td>2016-01-01 01:00:00</td>\n",
       "      <td>2016-01-01</td>\n",
       "      <td>2016</td>\n",
       "      <td>Winter</td>\n",
       "      <td>1</td>\n",
       "      <td>1</td>\n",
       "      <td>1</td>\n",
       "      <td>7.0</td>\n",
       "    </tr>\n",
       "    <tr>\n",
       "      <td>2</td>\n",
       "      <td>565</td>\n",
       "      <td>2016-01-01 02:00:00</td>\n",
       "      <td>2016-01-01</td>\n",
       "      <td>2016</td>\n",
       "      <td>Winter</td>\n",
       "      <td>1</td>\n",
       "      <td>1</td>\n",
       "      <td>2</td>\n",
       "      <td>8.0</td>\n",
       "    </tr>\n",
       "    <tr>\n",
       "      <td>3</td>\n",
       "      <td>565</td>\n",
       "      <td>2016-01-01 03:00:00</td>\n",
       "      <td>2016-01-01</td>\n",
       "      <td>2016</td>\n",
       "      <td>Winter</td>\n",
       "      <td>1</td>\n",
       "      <td>1</td>\n",
       "      <td>3</td>\n",
       "      <td>8.0</td>\n",
       "    </tr>\n",
       "    <tr>\n",
       "      <td>4</td>\n",
       "      <td>565</td>\n",
       "      <td>2016-01-01 04:00:00</td>\n",
       "      <td>2016-01-01</td>\n",
       "      <td>2016</td>\n",
       "      <td>Winter</td>\n",
       "      <td>1</td>\n",
       "      <td>1</td>\n",
       "      <td>4</td>\n",
       "      <td>8.0</td>\n",
       "    </tr>\n",
       "    <tr>\n",
       "      <td>...</td>\n",
       "      <td>...</td>\n",
       "      <td>...</td>\n",
       "      <td>...</td>\n",
       "      <td>...</td>\n",
       "      <td>...</td>\n",
       "      <td>...</td>\n",
       "      <td>...</td>\n",
       "      <td>...</td>\n",
       "      <td>...</td>\n",
       "    </tr>\n",
       "    <tr>\n",
       "      <td>2539675</td>\n",
       "      <td>655</td>\n",
       "      <td>2019-11-30 19:00:00</td>\n",
       "      <td>2019-11-30</td>\n",
       "      <td>2019</td>\n",
       "      <td>Fall</td>\n",
       "      <td>11</td>\n",
       "      <td>30</td>\n",
       "      <td>19</td>\n",
       "      <td>127.0</td>\n",
       "    </tr>\n",
       "    <tr>\n",
       "      <td>2539676</td>\n",
       "      <td>655</td>\n",
       "      <td>2019-11-30 20:00:00</td>\n",
       "      <td>2019-11-30</td>\n",
       "      <td>2019</td>\n",
       "      <td>Fall</td>\n",
       "      <td>11</td>\n",
       "      <td>30</td>\n",
       "      <td>20</td>\n",
       "      <td>125.0</td>\n",
       "    </tr>\n",
       "    <tr>\n",
       "      <td>2539677</td>\n",
       "      <td>655</td>\n",
       "      <td>2019-11-30 21:00:00</td>\n",
       "      <td>2019-11-30</td>\n",
       "      <td>2019</td>\n",
       "      <td>Fall</td>\n",
       "      <td>11</td>\n",
       "      <td>30</td>\n",
       "      <td>21</td>\n",
       "      <td>121.0</td>\n",
       "    </tr>\n",
       "    <tr>\n",
       "      <td>2539678</td>\n",
       "      <td>655</td>\n",
       "      <td>2019-11-30 22:00:00</td>\n",
       "      <td>2019-11-30</td>\n",
       "      <td>2019</td>\n",
       "      <td>Fall</td>\n",
       "      <td>11</td>\n",
       "      <td>30</td>\n",
       "      <td>22</td>\n",
       "      <td>123.0</td>\n",
       "    </tr>\n",
       "    <tr>\n",
       "      <td>2539679</td>\n",
       "      <td>655</td>\n",
       "      <td>2019-11-30 23:00:00</td>\n",
       "      <td>2019-11-30</td>\n",
       "      <td>2019</td>\n",
       "      <td>Fall</td>\n",
       "      <td>11</td>\n",
       "      <td>30</td>\n",
       "      <td>23</td>\n",
       "      <td>122.0</td>\n",
       "    </tr>\n",
       "  </tbody>\n",
       "</table>\n",
       "<p>2539680 rows × 9 columns</p>\n",
       "</div>"
      ],
      "text/plain": [
       "         building_id           timestamp        Date  Year  Season  Month  \\\n",
       "0                565 2016-01-01 00:00:00  2016-01-01  2016  Winter      1   \n",
       "1                565 2016-01-01 01:00:00  2016-01-01  2016  Winter      1   \n",
       "2                565 2016-01-01 02:00:00  2016-01-01  2016  Winter      1   \n",
       "3                565 2016-01-01 03:00:00  2016-01-01  2016  Winter      1   \n",
       "4                565 2016-01-01 04:00:00  2016-01-01  2016  Winter      1   \n",
       "...              ...                 ...         ...   ...     ...    ...   \n",
       "2539675          655 2019-11-30 19:00:00  2019-11-30  2019    Fall     11   \n",
       "2539676          655 2019-11-30 20:00:00  2019-11-30  2019    Fall     11   \n",
       "2539677          655 2019-11-30 21:00:00  2019-11-30  2019    Fall     11   \n",
       "2539678          655 2019-11-30 22:00:00  2019-11-30  2019    Fall     11   \n",
       "2539679          655 2019-11-30 23:00:00  2019-11-30  2019    Fall     11   \n",
       "\n",
       "         Day  Hour  meter_reading_scraped  \n",
       "0          1     0                    8.0  \n",
       "1          1     1                    7.0  \n",
       "2          1     2                    8.0  \n",
       "3          1     3                    8.0  \n",
       "4          1     4                    8.0  \n",
       "...      ...   ...                    ...  \n",
       "2539675   30    19                  127.0  \n",
       "2539676   30    20                  125.0  \n",
       "2539677   30    21                  121.0  \n",
       "2539678   30    22                  123.0  \n",
       "2539679   30    23                  122.0  \n",
       "\n",
       "[2539680 rows x 9 columns]"
      ]
     },
     "execution_count": 85,
     "metadata": {},
     "output_type": "execute_result"
    }
   ],
   "source": [
    "berkeley_df = berkeley_df.sort_values(by=['building_id', 'timestamp']).reset_index(drop=True)\n",
    "berkeley_df"
   ]
  },
  {
   "cell_type": "code",
   "execution_count": 87,
   "metadata": {},
   "outputs": [],
   "source": [
    "berkeley_df = berkeley_df[berkeley_df['Year'] < 2019]"
   ]
  },
  {
   "cell_type": "code",
   "execution_count": 88,
   "metadata": {},
   "outputs": [],
   "source": [
    "# Split dataframe by the 74 buidlings.\n",
    "\n",
    "def building_df_separator(full_df, building_no):\n",
    "    \n",
    "    building_df = full_df[full_df['building_id'] == building_no]\n",
    "        \n",
    "    return building_df"
   ]
  },
  {
   "cell_type": "code",
   "execution_count": 89,
   "metadata": {},
   "outputs": [],
   "source": [
    "building_list = berkeley_df['building_id'].unique()"
   ]
  },
  {
   "cell_type": "code",
   "execution_count": 90,
   "metadata": {},
   "outputs": [
    {
     "data": {
      "text/plain": [
       "array([565, 567, 568, 569, 570, 571, 573, 574, 575, 576, 577, 580, 582,\n",
       "       583, 584, 585, 586, 587, 588, 589, 592, 594, 595, 597, 598, 599,\n",
       "       600, 601, 602, 603, 604, 605, 606, 607, 608, 609, 610, 611, 612,\n",
       "       614, 615, 616, 617, 618, 619, 620, 621, 622, 623, 624, 626, 627,\n",
       "       628, 630, 631, 632, 633, 634, 635, 636, 637, 638, 640, 641, 642,\n",
       "       643, 644, 645, 646, 649, 652, 653, 654, 655])"
      ]
     },
     "execution_count": 90,
     "metadata": {},
     "output_type": "execute_result"
    }
   ],
   "source": [
    "building_list"
   ]
  },
  {
   "cell_type": "code",
   "execution_count": 91,
   "metadata": {},
   "outputs": [],
   "source": [
    "# building_dict key: building number\n",
    "# building_dict value: buidling's berkeley dataframe\n",
    "\n",
    "building_dict = {}\n",
    "\n",
    "for i in building_list:\n",
    "    building_dict[i] = building_df_separator(berkeley_df, i)\n"
   ]
  },
  {
   "cell_type": "code",
   "execution_count": 92,
   "metadata": {},
   "outputs": [
    {
     "name": "stdout",
     "output_type": "stream",
     "text": [
      "<class 'pandas.core.frame.DataFrame'>\n",
      "Int64Index: 26304 entries, 0 to 26303\n",
      "Data columns (total 9 columns):\n",
      "building_id              26304 non-null int32\n",
      "timestamp                26304 non-null datetime64[ns]\n",
      "Date                     26304 non-null object\n",
      "Year                     26304 non-null int64\n",
      "Season                   26304 non-null object\n",
      "Month                    26304 non-null int64\n",
      "Day                      26304 non-null int64\n",
      "Hour                     26304 non-null int64\n",
      "meter_reading_scraped    26304 non-null float64\n",
      "dtypes: datetime64[ns](1), float64(1), int32(1), int64(4), object(2)\n",
      "memory usage: 1.9+ MB\n"
     ]
    }
   ],
   "source": [
    "building_dict[565].info()"
   ]
  },
  {
   "cell_type": "code",
   "execution_count": 93,
   "metadata": {},
   "outputs": [],
   "source": [
    "meter_columns = ['meter_reading_scraped']"
   ]
  },
  {
   "cell_type": "code",
   "execution_count": 94,
   "metadata": {},
   "outputs": [],
   "source": [
    "# For meter reading at each building, find average hourly value per season.\n",
    "# mean_df is a building specific dataframe containing all meter readings during a specific season at a specific hour.\n",
    "# means_dict keys contain info about the meter, season, and hour.  means_dict values are the averages for the values in the specified mean_df.\n",
    "\n",
    "def column_means(dataframe):\n",
    "    \n",
    "    means_dict = {}\n",
    "    \n",
    "    for feature in meter_columns:\n",
    "        for month in dataframe['Season'].unique():\n",
    "            for hour in dataframe['Hour'].unique():\n",
    "                mean_df = dataframe[['Season', 'Hour', feature]][(dataframe['Hour'] == hour) & (dataframe['Season'] == month)]\n",
    "                means_dict[feature, month, hour] = np.mean(mean_df[feature])\n",
    "               \n",
    "    return means_dict    \n",
    "        "
   ]
  },
  {
   "cell_type": "code",
   "execution_count": 95,
   "metadata": {},
   "outputs": [
    {
     "data": {
      "text/html": [
       "<div>\n",
       "<style scoped>\n",
       "    .dataframe tbody tr th:only-of-type {\n",
       "        vertical-align: middle;\n",
       "    }\n",
       "\n",
       "    .dataframe tbody tr th {\n",
       "        vertical-align: top;\n",
       "    }\n",
       "\n",
       "    .dataframe thead th {\n",
       "        text-align: right;\n",
       "    }\n",
       "</style>\n",
       "<table border=\"1\" class=\"dataframe\">\n",
       "  <thead>\n",
       "    <tr style=\"text-align: right;\">\n",
       "      <th></th>\n",
       "      <th>building_id</th>\n",
       "      <th>timestamp</th>\n",
       "      <th>Date</th>\n",
       "      <th>Year</th>\n",
       "      <th>Season</th>\n",
       "      <th>Month</th>\n",
       "      <th>Day</th>\n",
       "      <th>Hour</th>\n",
       "      <th>meter_reading_scraped</th>\n",
       "    </tr>\n",
       "  </thead>\n",
       "  <tbody>\n",
       "    <tr>\n",
       "      <td>0</td>\n",
       "      <td>565</td>\n",
       "      <td>2016-01-01 00:00:00</td>\n",
       "      <td>2016-01-01</td>\n",
       "      <td>2016</td>\n",
       "      <td>Winter</td>\n",
       "      <td>1</td>\n",
       "      <td>1</td>\n",
       "      <td>0</td>\n",
       "      <td>8.0</td>\n",
       "    </tr>\n",
       "    <tr>\n",
       "      <td>1</td>\n",
       "      <td>565</td>\n",
       "      <td>2016-01-01 01:00:00</td>\n",
       "      <td>2016-01-01</td>\n",
       "      <td>2016</td>\n",
       "      <td>Winter</td>\n",
       "      <td>1</td>\n",
       "      <td>1</td>\n",
       "      <td>1</td>\n",
       "      <td>7.0</td>\n",
       "    </tr>\n",
       "    <tr>\n",
       "      <td>2</td>\n",
       "      <td>565</td>\n",
       "      <td>2016-01-01 02:00:00</td>\n",
       "      <td>2016-01-01</td>\n",
       "      <td>2016</td>\n",
       "      <td>Winter</td>\n",
       "      <td>1</td>\n",
       "      <td>1</td>\n",
       "      <td>2</td>\n",
       "      <td>8.0</td>\n",
       "    </tr>\n",
       "    <tr>\n",
       "      <td>3</td>\n",
       "      <td>565</td>\n",
       "      <td>2016-01-01 03:00:00</td>\n",
       "      <td>2016-01-01</td>\n",
       "      <td>2016</td>\n",
       "      <td>Winter</td>\n",
       "      <td>1</td>\n",
       "      <td>1</td>\n",
       "      <td>3</td>\n",
       "      <td>8.0</td>\n",
       "    </tr>\n",
       "    <tr>\n",
       "      <td>4</td>\n",
       "      <td>565</td>\n",
       "      <td>2016-01-01 04:00:00</td>\n",
       "      <td>2016-01-01</td>\n",
       "      <td>2016</td>\n",
       "      <td>Winter</td>\n",
       "      <td>1</td>\n",
       "      <td>1</td>\n",
       "      <td>4</td>\n",
       "      <td>8.0</td>\n",
       "    </tr>\n",
       "    <tr>\n",
       "      <td>...</td>\n",
       "      <td>...</td>\n",
       "      <td>...</td>\n",
       "      <td>...</td>\n",
       "      <td>...</td>\n",
       "      <td>...</td>\n",
       "      <td>...</td>\n",
       "      <td>...</td>\n",
       "      <td>...</td>\n",
       "      <td>...</td>\n",
       "    </tr>\n",
       "    <tr>\n",
       "      <td>26299</td>\n",
       "      <td>565</td>\n",
       "      <td>2018-12-31 19:00:00</td>\n",
       "      <td>2018-12-31</td>\n",
       "      <td>2018</td>\n",
       "      <td>Winter</td>\n",
       "      <td>12</td>\n",
       "      <td>31</td>\n",
       "      <td>19</td>\n",
       "      <td>3.0</td>\n",
       "    </tr>\n",
       "    <tr>\n",
       "      <td>26300</td>\n",
       "      <td>565</td>\n",
       "      <td>2018-12-31 20:00:00</td>\n",
       "      <td>2018-12-31</td>\n",
       "      <td>2018</td>\n",
       "      <td>Winter</td>\n",
       "      <td>12</td>\n",
       "      <td>31</td>\n",
       "      <td>20</td>\n",
       "      <td>4.0</td>\n",
       "    </tr>\n",
       "    <tr>\n",
       "      <td>26301</td>\n",
       "      <td>565</td>\n",
       "      <td>2018-12-31 21:00:00</td>\n",
       "      <td>2018-12-31</td>\n",
       "      <td>2018</td>\n",
       "      <td>Winter</td>\n",
       "      <td>12</td>\n",
       "      <td>31</td>\n",
       "      <td>21</td>\n",
       "      <td>3.0</td>\n",
       "    </tr>\n",
       "    <tr>\n",
       "      <td>26302</td>\n",
       "      <td>565</td>\n",
       "      <td>2018-12-31 22:00:00</td>\n",
       "      <td>2018-12-31</td>\n",
       "      <td>2018</td>\n",
       "      <td>Winter</td>\n",
       "      <td>12</td>\n",
       "      <td>31</td>\n",
       "      <td>22</td>\n",
       "      <td>3.0</td>\n",
       "    </tr>\n",
       "    <tr>\n",
       "      <td>26303</td>\n",
       "      <td>565</td>\n",
       "      <td>2018-12-31 23:00:00</td>\n",
       "      <td>2018-12-31</td>\n",
       "      <td>2018</td>\n",
       "      <td>Winter</td>\n",
       "      <td>12</td>\n",
       "      <td>31</td>\n",
       "      <td>23</td>\n",
       "      <td>3.0</td>\n",
       "    </tr>\n",
       "  </tbody>\n",
       "</table>\n",
       "<p>26304 rows × 9 columns</p>\n",
       "</div>"
      ],
      "text/plain": [
       "       building_id           timestamp        Date  Year  Season  Month  Day  \\\n",
       "0              565 2016-01-01 00:00:00  2016-01-01  2016  Winter      1    1   \n",
       "1              565 2016-01-01 01:00:00  2016-01-01  2016  Winter      1    1   \n",
       "2              565 2016-01-01 02:00:00  2016-01-01  2016  Winter      1    1   \n",
       "3              565 2016-01-01 03:00:00  2016-01-01  2016  Winter      1    1   \n",
       "4              565 2016-01-01 04:00:00  2016-01-01  2016  Winter      1    1   \n",
       "...            ...                 ...         ...   ...     ...    ...  ...   \n",
       "26299          565 2018-12-31 19:00:00  2018-12-31  2018  Winter     12   31   \n",
       "26300          565 2018-12-31 20:00:00  2018-12-31  2018  Winter     12   31   \n",
       "26301          565 2018-12-31 21:00:00  2018-12-31  2018  Winter     12   31   \n",
       "26302          565 2018-12-31 22:00:00  2018-12-31  2018  Winter     12   31   \n",
       "26303          565 2018-12-31 23:00:00  2018-12-31  2018  Winter     12   31   \n",
       "\n",
       "       Hour  meter_reading_scraped  \n",
       "0         0                    8.0  \n",
       "1         1                    7.0  \n",
       "2         2                    8.0  \n",
       "3         3                    8.0  \n",
       "4         4                    8.0  \n",
       "...     ...                    ...  \n",
       "26299    19                    3.0  \n",
       "26300    20                    4.0  \n",
       "26301    21                    3.0  \n",
       "26302    22                    3.0  \n",
       "26303    23                    3.0  \n",
       "\n",
       "[26304 rows x 9 columns]"
      ]
     },
     "execution_count": 95,
     "metadata": {},
     "output_type": "execute_result"
    }
   ],
   "source": [
    "building_dict[565]"
   ]
  },
  {
   "cell_type": "code",
   "execution_count": 96,
   "metadata": {},
   "outputs": [],
   "source": [
    "# berkeley_means_dict contains all average meter reading values for each hour and season.\n",
    "# keys are the building, values are the average values.\n",
    "\n",
    "berkeley_means_dict = {}\n",
    "\n",
    "for i in building_list:\n",
    "    berkeley_means_dict[i] = column_means(building_dict[i])"
   ]
  },
  {
   "cell_type": "markdown",
   "metadata": {},
   "source": [
    "### Fill NaN values with appropriate mean values"
   ]
  },
  {
   "cell_type": "code",
   "execution_count": 97,
   "metadata": {},
   "outputs": [],
   "source": [
    "# Replace nan values with -100 so they can be called in the fill_na_means function.\n",
    "\n",
    "building_clean_dict = {}\n",
    "\n",
    "for i in building_list:\n",
    "    building_clean_dict[i] = building_dict[i].fillna(-100)"
   ]
  },
  {
   "cell_type": "code",
   "execution_count": 98,
   "metadata": {},
   "outputs": [
    {
     "data": {
      "text/html": [
       "<div>\n",
       "<style scoped>\n",
       "    .dataframe tbody tr th:only-of-type {\n",
       "        vertical-align: middle;\n",
       "    }\n",
       "\n",
       "    .dataframe tbody tr th {\n",
       "        vertical-align: top;\n",
       "    }\n",
       "\n",
       "    .dataframe thead th {\n",
       "        text-align: right;\n",
       "    }\n",
       "</style>\n",
       "<table border=\"1\" class=\"dataframe\">\n",
       "  <thead>\n",
       "    <tr style=\"text-align: right;\">\n",
       "      <th></th>\n",
       "      <th>building_id</th>\n",
       "      <th>timestamp</th>\n",
       "      <th>Date</th>\n",
       "      <th>Year</th>\n",
       "      <th>Season</th>\n",
       "      <th>Month</th>\n",
       "      <th>Day</th>\n",
       "      <th>Hour</th>\n",
       "      <th>meter_reading_scraped</th>\n",
       "    </tr>\n",
       "  </thead>\n",
       "  <tbody>\n",
       "    <tr>\n",
       "      <td>2505360</td>\n",
       "      <td>655</td>\n",
       "      <td>2016-01-01 00:00:00</td>\n",
       "      <td>2016-01-01</td>\n",
       "      <td>2016</td>\n",
       "      <td>Winter</td>\n",
       "      <td>1</td>\n",
       "      <td>1</td>\n",
       "      <td>0</td>\n",
       "      <td>67.0</td>\n",
       "    </tr>\n",
       "    <tr>\n",
       "      <td>2505361</td>\n",
       "      <td>655</td>\n",
       "      <td>2016-01-01 01:00:00</td>\n",
       "      <td>2016-01-01</td>\n",
       "      <td>2016</td>\n",
       "      <td>Winter</td>\n",
       "      <td>1</td>\n",
       "      <td>1</td>\n",
       "      <td>1</td>\n",
       "      <td>66.0</td>\n",
       "    </tr>\n",
       "    <tr>\n",
       "      <td>2505362</td>\n",
       "      <td>655</td>\n",
       "      <td>2016-01-01 02:00:00</td>\n",
       "      <td>2016-01-01</td>\n",
       "      <td>2016</td>\n",
       "      <td>Winter</td>\n",
       "      <td>1</td>\n",
       "      <td>1</td>\n",
       "      <td>2</td>\n",
       "      <td>66.0</td>\n",
       "    </tr>\n",
       "    <tr>\n",
       "      <td>2505363</td>\n",
       "      <td>655</td>\n",
       "      <td>2016-01-01 03:00:00</td>\n",
       "      <td>2016-01-01</td>\n",
       "      <td>2016</td>\n",
       "      <td>Winter</td>\n",
       "      <td>1</td>\n",
       "      <td>1</td>\n",
       "      <td>3</td>\n",
       "      <td>66.0</td>\n",
       "    </tr>\n",
       "    <tr>\n",
       "      <td>2505364</td>\n",
       "      <td>655</td>\n",
       "      <td>2016-01-01 04:00:00</td>\n",
       "      <td>2016-01-01</td>\n",
       "      <td>2016</td>\n",
       "      <td>Winter</td>\n",
       "      <td>1</td>\n",
       "      <td>1</td>\n",
       "      <td>4</td>\n",
       "      <td>64.0</td>\n",
       "    </tr>\n",
       "    <tr>\n",
       "      <td>...</td>\n",
       "      <td>...</td>\n",
       "      <td>...</td>\n",
       "      <td>...</td>\n",
       "      <td>...</td>\n",
       "      <td>...</td>\n",
       "      <td>...</td>\n",
       "      <td>...</td>\n",
       "      <td>...</td>\n",
       "      <td>...</td>\n",
       "    </tr>\n",
       "    <tr>\n",
       "      <td>2531659</td>\n",
       "      <td>655</td>\n",
       "      <td>2018-12-31 19:00:00</td>\n",
       "      <td>2018-12-31</td>\n",
       "      <td>2018</td>\n",
       "      <td>Winter</td>\n",
       "      <td>12</td>\n",
       "      <td>31</td>\n",
       "      <td>19</td>\n",
       "      <td>59.0</td>\n",
       "    </tr>\n",
       "    <tr>\n",
       "      <td>2531660</td>\n",
       "      <td>655</td>\n",
       "      <td>2018-12-31 20:00:00</td>\n",
       "      <td>2018-12-31</td>\n",
       "      <td>2018</td>\n",
       "      <td>Winter</td>\n",
       "      <td>12</td>\n",
       "      <td>31</td>\n",
       "      <td>20</td>\n",
       "      <td>57.0</td>\n",
       "    </tr>\n",
       "    <tr>\n",
       "      <td>2531661</td>\n",
       "      <td>655</td>\n",
       "      <td>2018-12-31 21:00:00</td>\n",
       "      <td>2018-12-31</td>\n",
       "      <td>2018</td>\n",
       "      <td>Winter</td>\n",
       "      <td>12</td>\n",
       "      <td>31</td>\n",
       "      <td>21</td>\n",
       "      <td>58.0</td>\n",
       "    </tr>\n",
       "    <tr>\n",
       "      <td>2531662</td>\n",
       "      <td>655</td>\n",
       "      <td>2018-12-31 22:00:00</td>\n",
       "      <td>2018-12-31</td>\n",
       "      <td>2018</td>\n",
       "      <td>Winter</td>\n",
       "      <td>12</td>\n",
       "      <td>31</td>\n",
       "      <td>22</td>\n",
       "      <td>58.0</td>\n",
       "    </tr>\n",
       "    <tr>\n",
       "      <td>2531663</td>\n",
       "      <td>655</td>\n",
       "      <td>2018-12-31 23:00:00</td>\n",
       "      <td>2018-12-31</td>\n",
       "      <td>2018</td>\n",
       "      <td>Winter</td>\n",
       "      <td>12</td>\n",
       "      <td>31</td>\n",
       "      <td>23</td>\n",
       "      <td>58.0</td>\n",
       "    </tr>\n",
       "  </tbody>\n",
       "</table>\n",
       "<p>26304 rows × 9 columns</p>\n",
       "</div>"
      ],
      "text/plain": [
       "         building_id           timestamp        Date  Year  Season  Month  \\\n",
       "2505360          655 2016-01-01 00:00:00  2016-01-01  2016  Winter      1   \n",
       "2505361          655 2016-01-01 01:00:00  2016-01-01  2016  Winter      1   \n",
       "2505362          655 2016-01-01 02:00:00  2016-01-01  2016  Winter      1   \n",
       "2505363          655 2016-01-01 03:00:00  2016-01-01  2016  Winter      1   \n",
       "2505364          655 2016-01-01 04:00:00  2016-01-01  2016  Winter      1   \n",
       "...              ...                 ...         ...   ...     ...    ...   \n",
       "2531659          655 2018-12-31 19:00:00  2018-12-31  2018  Winter     12   \n",
       "2531660          655 2018-12-31 20:00:00  2018-12-31  2018  Winter     12   \n",
       "2531661          655 2018-12-31 21:00:00  2018-12-31  2018  Winter     12   \n",
       "2531662          655 2018-12-31 22:00:00  2018-12-31  2018  Winter     12   \n",
       "2531663          655 2018-12-31 23:00:00  2018-12-31  2018  Winter     12   \n",
       "\n",
       "         Day  Hour  meter_reading_scraped  \n",
       "2505360    1     0                   67.0  \n",
       "2505361    1     1                   66.0  \n",
       "2505362    1     2                   66.0  \n",
       "2505363    1     3                   66.0  \n",
       "2505364    1     4                   64.0  \n",
       "...      ...   ...                    ...  \n",
       "2531659   31    19                   59.0  \n",
       "2531660   31    20                   57.0  \n",
       "2531661   31    21                   58.0  \n",
       "2531662   31    22                   58.0  \n",
       "2531663   31    23                   58.0  \n",
       "\n",
       "[26304 rows x 9 columns]"
      ]
     },
     "execution_count": 98,
     "metadata": {},
     "output_type": "execute_result"
    }
   ],
   "source": [
    "building_clean_dict[655]"
   ]
  },
  {
   "cell_type": "code",
   "execution_count": 99,
   "metadata": {},
   "outputs": [],
   "source": [
    "# For each nan value (now -100), match its index with the corresponding average value.\n",
    "\n",
    "def fill_na_means(dataframe, means_dict):\n",
    "    \n",
    "    means_list = []\n",
    "    \n",
    "    for index, rows in dataframe.iterrows():\n",
    "        for feature in meter_columns:\n",
    "            for month in dataframe['Season'].unique():\n",
    "                for hour in dataframe['Hour'].unique():\n",
    "                    if rows['Season'] == month:\n",
    "                        if rows['Hour'] == hour:\n",
    "                            if rows[feature] == -100:\n",
    "                                means_list.append((index, feature, means_dict[feature, month, hour]))\n",
    "    \n",
    "    return means_list"
   ]
  },
  {
   "cell_type": "code",
   "execution_count": 100,
   "metadata": {},
   "outputs": [],
   "source": [
    "# means_ind_dict contains all values in each column that are replaced nan values.\n",
    "# means_ind_dict keys are building number, values are lists of tuples containing the index of the value and the average meter reading value.\n",
    "\n",
    "means_ind_dict = {}\n",
    "\n",
    "for i in building_list:\n",
    "    means_ind_dict[i] = fill_na_means(building_clean_dict[i], berkeley_means_dict[i])"
   ]
  },
  {
   "cell_type": "code",
   "execution_count": 101,
   "metadata": {},
   "outputs": [],
   "source": [
    "# for index, rows in weather_df.iterrows():\n",
    "#     for keys, values in means_ind_dict.items():\n",
    "#         if index == values[0] and rows == values[1]:\n",
    "#             rows[values1] = rows[values1].replace(values[2], inplace = True)\n"
   ]
  },
  {
   "cell_type": "code",
   "execution_count": 102,
   "metadata": {},
   "outputs": [],
   "source": [
    "# Separate means_ind_dict into lists for each measurement.  Lists will contain index and average values.\n",
    "\n",
    "meter_reading_list = []\n",
    "\n",
    "for keys, values in means_ind_dict.items():\n",
    "    for mean in values:\n",
    "        if mean[1] == 'meter_reading_scraped':\n",
    "            meter_reading_list.append([mean[0], mean[2]])         \n",
    "    "
   ]
  },
  {
   "cell_type": "code",
   "execution_count": 103,
   "metadata": {},
   "outputs": [],
   "source": [
    "# Convert each list into a series (with index intact) and combine into mean_series_dict\n",
    "# so that each series can be called into berkeley_df.\n",
    "# mean_series_dict keys correspond to the meter_reading_list, values correspond to \n",
    "# average values that replaced nan values.\n",
    "\n",
    "means_list = [meter_reading_list]\n",
    "\n",
    "mean_series_dict = {}\n",
    "\n",
    "for index, lists in enumerate(means_list):\n",
    "    mean_series_dict[index] = pd.Series([i[1] for i in lists], index = [i[0] for i in lists])\n",
    "    "
   ]
  },
  {
   "cell_type": "code",
   "execution_count": 104,
   "metadata": {},
   "outputs": [
    {
     "name": "stderr",
     "output_type": "stream",
     "text": [
      "/Users/andrewgraves/anaconda3/envs/metis/lib/python3.6/site-packages/ipykernel_launcher.py:4: SettingWithCopyWarning: \n",
      "A value is trying to be set on a copy of a slice from a DataFrame.\n",
      "Try using .loc[row_indexer,col_indexer] = value instead\n",
      "\n",
      "See the caveats in the documentation: http://pandas.pydata.org/pandas-docs/stable/user_guide/indexing.html#returning-a-view-versus-a-copy\n",
      "  after removing the cwd from sys.path.\n"
     ]
    }
   ],
   "source": [
    "# Create new column in berkeley_df for each mean series in mean_series_dict\n",
    "# (with index intact).\n",
    "\n",
    "berkeley_df[meter_columns[0] + '_mean'] = mean_series_dict[0]"
   ]
  },
  {
   "cell_type": "code",
   "execution_count": 105,
   "metadata": {},
   "outputs": [
    {
     "name": "stdout",
     "output_type": "stream",
     "text": [
      "<class 'pandas.core.frame.DataFrame'>\n",
      "Int64Index: 1946496 entries, 0 to 2531663\n",
      "Data columns (total 10 columns):\n",
      "building_id                   int32\n",
      "timestamp                     datetime64[ns]\n",
      "Date                          object\n",
      "Year                          int64\n",
      "Season                        object\n",
      "Month                         int64\n",
      "Day                           int64\n",
      "Hour                          int64\n",
      "meter_reading_scraped         float64\n",
      "meter_reading_scraped_mean    float64\n",
      "dtypes: datetime64[ns](1), float64(2), int32(1), int64(4), object(2)\n",
      "memory usage: 155.9+ MB\n"
     ]
    }
   ],
   "source": [
    "berkeley_df.info()"
   ]
  },
  {
   "cell_type": "code",
   "execution_count": 106,
   "metadata": {},
   "outputs": [
    {
     "name": "stderr",
     "output_type": "stream",
     "text": [
      "/Users/andrewgraves/anaconda3/envs/metis/lib/python3.6/site-packages/ipykernel_launcher.py:4: SettingWithCopyWarning: \n",
      "A value is trying to be set on a copy of a slice from a DataFrame.\n",
      "Try using .loc[row_indexer,col_indexer] = value instead\n",
      "\n",
      "See the caveats in the documentation: http://pandas.pydata.org/pandas-docs/stable/user_guide/indexing.html#returning-a-view-versus-a-copy\n",
      "  after removing the cwd from sys.path.\n"
     ]
    }
   ],
   "source": [
    "# Replace nan values in berkeley_df with average values from corresponding mean columns. \n",
    "\n",
    "for feature in meter_columns:\n",
    "    berkeley_df[feature] = berkeley_df[feature].fillna(berkeley_df[feature + '_mean'])\n",
    "    "
   ]
  },
  {
   "cell_type": "code",
   "execution_count": 108,
   "metadata": {},
   "outputs": [],
   "source": [
    "# Remove mean columns from berkeley_df.\n",
    "\n",
    "del berkeley_df['meter_reading_scraped_mean']"
   ]
  },
  {
   "cell_type": "code",
   "execution_count": 109,
   "metadata": {},
   "outputs": [
    {
     "name": "stdout",
     "output_type": "stream",
     "text": [
      "<class 'pandas.core.frame.DataFrame'>\n",
      "Int64Index: 1946496 entries, 0 to 2531663\n",
      "Data columns (total 9 columns):\n",
      "building_id              int32\n",
      "timestamp                datetime64[ns]\n",
      "Date                     object\n",
      "Year                     int64\n",
      "Season                   object\n",
      "Month                    int64\n",
      "Day                      int64\n",
      "Hour                     int64\n",
      "meter_reading_scraped    float64\n",
      "dtypes: datetime64[ns](1), float64(1), int32(1), int64(4), object(2)\n",
      "memory usage: 141.1+ MB\n"
     ]
    }
   ],
   "source": [
    "berkeley_df.info()"
   ]
  },
  {
   "cell_type": "code",
   "execution_count": 111,
   "metadata": {},
   "outputs": [],
   "source": [
    "# with open('berkeley18_clean.pkl', 'wb') as to_write:\n",
    "#     pickle.dump(berkeley_df, to_write)"
   ]
  },
  {
   "cell_type": "markdown",
   "metadata": {},
   "source": [
    "### Fill in 2019 NaNs with 2016-2018 means"
   ]
  },
  {
   "cell_type": "code",
   "execution_count": 120,
   "metadata": {},
   "outputs": [],
   "source": [
    "with open('berkeley_part_clean2.pkl','rb') as read_file:\n",
    "    berkeley19_df = pickle.load(read_file)"
   ]
  },
  {
   "cell_type": "code",
   "execution_count": 121,
   "metadata": {},
   "outputs": [],
   "source": [
    "berkeley19_df = berkeley19_df[berkeley19_df['Year'] > 2018]"
   ]
  },
  {
   "cell_type": "code",
   "execution_count": 134,
   "metadata": {},
   "outputs": [
    {
     "data": {
      "text/html": [
       "<div>\n",
       "<style scoped>\n",
       "    .dataframe tbody tr th:only-of-type {\n",
       "        vertical-align: middle;\n",
       "    }\n",
       "\n",
       "    .dataframe tbody tr th {\n",
       "        vertical-align: top;\n",
       "    }\n",
       "\n",
       "    .dataframe thead th {\n",
       "        text-align: right;\n",
       "    }\n",
       "</style>\n",
       "<table border=\"1\" class=\"dataframe\">\n",
       "  <thead>\n",
       "    <tr style=\"text-align: right;\">\n",
       "      <th></th>\n",
       "      <th>building_id</th>\n",
       "      <th>timestamp</th>\n",
       "      <th>Date</th>\n",
       "      <th>Year</th>\n",
       "      <th>Season</th>\n",
       "      <th>Month</th>\n",
       "      <th>Day</th>\n",
       "      <th>Hour</th>\n",
       "      <th>meter_reading_scraped</th>\n",
       "    </tr>\n",
       "  </thead>\n",
       "  <tbody>\n",
       "    <tr>\n",
       "      <td>99862</td>\n",
       "      <td>568</td>\n",
       "      <td>2019-07-24 23:00:00</td>\n",
       "      <td>2019-07-24</td>\n",
       "      <td>2019</td>\n",
       "      <td>Summer</td>\n",
       "      <td>7</td>\n",
       "      <td>24</td>\n",
       "      <td>23</td>\n",
       "      <td>NaN</td>\n",
       "    </tr>\n",
       "    <tr>\n",
       "      <td>99863</td>\n",
       "      <td>568</td>\n",
       "      <td>2019-07-25 00:00:00</td>\n",
       "      <td>2019-07-25</td>\n",
       "      <td>2019</td>\n",
       "      <td>Summer</td>\n",
       "      <td>7</td>\n",
       "      <td>25</td>\n",
       "      <td>0</td>\n",
       "      <td>NaN</td>\n",
       "    </tr>\n",
       "    <tr>\n",
       "      <td>101151</td>\n",
       "      <td>568</td>\n",
       "      <td>2019-09-16 16:00:00</td>\n",
       "      <td>2019-09-16</td>\n",
       "      <td>2019</td>\n",
       "      <td>Fall</td>\n",
       "      <td>9</td>\n",
       "      <td>16</td>\n",
       "      <td>16</td>\n",
       "      <td>NaN</td>\n",
       "    </tr>\n",
       "    <tr>\n",
       "      <td>101152</td>\n",
       "      <td>568</td>\n",
       "      <td>2019-09-16 17:00:00</td>\n",
       "      <td>2019-09-16</td>\n",
       "      <td>2019</td>\n",
       "      <td>Fall</td>\n",
       "      <td>9</td>\n",
       "      <td>16</td>\n",
       "      <td>17</td>\n",
       "      <td>NaN</td>\n",
       "    </tr>\n",
       "    <tr>\n",
       "      <td>101153</td>\n",
       "      <td>568</td>\n",
       "      <td>2019-09-16 18:00:00</td>\n",
       "      <td>2019-09-16</td>\n",
       "      <td>2019</td>\n",
       "      <td>Fall</td>\n",
       "      <td>9</td>\n",
       "      <td>16</td>\n",
       "      <td>18</td>\n",
       "      <td>NaN</td>\n",
       "    </tr>\n",
       "    <tr>\n",
       "      <td>...</td>\n",
       "      <td>...</td>\n",
       "      <td>...</td>\n",
       "      <td>...</td>\n",
       "      <td>...</td>\n",
       "      <td>...</td>\n",
       "      <td>...</td>\n",
       "      <td>...</td>\n",
       "      <td>...</td>\n",
       "      <td>...</td>\n",
       "    </tr>\n",
       "    <tr>\n",
       "      <td>2291528</td>\n",
       "      <td>644</td>\n",
       "      <td>2019-01-05 08:00:00</td>\n",
       "      <td>2019-01-05</td>\n",
       "      <td>2019</td>\n",
       "      <td>Winter</td>\n",
       "      <td>1</td>\n",
       "      <td>5</td>\n",
       "      <td>8</td>\n",
       "      <td>NaN</td>\n",
       "    </tr>\n",
       "    <tr>\n",
       "      <td>2291529</td>\n",
       "      <td>644</td>\n",
       "      <td>2019-01-05 09:00:00</td>\n",
       "      <td>2019-01-05</td>\n",
       "      <td>2019</td>\n",
       "      <td>Winter</td>\n",
       "      <td>1</td>\n",
       "      <td>5</td>\n",
       "      <td>9</td>\n",
       "      <td>NaN</td>\n",
       "    </tr>\n",
       "    <tr>\n",
       "      <td>2291530</td>\n",
       "      <td>644</td>\n",
       "      <td>2019-01-05 10:00:00</td>\n",
       "      <td>2019-01-05</td>\n",
       "      <td>2019</td>\n",
       "      <td>Winter</td>\n",
       "      <td>1</td>\n",
       "      <td>5</td>\n",
       "      <td>10</td>\n",
       "      <td>NaN</td>\n",
       "    </tr>\n",
       "    <tr>\n",
       "      <td>2291531</td>\n",
       "      <td>644</td>\n",
       "      <td>2019-01-05 11:00:00</td>\n",
       "      <td>2019-01-05</td>\n",
       "      <td>2019</td>\n",
       "      <td>Winter</td>\n",
       "      <td>1</td>\n",
       "      <td>5</td>\n",
       "      <td>11</td>\n",
       "      <td>NaN</td>\n",
       "    </tr>\n",
       "    <tr>\n",
       "      <td>2291532</td>\n",
       "      <td>644</td>\n",
       "      <td>2019-01-05 12:00:00</td>\n",
       "      <td>2019-01-05</td>\n",
       "      <td>2019</td>\n",
       "      <td>Winter</td>\n",
       "      <td>1</td>\n",
       "      <td>5</td>\n",
       "      <td>12</td>\n",
       "      <td>NaN</td>\n",
       "    </tr>\n",
       "  </tbody>\n",
       "</table>\n",
       "<p>14848 rows × 9 columns</p>\n",
       "</div>"
      ],
      "text/plain": [
       "         building_id           timestamp        Date  Year  Season  Month  \\\n",
       "99862            568 2019-07-24 23:00:00  2019-07-24  2019  Summer      7   \n",
       "99863            568 2019-07-25 00:00:00  2019-07-25  2019  Summer      7   \n",
       "101151           568 2019-09-16 16:00:00  2019-09-16  2019    Fall      9   \n",
       "101152           568 2019-09-16 17:00:00  2019-09-16  2019    Fall      9   \n",
       "101153           568 2019-09-16 18:00:00  2019-09-16  2019    Fall      9   \n",
       "...              ...                 ...         ...   ...     ...    ...   \n",
       "2291528          644 2019-01-05 08:00:00  2019-01-05  2019  Winter      1   \n",
       "2291529          644 2019-01-05 09:00:00  2019-01-05  2019  Winter      1   \n",
       "2291530          644 2019-01-05 10:00:00  2019-01-05  2019  Winter      1   \n",
       "2291531          644 2019-01-05 11:00:00  2019-01-05  2019  Winter      1   \n",
       "2291532          644 2019-01-05 12:00:00  2019-01-05  2019  Winter      1   \n",
       "\n",
       "         Day  Hour  meter_reading_scraped  \n",
       "99862     24    23                    NaN  \n",
       "99863     25     0                    NaN  \n",
       "101151    16    16                    NaN  \n",
       "101152    16    17                    NaN  \n",
       "101153    16    18                    NaN  \n",
       "...      ...   ...                    ...  \n",
       "2291528    5     8                    NaN  \n",
       "2291529    5     9                    NaN  \n",
       "2291530    5    10                    NaN  \n",
       "2291531    5    11                    NaN  \n",
       "2291532    5    12                    NaN  \n",
       "\n",
       "[14848 rows x 9 columns]"
      ]
     },
     "execution_count": 134,
     "metadata": {},
     "output_type": "execute_result"
    }
   ],
   "source": [
    "berkeley19_df[berkeley19_df['meter_reading_scraped'].isna() == True]\n"
   ]
  },
  {
   "cell_type": "code",
   "execution_count": 124,
   "metadata": {},
   "outputs": [],
   "source": [
    "# building_dict key: building number\n",
    "# building_dict value: buidling's berkeley dataframe\n",
    "\n",
    "building19_dict = {}\n",
    "\n",
    "for i in building_list:\n",
    "    building19_dict[i] = building_df_separator(berkeley19_df, i)"
   ]
  },
  {
   "cell_type": "code",
   "execution_count": 125,
   "metadata": {},
   "outputs": [],
   "source": [
    "# Replace nan values with -100 so they can be called in the fill_na_means function.\n",
    "\n",
    "building19_clean_dict = {}\n",
    "\n",
    "for i in building_list:\n",
    "    building19_clean_dict[i] = building19_dict[i].fillna(-100)"
   ]
  },
  {
   "cell_type": "code",
   "execution_count": 126,
   "metadata": {},
   "outputs": [],
   "source": [
    "# means_ind_dict contains all values in each column that are replaced nan values.\n",
    "# means_ind_dict keys are building number, values are lists of tuples containing the index of the value and the average meter reading value.\n",
    "\n",
    "means19_ind_dict = {}\n",
    "\n",
    "for i in building_list:\n",
    "    means19_ind_dict[i] = fill_na_means(building19_clean_dict[i], berkeley_means_dict[i])"
   ]
  },
  {
   "cell_type": "code",
   "execution_count": 136,
   "metadata": {},
   "outputs": [
    {
     "data": {
      "text/plain": [
       "[(2291528, 'meter_reading_scraped', 232.1798139114391),\n",
       " (2291529, 'meter_reading_scraped', 240.53322487084873),\n",
       " (2291530, 'meter_reading_scraped', 246.98028741697416),\n",
       " (2291531, 'meter_reading_scraped', 250.8452871851852),\n",
       " (2291532, 'meter_reading_scraped', 253.3319639483395)]"
      ]
     },
     "execution_count": 136,
     "metadata": {},
     "output_type": "execute_result"
    }
   ],
   "source": [
    "means19_ind_dict[644]"
   ]
  },
  {
   "cell_type": "code",
   "execution_count": 127,
   "metadata": {},
   "outputs": [],
   "source": [
    "# Separate means_ind_dict into lists for each measurement.  Lists will contain index and average values.\n",
    "\n",
    "meter19_reading_list = []\n",
    "\n",
    "for keys, values in means19_ind_dict.items():\n",
    "    for mean in values:\n",
    "        if mean[1] == 'meter_reading_scraped':\n",
    "            meter19_reading_list.append([mean[0], mean[2]])         \n",
    "    "
   ]
  },
  {
   "cell_type": "code",
   "execution_count": 138,
   "metadata": {},
   "outputs": [
    {
     "data": {
      "text/plain": [
       "14848"
      ]
     },
     "execution_count": 138,
     "metadata": {},
     "output_type": "execute_result"
    }
   ],
   "source": [
    "len(meter19_reading_list)"
   ]
  },
  {
   "cell_type": "code",
   "execution_count": 139,
   "metadata": {},
   "outputs": [],
   "source": [
    "# Convert each list into a series (with index intact) and combine into mean_series_dict\n",
    "# so that each series can be called into berkeley19_df.\n",
    "# mean19_series_dict keys correspond to the meter_reading_list, values correspond to \n",
    "# average values that replaced nan values.\n",
    "\n",
    "means_list = [meter19_reading_list]\n",
    "\n",
    "mean19_series_dict = {}\n",
    "\n",
    "for index, lists in enumerate(means_list):\n",
    "    mean19_series_dict[index] = pd.Series([i[1] for i in lists], index = [i[0] for i in lists])\n",
    "    "
   ]
  },
  {
   "cell_type": "code",
   "execution_count": 140,
   "metadata": {},
   "outputs": [],
   "source": [
    "# Create new column in berkeley19_df for each mean series in mean19_series_dict\n",
    "# (with index intact).\n",
    "\n",
    "berkeley19_df[meter_columns[0] + '_mean'] = mean19_series_dict[0]"
   ]
  },
  {
   "cell_type": "code",
   "execution_count": 141,
   "metadata": {},
   "outputs": [
    {
     "name": "stdout",
     "output_type": "stream",
     "text": [
      "<class 'pandas.core.frame.DataFrame'>\n",
      "Int64Index: 593184 entries, 26304 to 2539679\n",
      "Data columns (total 10 columns):\n",
      "building_id                   593184 non-null int32\n",
      "timestamp                     593184 non-null datetime64[ns]\n",
      "Date                          593184 non-null object\n",
      "Year                          593184 non-null int64\n",
      "Season                        593184 non-null object\n",
      "Month                         593184 non-null int64\n",
      "Day                           593184 non-null int64\n",
      "Hour                          593184 non-null int64\n",
      "meter_reading_scraped         578336 non-null float64\n",
      "meter_reading_scraped_mean    14848 non-null float64\n",
      "dtypes: datetime64[ns](1), float64(2), int32(1), int64(4), object(2)\n",
      "memory usage: 47.5+ MB\n"
     ]
    }
   ],
   "source": [
    "berkeley19_df.info()"
   ]
  },
  {
   "cell_type": "code",
   "execution_count": 142,
   "metadata": {},
   "outputs": [],
   "source": [
    "# Replace nan values in berkeley19_df with average values from corresponding mean columns. \n",
    "\n",
    "for feature in meter_columns:\n",
    "    berkeley19_df[feature] = berkeley19_df[feature].fillna(berkeley19_df[feature + '_mean'])\n",
    "    "
   ]
  },
  {
   "cell_type": "code",
   "execution_count": 143,
   "metadata": {},
   "outputs": [],
   "source": [
    "# Remove mean columns from berkeley19_df.\n",
    "\n",
    "del berkeley19_df['meter_reading_scraped_mean']"
   ]
  },
  {
   "cell_type": "code",
   "execution_count": 144,
   "metadata": {},
   "outputs": [
    {
     "data": {
      "text/plain": [
       "False    593184\n",
       "Name: meter_reading_scraped, dtype: int64"
      ]
     },
     "execution_count": 144,
     "metadata": {},
     "output_type": "execute_result"
    }
   ],
   "source": [
    "berkeley19_df.meter_reading_scraped.isna().value_counts()"
   ]
  },
  {
   "cell_type": "markdown",
   "metadata": {},
   "source": [
    "### Append berkeley19_df to rest of berkeley_df"
   ]
  },
  {
   "cell_type": "code",
   "execution_count": 145,
   "metadata": {},
   "outputs": [],
   "source": [
    "with open('berkeley18_clean.pkl','rb') as read_file:\n",
    "    berkeley18_df = pickle.load(read_file)"
   ]
  },
  {
   "cell_type": "code",
   "execution_count": 146,
   "metadata": {},
   "outputs": [
    {
     "data": {
      "text/html": [
       "<div>\n",
       "<style scoped>\n",
       "    .dataframe tbody tr th:only-of-type {\n",
       "        vertical-align: middle;\n",
       "    }\n",
       "\n",
       "    .dataframe tbody tr th {\n",
       "        vertical-align: top;\n",
       "    }\n",
       "\n",
       "    .dataframe thead th {\n",
       "        text-align: right;\n",
       "    }\n",
       "</style>\n",
       "<table border=\"1\" class=\"dataframe\">\n",
       "  <thead>\n",
       "    <tr style=\"text-align: right;\">\n",
       "      <th></th>\n",
       "      <th>building_id</th>\n",
       "      <th>timestamp</th>\n",
       "      <th>Date</th>\n",
       "      <th>Year</th>\n",
       "      <th>Season</th>\n",
       "      <th>Month</th>\n",
       "      <th>Day</th>\n",
       "      <th>Hour</th>\n",
       "      <th>meter_reading_scraped</th>\n",
       "    </tr>\n",
       "  </thead>\n",
       "  <tbody>\n",
       "    <tr>\n",
       "      <td>0</td>\n",
       "      <td>565</td>\n",
       "      <td>2016-01-01 00:00:00</td>\n",
       "      <td>2016-01-01</td>\n",
       "      <td>2016</td>\n",
       "      <td>Winter</td>\n",
       "      <td>1</td>\n",
       "      <td>1</td>\n",
       "      <td>0</td>\n",
       "      <td>8.0</td>\n",
       "    </tr>\n",
       "    <tr>\n",
       "      <td>1</td>\n",
       "      <td>565</td>\n",
       "      <td>2016-01-01 01:00:00</td>\n",
       "      <td>2016-01-01</td>\n",
       "      <td>2016</td>\n",
       "      <td>Winter</td>\n",
       "      <td>1</td>\n",
       "      <td>1</td>\n",
       "      <td>1</td>\n",
       "      <td>7.0</td>\n",
       "    </tr>\n",
       "    <tr>\n",
       "      <td>2</td>\n",
       "      <td>565</td>\n",
       "      <td>2016-01-01 02:00:00</td>\n",
       "      <td>2016-01-01</td>\n",
       "      <td>2016</td>\n",
       "      <td>Winter</td>\n",
       "      <td>1</td>\n",
       "      <td>1</td>\n",
       "      <td>2</td>\n",
       "      <td>8.0</td>\n",
       "    </tr>\n",
       "    <tr>\n",
       "      <td>3</td>\n",
       "      <td>565</td>\n",
       "      <td>2016-01-01 03:00:00</td>\n",
       "      <td>2016-01-01</td>\n",
       "      <td>2016</td>\n",
       "      <td>Winter</td>\n",
       "      <td>1</td>\n",
       "      <td>1</td>\n",
       "      <td>3</td>\n",
       "      <td>8.0</td>\n",
       "    </tr>\n",
       "    <tr>\n",
       "      <td>4</td>\n",
       "      <td>565</td>\n",
       "      <td>2016-01-01 04:00:00</td>\n",
       "      <td>2016-01-01</td>\n",
       "      <td>2016</td>\n",
       "      <td>Winter</td>\n",
       "      <td>1</td>\n",
       "      <td>1</td>\n",
       "      <td>4</td>\n",
       "      <td>8.0</td>\n",
       "    </tr>\n",
       "    <tr>\n",
       "      <td>...</td>\n",
       "      <td>...</td>\n",
       "      <td>...</td>\n",
       "      <td>...</td>\n",
       "      <td>...</td>\n",
       "      <td>...</td>\n",
       "      <td>...</td>\n",
       "      <td>...</td>\n",
       "      <td>...</td>\n",
       "      <td>...</td>\n",
       "    </tr>\n",
       "    <tr>\n",
       "      <td>2531659</td>\n",
       "      <td>655</td>\n",
       "      <td>2018-12-31 19:00:00</td>\n",
       "      <td>2018-12-31</td>\n",
       "      <td>2018</td>\n",
       "      <td>Winter</td>\n",
       "      <td>12</td>\n",
       "      <td>31</td>\n",
       "      <td>19</td>\n",
       "      <td>59.0</td>\n",
       "    </tr>\n",
       "    <tr>\n",
       "      <td>2531660</td>\n",
       "      <td>655</td>\n",
       "      <td>2018-12-31 20:00:00</td>\n",
       "      <td>2018-12-31</td>\n",
       "      <td>2018</td>\n",
       "      <td>Winter</td>\n",
       "      <td>12</td>\n",
       "      <td>31</td>\n",
       "      <td>20</td>\n",
       "      <td>57.0</td>\n",
       "    </tr>\n",
       "    <tr>\n",
       "      <td>2531661</td>\n",
       "      <td>655</td>\n",
       "      <td>2018-12-31 21:00:00</td>\n",
       "      <td>2018-12-31</td>\n",
       "      <td>2018</td>\n",
       "      <td>Winter</td>\n",
       "      <td>12</td>\n",
       "      <td>31</td>\n",
       "      <td>21</td>\n",
       "      <td>58.0</td>\n",
       "    </tr>\n",
       "    <tr>\n",
       "      <td>2531662</td>\n",
       "      <td>655</td>\n",
       "      <td>2018-12-31 22:00:00</td>\n",
       "      <td>2018-12-31</td>\n",
       "      <td>2018</td>\n",
       "      <td>Winter</td>\n",
       "      <td>12</td>\n",
       "      <td>31</td>\n",
       "      <td>22</td>\n",
       "      <td>58.0</td>\n",
       "    </tr>\n",
       "    <tr>\n",
       "      <td>2531663</td>\n",
       "      <td>655</td>\n",
       "      <td>2018-12-31 23:00:00</td>\n",
       "      <td>2018-12-31</td>\n",
       "      <td>2018</td>\n",
       "      <td>Winter</td>\n",
       "      <td>12</td>\n",
       "      <td>31</td>\n",
       "      <td>23</td>\n",
       "      <td>58.0</td>\n",
       "    </tr>\n",
       "  </tbody>\n",
       "</table>\n",
       "<p>1946496 rows × 9 columns</p>\n",
       "</div>"
      ],
      "text/plain": [
       "         building_id           timestamp        Date  Year  Season  Month  \\\n",
       "0                565 2016-01-01 00:00:00  2016-01-01  2016  Winter      1   \n",
       "1                565 2016-01-01 01:00:00  2016-01-01  2016  Winter      1   \n",
       "2                565 2016-01-01 02:00:00  2016-01-01  2016  Winter      1   \n",
       "3                565 2016-01-01 03:00:00  2016-01-01  2016  Winter      1   \n",
       "4                565 2016-01-01 04:00:00  2016-01-01  2016  Winter      1   \n",
       "...              ...                 ...         ...   ...     ...    ...   \n",
       "2531659          655 2018-12-31 19:00:00  2018-12-31  2018  Winter     12   \n",
       "2531660          655 2018-12-31 20:00:00  2018-12-31  2018  Winter     12   \n",
       "2531661          655 2018-12-31 21:00:00  2018-12-31  2018  Winter     12   \n",
       "2531662          655 2018-12-31 22:00:00  2018-12-31  2018  Winter     12   \n",
       "2531663          655 2018-12-31 23:00:00  2018-12-31  2018  Winter     12   \n",
       "\n",
       "         Day  Hour  meter_reading_scraped  \n",
       "0          1     0                    8.0  \n",
       "1          1     1                    7.0  \n",
       "2          1     2                    8.0  \n",
       "3          1     3                    8.0  \n",
       "4          1     4                    8.0  \n",
       "...      ...   ...                    ...  \n",
       "2531659   31    19                   59.0  \n",
       "2531660   31    20                   57.0  \n",
       "2531661   31    21                   58.0  \n",
       "2531662   31    22                   58.0  \n",
       "2531663   31    23                   58.0  \n",
       "\n",
       "[1946496 rows x 9 columns]"
      ]
     },
     "execution_count": 146,
     "metadata": {},
     "output_type": "execute_result"
    }
   ],
   "source": [
    "berkeley18_df"
   ]
  },
  {
   "cell_type": "code",
   "execution_count": 147,
   "metadata": {},
   "outputs": [],
   "source": [
    "berkeley_df = berkeley18_df.append(berkeley19_df)"
   ]
  },
  {
   "cell_type": "code",
   "execution_count": 149,
   "metadata": {},
   "outputs": [
    {
     "data": {
      "text/plain": [
       "False    2539680\n",
       "Name: meter_reading_scraped, dtype: int64"
      ]
     },
     "execution_count": 149,
     "metadata": {},
     "output_type": "execute_result"
    }
   ],
   "source": [
    "berkeley_df.meter_reading_scraped.isna().value_counts()"
   ]
  },
  {
   "cell_type": "markdown",
   "metadata": {},
   "source": [
    "## Check for Outliers with box plot"
   ]
  },
  {
   "cell_type": "code",
   "execution_count": 150,
   "metadata": {},
   "outputs": [],
   "source": [
    "berkeley_df = berkeley_df.sort_values(by=['building_id', 'timestamp']).reset_index(drop=True)"
   ]
  },
  {
   "cell_type": "code",
   "execution_count": 151,
   "metadata": {},
   "outputs": [
    {
     "data": {
      "text/html": [
       "<div>\n",
       "<style scoped>\n",
       "    .dataframe tbody tr th:only-of-type {\n",
       "        vertical-align: middle;\n",
       "    }\n",
       "\n",
       "    .dataframe tbody tr th {\n",
       "        vertical-align: top;\n",
       "    }\n",
       "\n",
       "    .dataframe thead th {\n",
       "        text-align: right;\n",
       "    }\n",
       "</style>\n",
       "<table border=\"1\" class=\"dataframe\">\n",
       "  <thead>\n",
       "    <tr style=\"text-align: right;\">\n",
       "      <th></th>\n",
       "      <th>building_id</th>\n",
       "      <th>timestamp</th>\n",
       "      <th>Date</th>\n",
       "      <th>Year</th>\n",
       "      <th>Season</th>\n",
       "      <th>Month</th>\n",
       "      <th>Day</th>\n",
       "      <th>Hour</th>\n",
       "      <th>meter_reading_scraped</th>\n",
       "    </tr>\n",
       "  </thead>\n",
       "  <tbody>\n",
       "    <tr>\n",
       "      <td>0</td>\n",
       "      <td>565</td>\n",
       "      <td>2016-01-01 00:00:00</td>\n",
       "      <td>2016-01-01</td>\n",
       "      <td>2016</td>\n",
       "      <td>Winter</td>\n",
       "      <td>1</td>\n",
       "      <td>1</td>\n",
       "      <td>0</td>\n",
       "      <td>8.0</td>\n",
       "    </tr>\n",
       "    <tr>\n",
       "      <td>1</td>\n",
       "      <td>565</td>\n",
       "      <td>2016-01-01 01:00:00</td>\n",
       "      <td>2016-01-01</td>\n",
       "      <td>2016</td>\n",
       "      <td>Winter</td>\n",
       "      <td>1</td>\n",
       "      <td>1</td>\n",
       "      <td>1</td>\n",
       "      <td>7.0</td>\n",
       "    </tr>\n",
       "    <tr>\n",
       "      <td>2</td>\n",
       "      <td>565</td>\n",
       "      <td>2016-01-01 02:00:00</td>\n",
       "      <td>2016-01-01</td>\n",
       "      <td>2016</td>\n",
       "      <td>Winter</td>\n",
       "      <td>1</td>\n",
       "      <td>1</td>\n",
       "      <td>2</td>\n",
       "      <td>8.0</td>\n",
       "    </tr>\n",
       "    <tr>\n",
       "      <td>3</td>\n",
       "      <td>565</td>\n",
       "      <td>2016-01-01 03:00:00</td>\n",
       "      <td>2016-01-01</td>\n",
       "      <td>2016</td>\n",
       "      <td>Winter</td>\n",
       "      <td>1</td>\n",
       "      <td>1</td>\n",
       "      <td>3</td>\n",
       "      <td>8.0</td>\n",
       "    </tr>\n",
       "    <tr>\n",
       "      <td>4</td>\n",
       "      <td>565</td>\n",
       "      <td>2016-01-01 04:00:00</td>\n",
       "      <td>2016-01-01</td>\n",
       "      <td>2016</td>\n",
       "      <td>Winter</td>\n",
       "      <td>1</td>\n",
       "      <td>1</td>\n",
       "      <td>4</td>\n",
       "      <td>8.0</td>\n",
       "    </tr>\n",
       "    <tr>\n",
       "      <td>...</td>\n",
       "      <td>...</td>\n",
       "      <td>...</td>\n",
       "      <td>...</td>\n",
       "      <td>...</td>\n",
       "      <td>...</td>\n",
       "      <td>...</td>\n",
       "      <td>...</td>\n",
       "      <td>...</td>\n",
       "      <td>...</td>\n",
       "    </tr>\n",
       "    <tr>\n",
       "      <td>2539675</td>\n",
       "      <td>655</td>\n",
       "      <td>2019-11-30 19:00:00</td>\n",
       "      <td>2019-11-30</td>\n",
       "      <td>2019</td>\n",
       "      <td>Fall</td>\n",
       "      <td>11</td>\n",
       "      <td>30</td>\n",
       "      <td>19</td>\n",
       "      <td>127.0</td>\n",
       "    </tr>\n",
       "    <tr>\n",
       "      <td>2539676</td>\n",
       "      <td>655</td>\n",
       "      <td>2019-11-30 20:00:00</td>\n",
       "      <td>2019-11-30</td>\n",
       "      <td>2019</td>\n",
       "      <td>Fall</td>\n",
       "      <td>11</td>\n",
       "      <td>30</td>\n",
       "      <td>20</td>\n",
       "      <td>125.0</td>\n",
       "    </tr>\n",
       "    <tr>\n",
       "      <td>2539677</td>\n",
       "      <td>655</td>\n",
       "      <td>2019-11-30 21:00:00</td>\n",
       "      <td>2019-11-30</td>\n",
       "      <td>2019</td>\n",
       "      <td>Fall</td>\n",
       "      <td>11</td>\n",
       "      <td>30</td>\n",
       "      <td>21</td>\n",
       "      <td>121.0</td>\n",
       "    </tr>\n",
       "    <tr>\n",
       "      <td>2539678</td>\n",
       "      <td>655</td>\n",
       "      <td>2019-11-30 22:00:00</td>\n",
       "      <td>2019-11-30</td>\n",
       "      <td>2019</td>\n",
       "      <td>Fall</td>\n",
       "      <td>11</td>\n",
       "      <td>30</td>\n",
       "      <td>22</td>\n",
       "      <td>123.0</td>\n",
       "    </tr>\n",
       "    <tr>\n",
       "      <td>2539679</td>\n",
       "      <td>655</td>\n",
       "      <td>2019-11-30 23:00:00</td>\n",
       "      <td>2019-11-30</td>\n",
       "      <td>2019</td>\n",
       "      <td>Fall</td>\n",
       "      <td>11</td>\n",
       "      <td>30</td>\n",
       "      <td>23</td>\n",
       "      <td>122.0</td>\n",
       "    </tr>\n",
       "  </tbody>\n",
       "</table>\n",
       "<p>2539680 rows × 9 columns</p>\n",
       "</div>"
      ],
      "text/plain": [
       "         building_id           timestamp        Date  Year  Season  Month  \\\n",
       "0                565 2016-01-01 00:00:00  2016-01-01  2016  Winter      1   \n",
       "1                565 2016-01-01 01:00:00  2016-01-01  2016  Winter      1   \n",
       "2                565 2016-01-01 02:00:00  2016-01-01  2016  Winter      1   \n",
       "3                565 2016-01-01 03:00:00  2016-01-01  2016  Winter      1   \n",
       "4                565 2016-01-01 04:00:00  2016-01-01  2016  Winter      1   \n",
       "...              ...                 ...         ...   ...     ...    ...   \n",
       "2539675          655 2019-11-30 19:00:00  2019-11-30  2019    Fall     11   \n",
       "2539676          655 2019-11-30 20:00:00  2019-11-30  2019    Fall     11   \n",
       "2539677          655 2019-11-30 21:00:00  2019-11-30  2019    Fall     11   \n",
       "2539678          655 2019-11-30 22:00:00  2019-11-30  2019    Fall     11   \n",
       "2539679          655 2019-11-30 23:00:00  2019-11-30  2019    Fall     11   \n",
       "\n",
       "         Day  Hour  meter_reading_scraped  \n",
       "0          1     0                    8.0  \n",
       "1          1     1                    7.0  \n",
       "2          1     2                    8.0  \n",
       "3          1     3                    8.0  \n",
       "4          1     4                    8.0  \n",
       "...      ...   ...                    ...  \n",
       "2539675   30    19                  127.0  \n",
       "2539676   30    20                  125.0  \n",
       "2539677   30    21                  121.0  \n",
       "2539678   30    22                  123.0  \n",
       "2539679   30    23                  122.0  \n",
       "\n",
       "[2539680 rows x 9 columns]"
      ]
     },
     "execution_count": 151,
     "metadata": {},
     "output_type": "execute_result"
    }
   ],
   "source": [
    "berkeley_df"
   ]
  },
  {
   "cell_type": "code",
   "execution_count": 152,
   "metadata": {},
   "outputs": [
    {
     "data": {
      "text/plain": [
       "<matplotlib.axes._subplots.AxesSubplot at 0x185014438>"
      ]
     },
     "execution_count": 152,
     "metadata": {},
     "output_type": "execute_result"
    },
    {
     "data": {
      "image/png": "[encoded data removed]",
      "text/plain": [
       "<Figure size 432x288 with 1 Axes>"
      ]
     },
     "metadata": {
      "needs_background": "light"
     },
     "output_type": "display_data"
    }
   ],
   "source": [
    "berkeley_df['meter_reading_scraped'].plot.box()"
   ]
  },
  {
   "cell_type": "code",
   "execution_count": 153,
   "metadata": {},
   "outputs": [],
   "source": [
    "meter_readings = berkeley_df['meter_reading_scraped']\n",
    "\n",
    "q25, q50, q75 = np.percentile(meter_readings, [25, 50, 75])\n",
    "iqr = q75 - q25\n",
    "\n",
    "min = q25 - 1.5*iqr\n",
    "max = q75 + 1.5*iqr"
   ]
  },
  {
   "cell_type": "code",
   "execution_count": 154,
   "metadata": {},
   "outputs": [],
   "source": [
    "outlier_index = []\n",
    "outlier_list = []\n",
    "\n",
    "for index, row in meter_readings.iteritems():\n",
    "    if row > max or row < min:\n",
    "        outlier_index.append(index)\n",
    "        outlier_list.append([index, row])"
   ]
  },
  {
   "cell_type": "code",
   "execution_count": 155,
   "metadata": {},
   "outputs": [
    {
     "data": {
      "text/plain": [
       "226176"
      ]
     },
     "execution_count": 155,
     "metadata": {},
     "output_type": "execute_result"
    }
   ],
   "source": [
    "len(outlier_list)"
   ]
  },
  {
   "cell_type": "markdown",
   "metadata": {},
   "source": [
    "### Biggest outlier occurs on 07/16/2019"
   ]
  },
  {
   "cell_type": "code",
   "execution_count": 156,
   "metadata": {},
   "outputs": [
    {
     "data": {
      "text/html": [
       "<div>\n",
       "<style scoped>\n",
       "    .dataframe tbody tr th:only-of-type {\n",
       "        vertical-align: middle;\n",
       "    }\n",
       "\n",
       "    .dataframe tbody tr th {\n",
       "        vertical-align: top;\n",
       "    }\n",
       "\n",
       "    .dataframe thead th {\n",
       "        text-align: right;\n",
       "    }\n",
       "</style>\n",
       "<table border=\"1\" class=\"dataframe\">\n",
       "  <thead>\n",
       "    <tr style=\"text-align: right;\">\n",
       "      <th></th>\n",
       "      <th>building_id</th>\n",
       "      <th>timestamp</th>\n",
       "      <th>Date</th>\n",
       "      <th>Year</th>\n",
       "      <th>Season</th>\n",
       "      <th>Month</th>\n",
       "      <th>Day</th>\n",
       "      <th>Hour</th>\n",
       "      <th>meter_reading_scraped</th>\n",
       "    </tr>\n",
       "  </thead>\n",
       "  <tbody>\n",
       "    <tr>\n",
       "      <td>117682</td>\n",
       "      <td>569</td>\n",
       "      <td>2017-09-05 11:00:00</td>\n",
       "      <td>2017-09-05</td>\n",
       "      <td>2017</td>\n",
       "      <td>Fall</td>\n",
       "      <td>9</td>\n",
       "      <td>5</td>\n",
       "      <td>11</td>\n",
       "      <td>520.0000</td>\n",
       "    </tr>\n",
       "    <tr>\n",
       "      <td>117683</td>\n",
       "      <td>569</td>\n",
       "      <td>2017-09-05 12:00:00</td>\n",
       "      <td>2017-09-05</td>\n",
       "      <td>2017</td>\n",
       "      <td>Fall</td>\n",
       "      <td>9</td>\n",
       "      <td>5</td>\n",
       "      <td>12</td>\n",
       "      <td>528.0000</td>\n",
       "    </tr>\n",
       "    <tr>\n",
       "      <td>117684</td>\n",
       "      <td>569</td>\n",
       "      <td>2017-09-05 13:00:00</td>\n",
       "      <td>2017-09-05</td>\n",
       "      <td>2017</td>\n",
       "      <td>Fall</td>\n",
       "      <td>9</td>\n",
       "      <td>5</td>\n",
       "      <td>13</td>\n",
       "      <td>531.0000</td>\n",
       "    </tr>\n",
       "    <tr>\n",
       "      <td>117685</td>\n",
       "      <td>569</td>\n",
       "      <td>2017-09-05 14:00:00</td>\n",
       "      <td>2017-09-05</td>\n",
       "      <td>2017</td>\n",
       "      <td>Fall</td>\n",
       "      <td>9</td>\n",
       "      <td>5</td>\n",
       "      <td>14</td>\n",
       "      <td>525.0000</td>\n",
       "    </tr>\n",
       "    <tr>\n",
       "      <td>117686</td>\n",
       "      <td>569</td>\n",
       "      <td>2017-09-05 15:00:00</td>\n",
       "      <td>2017-09-05</td>\n",
       "      <td>2017</td>\n",
       "      <td>Fall</td>\n",
       "      <td>9</td>\n",
       "      <td>5</td>\n",
       "      <td>15</td>\n",
       "      <td>525.0000</td>\n",
       "    </tr>\n",
       "    <tr>\n",
       "      <td>...</td>\n",
       "      <td>...</td>\n",
       "      <td>...</td>\n",
       "      <td>...</td>\n",
       "      <td>...</td>\n",
       "      <td>...</td>\n",
       "      <td>...</td>\n",
       "      <td>...</td>\n",
       "      <td>...</td>\n",
       "      <td>...</td>\n",
       "    </tr>\n",
       "    <tr>\n",
       "      <td>2471035</td>\n",
       "      <td>653</td>\n",
       "      <td>2019-11-30 19:00:00</td>\n",
       "      <td>2019-11-30</td>\n",
       "      <td>2019</td>\n",
       "      <td>Fall</td>\n",
       "      <td>11</td>\n",
       "      <td>30</td>\n",
       "      <td>19</td>\n",
       "      <td>674.0000</td>\n",
       "    </tr>\n",
       "    <tr>\n",
       "      <td>2471036</td>\n",
       "      <td>653</td>\n",
       "      <td>2019-11-30 20:00:00</td>\n",
       "      <td>2019-11-30</td>\n",
       "      <td>2019</td>\n",
       "      <td>Fall</td>\n",
       "      <td>11</td>\n",
       "      <td>30</td>\n",
       "      <td>20</td>\n",
       "      <td>658.0011</td>\n",
       "    </tr>\n",
       "    <tr>\n",
       "      <td>2471037</td>\n",
       "      <td>653</td>\n",
       "      <td>2019-11-30 21:00:00</td>\n",
       "      <td>2019-11-30</td>\n",
       "      <td>2019</td>\n",
       "      <td>Fall</td>\n",
       "      <td>11</td>\n",
       "      <td>30</td>\n",
       "      <td>21</td>\n",
       "      <td>655.0022</td>\n",
       "    </tr>\n",
       "    <tr>\n",
       "      <td>2471038</td>\n",
       "      <td>653</td>\n",
       "      <td>2019-11-30 22:00:00</td>\n",
       "      <td>2019-11-30</td>\n",
       "      <td>2019</td>\n",
       "      <td>Fall</td>\n",
       "      <td>11</td>\n",
       "      <td>30</td>\n",
       "      <td>22</td>\n",
       "      <td>659.0000</td>\n",
       "    </tr>\n",
       "    <tr>\n",
       "      <td>2471039</td>\n",
       "      <td>653</td>\n",
       "      <td>2019-11-30 23:00:00</td>\n",
       "      <td>2019-11-30</td>\n",
       "      <td>2019</td>\n",
       "      <td>Fall</td>\n",
       "      <td>11</td>\n",
       "      <td>30</td>\n",
       "      <td>23</td>\n",
       "      <td>654.9978</td>\n",
       "    </tr>\n",
       "  </tbody>\n",
       "</table>\n",
       "<p>226176 rows × 9 columns</p>\n",
       "</div>"
      ],
      "text/plain": [
       "         building_id           timestamp        Date  Year Season  Month  Day  \\\n",
       "117682           569 2017-09-05 11:00:00  2017-09-05  2017   Fall      9    5   \n",
       "117683           569 2017-09-05 12:00:00  2017-09-05  2017   Fall      9    5   \n",
       "117684           569 2017-09-05 13:00:00  2017-09-05  2017   Fall      9    5   \n",
       "117685           569 2017-09-05 14:00:00  2017-09-05  2017   Fall      9    5   \n",
       "117686           569 2017-09-05 15:00:00  2017-09-05  2017   Fall      9    5   \n",
       "...              ...                 ...         ...   ...    ...    ...  ...   \n",
       "2471035          653 2019-11-30 19:00:00  2019-11-30  2019   Fall     11   30   \n",
       "2471036          653 2019-11-30 20:00:00  2019-11-30  2019   Fall     11   30   \n",
       "2471037          653 2019-11-30 21:00:00  2019-11-30  2019   Fall     11   30   \n",
       "2471038          653 2019-11-30 22:00:00  2019-11-30  2019   Fall     11   30   \n",
       "2471039          653 2019-11-30 23:00:00  2019-11-30  2019   Fall     11   30   \n",
       "\n",
       "         Hour  meter_reading_scraped  \n",
       "117682     11               520.0000  \n",
       "117683     12               528.0000  \n",
       "117684     13               531.0000  \n",
       "117685     14               525.0000  \n",
       "117686     15               525.0000  \n",
       "...       ...                    ...  \n",
       "2471035    19               674.0000  \n",
       "2471036    20               658.0011  \n",
       "2471037    21               655.0022  \n",
       "2471038    22               659.0000  \n",
       "2471039    23               654.9978  \n",
       "\n",
       "[226176 rows x 9 columns]"
      ]
     },
     "execution_count": 156,
     "metadata": {},
     "output_type": "execute_result"
    }
   ],
   "source": [
    "berkeley_df.loc[outlier_index]"
   ]
  },
  {
   "cell_type": "code",
   "execution_count": 157,
   "metadata": {},
   "outputs": [
    {
     "data": {
      "text/html": [
       "<div>\n",
       "<style scoped>\n",
       "    .dataframe tbody tr th:only-of-type {\n",
       "        vertical-align: middle;\n",
       "    }\n",
       "\n",
       "    .dataframe tbody tr th {\n",
       "        vertical-align: top;\n",
       "    }\n",
       "\n",
       "    .dataframe thead th {\n",
       "        text-align: right;\n",
       "    }\n",
       "</style>\n",
       "<table border=\"1\" class=\"dataframe\">\n",
       "  <thead>\n",
       "    <tr style=\"text-align: right;\">\n",
       "      <th></th>\n",
       "      <th>building_id</th>\n",
       "      <th>timestamp</th>\n",
       "      <th>Date</th>\n",
       "      <th>Year</th>\n",
       "      <th>Season</th>\n",
       "      <th>Month</th>\n",
       "      <th>Day</th>\n",
       "      <th>Hour</th>\n",
       "      <th>meter_reading_scraped</th>\n",
       "    </tr>\n",
       "  </thead>\n",
       "  <tbody>\n",
       "    <tr>\n",
       "      <td>31015</td>\n",
       "      <td>565</td>\n",
       "      <td>2019-07-16 08:00:00</td>\n",
       "      <td>2019-07-16</td>\n",
       "      <td>2019</td>\n",
       "      <td>Summer</td>\n",
       "      <td>7</td>\n",
       "      <td>16</td>\n",
       "      <td>8</td>\n",
       "      <td>13.00000</td>\n",
       "    </tr>\n",
       "    <tr>\n",
       "      <td>65335</td>\n",
       "      <td>567</td>\n",
       "      <td>2019-07-16 08:00:00</td>\n",
       "      <td>2019-07-16</td>\n",
       "      <td>2019</td>\n",
       "      <td>Summer</td>\n",
       "      <td>7</td>\n",
       "      <td>16</td>\n",
       "      <td>8</td>\n",
       "      <td>186.63275</td>\n",
       "    </tr>\n",
       "    <tr>\n",
       "      <td>99655</td>\n",
       "      <td>568</td>\n",
       "      <td>2019-07-16 08:00:00</td>\n",
       "      <td>2019-07-16</td>\n",
       "      <td>2019</td>\n",
       "      <td>Summer</td>\n",
       "      <td>7</td>\n",
       "      <td>16</td>\n",
       "      <td>8</td>\n",
       "      <td>8.19000</td>\n",
       "    </tr>\n",
       "    <tr>\n",
       "      <td>133975</td>\n",
       "      <td>569</td>\n",
       "      <td>2019-07-16 08:00:00</td>\n",
       "      <td>2019-07-16</td>\n",
       "      <td>2019</td>\n",
       "      <td>Summer</td>\n",
       "      <td>7</td>\n",
       "      <td>16</td>\n",
       "      <td>8</td>\n",
       "      <td>328.00000</td>\n",
       "    </tr>\n",
       "    <tr>\n",
       "      <td>168295</td>\n",
       "      <td>570</td>\n",
       "      <td>2019-07-16 08:00:00</td>\n",
       "      <td>2019-07-16</td>\n",
       "      <td>2019</td>\n",
       "      <td>Summer</td>\n",
       "      <td>7</td>\n",
       "      <td>16</td>\n",
       "      <td>8</td>\n",
       "      <td>176.25600</td>\n",
       "    </tr>\n",
       "    <tr>\n",
       "      <td>202615</td>\n",
       "      <td>571</td>\n",
       "      <td>2019-07-16 08:00:00</td>\n",
       "      <td>2019-07-16</td>\n",
       "      <td>2019</td>\n",
       "      <td>Summer</td>\n",
       "      <td>7</td>\n",
       "      <td>16</td>\n",
       "      <td>8</td>\n",
       "      <td>66.00000</td>\n",
       "    </tr>\n",
       "    <tr>\n",
       "      <td>236935</td>\n",
       "      <td>573</td>\n",
       "      <td>2019-07-16 08:00:00</td>\n",
       "      <td>2019-07-16</td>\n",
       "      <td>2019</td>\n",
       "      <td>Summer</td>\n",
       "      <td>7</td>\n",
       "      <td>16</td>\n",
       "      <td>8</td>\n",
       "      <td>-999983.60000</td>\n",
       "    </tr>\n",
       "    <tr>\n",
       "      <td>271255</td>\n",
       "      <td>574</td>\n",
       "      <td>2019-07-16 08:00:00</td>\n",
       "      <td>2019-07-16</td>\n",
       "      <td>2019</td>\n",
       "      <td>Summer</td>\n",
       "      <td>7</td>\n",
       "      <td>16</td>\n",
       "      <td>8</td>\n",
       "      <td>50.00000</td>\n",
       "    </tr>\n",
       "    <tr>\n",
       "      <td>305575</td>\n",
       "      <td>575</td>\n",
       "      <td>2019-07-16 08:00:00</td>\n",
       "      <td>2019-07-16</td>\n",
       "      <td>2019</td>\n",
       "      <td>Summer</td>\n",
       "      <td>7</td>\n",
       "      <td>16</td>\n",
       "      <td>8</td>\n",
       "      <td>53.00000</td>\n",
       "    </tr>\n",
       "    <tr>\n",
       "      <td>339895</td>\n",
       "      <td>576</td>\n",
       "      <td>2019-07-16 08:00:00</td>\n",
       "      <td>2019-07-16</td>\n",
       "      <td>2019</td>\n",
       "      <td>Summer</td>\n",
       "      <td>7</td>\n",
       "      <td>16</td>\n",
       "      <td>8</td>\n",
       "      <td>248.00000</td>\n",
       "    </tr>\n",
       "  </tbody>\n",
       "</table>\n",
       "</div>"
      ],
      "text/plain": [
       "        building_id           timestamp        Date  Year  Season  Month  Day  \\\n",
       "31015           565 2019-07-16 08:00:00  2019-07-16  2019  Summer      7   16   \n",
       "65335           567 2019-07-16 08:00:00  2019-07-16  2019  Summer      7   16   \n",
       "99655           568 2019-07-16 08:00:00  2019-07-16  2019  Summer      7   16   \n",
       "133975          569 2019-07-16 08:00:00  2019-07-16  2019  Summer      7   16   \n",
       "168295          570 2019-07-16 08:00:00  2019-07-16  2019  Summer      7   16   \n",
       "202615          571 2019-07-16 08:00:00  2019-07-16  2019  Summer      7   16   \n",
       "236935          573 2019-07-16 08:00:00  2019-07-16  2019  Summer      7   16   \n",
       "271255          574 2019-07-16 08:00:00  2019-07-16  2019  Summer      7   16   \n",
       "305575          575 2019-07-16 08:00:00  2019-07-16  2019  Summer      7   16   \n",
       "339895          576 2019-07-16 08:00:00  2019-07-16  2019  Summer      7   16   \n",
       "\n",
       "        Hour  meter_reading_scraped  \n",
       "31015      8               13.00000  \n",
       "65335      8              186.63275  \n",
       "99655      8                8.19000  \n",
       "133975     8              328.00000  \n",
       "168295     8              176.25600  \n",
       "202615     8               66.00000  \n",
       "236935     8          -999983.60000  \n",
       "271255     8               50.00000  \n",
       "305575     8               53.00000  \n",
       "339895     8              248.00000  "
      ]
     },
     "execution_count": 157,
     "metadata": {},
     "output_type": "execute_result"
    }
   ],
   "source": [
    "berkeley_df[berkeley_df['timestamp'] == '2019-07-16 08:00:00'].head(10)"
   ]
  },
  {
   "cell_type": "markdown",
   "metadata": {},
   "source": [
    "### Manually change value based on surrounding values"
   ]
  },
  {
   "cell_type": "code",
   "execution_count": 158,
   "metadata": {},
   "outputs": [],
   "source": [
    "berkeley_df.loc[236935, 'meter_reading_scraped'] = 7.50"
   ]
  },
  {
   "cell_type": "code",
   "execution_count": 159,
   "metadata": {},
   "outputs": [
    {
     "data": {
      "text/plain": [
       "building_id                              573\n",
       "timestamp                2019-07-16 08:00:00\n",
       "Date                              2019-07-16\n",
       "Year                                    2019\n",
       "Season                                Summer\n",
       "Month                                      7\n",
       "Day                                       16\n",
       "Hour                                       8\n",
       "meter_reading_scraped                    7.5\n",
       "Name: 236935, dtype: object"
      ]
     },
     "execution_count": 159,
     "metadata": {},
     "output_type": "execute_result"
    }
   ],
   "source": [
    "berkeley_df.loc[236935]"
   ]
  },
  {
   "cell_type": "code",
   "execution_count": 160,
   "metadata": {},
   "outputs": [],
   "source": [
    "# with open('berkeley_clean4.pkl', 'wb') as to_write:\n",
    "#     pickle.dump(berkeley_df, to_write)"
   ]
  }
 ],
 "metadata": {
  "kernelspec": {
   "display_name": "Python [conda env:metis] *",
   "language": "python",
   "name": "conda-env-metis-py"
  },
  "language_info": {
   "codemirror_mode": {
    "name": "ipython",
    "version": 3
   },
   "file_extension": ".py",
   "mimetype": "text/x-python",
   "name": "python",
   "nbconvert_exporter": "python",
   "pygments_lexer": "ipython3",
   "version": "3.6.9"
  }
 },
 "nbformat": 4,
 "nbformat_minor": 4
}
