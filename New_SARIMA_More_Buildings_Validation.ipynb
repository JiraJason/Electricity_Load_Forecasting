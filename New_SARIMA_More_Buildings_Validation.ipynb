{
 "cells": [
  {
   "cell_type": "markdown",
   "metadata": {},
   "source": [
    "# SARIMA Model - Applied to Rest of Buildings"
   ]
  },
  {
   "cell_type": "markdown",
   "metadata": {},
   "source": [
    "- In \"New_SARIMA_Modeling_Validation\", the electricity consumption for building_580 was analyzed.\n",
    "- A SARIMA model with parameters (1,1,2)x(1,1,2,7) was found to be the most effective.\n",
    "- This model will now be applied to the rest of the buildings on the UC Berkeley campus this project is looking at.\n",
    "- To improve model performance, exogenous variables will be considered."
   ]
  },
  {
   "cell_type": "code",
   "execution_count": 1,
   "metadata": {},
   "outputs": [],
   "source": [
    "import numpy as np\n",
    "import pandas as pd\n",
    "import datetime as dt\n",
    "from datetime import timedelta\n",
    "import pickle\n",
    "import math\n",
    "import holidays\n",
    "\n",
    "pd.set_option('display.max_columns', None)"
   ]
  },
  {
   "cell_type": "code",
   "execution_count": 2,
   "metadata": {},
   "outputs": [
    {
     "name": "stderr",
     "output_type": "stream",
     "text": [
      "/Users/andrewgraves/anaconda3/lib/python3.7/site-packages/statsmodels/compat/pandas.py:23: FutureWarning: The Panel class is removed from pandas. Accessing it from the top-level namespace will also be removed in the next version\n",
      "  data_klasses = (pandas.Series, pandas.DataFrame, pandas.Panel)\n"
     ]
    }
   ],
   "source": [
    "%matplotlib inline\n",
    "\n",
    "import sys\n",
    "import statsmodels as ss\n",
    "import matplotlib\n",
    "import matplotlib.pyplot as plt\n",
    "import seaborn as sns\n",
    "import statsmodels.api as sm\n",
    "import warnings"
   ]
  },
  {
   "cell_type": "code",
   "execution_count": 3,
   "metadata": {},
   "outputs": [],
   "source": [
    "with open('Data_Files/berkeley_clean4.pkl','rb') as read_file:\n",
    "    berkeley_df = pickle.load(read_file)"
   ]
  },
  {
   "cell_type": "markdown",
   "metadata": {},
   "source": [
    "# Prepare Dataset"
   ]
  },
  {
   "cell_type": "markdown",
   "metadata": {},
   "source": [
    "## Group by Date"
   ]
  },
  {
   "cell_type": "markdown",
   "metadata": {},
   "source": [
    "- The SARIMA model does not perform well with volatile (hourly) data, so the electricity consumption for each building will be aggregated into daily sums."
   ]
  },
  {
   "cell_type": "code",
   "execution_count": 4,
   "metadata": {},
   "outputs": [],
   "source": [
    "berkeley_date = berkeley_df.groupby(['Date','Month', 'building_id']).agg({'meter_reading_scraped':'sum'}).reset_index()"
   ]
  },
  {
   "cell_type": "code",
   "execution_count": 5,
   "metadata": {},
   "outputs": [],
   "source": [
    "berkeley_date = berkeley_date.sort_values(by=['building_id','Date']).reset_index(drop=True)"
   ]
  },
  {
   "cell_type": "code",
   "execution_count": 6,
   "metadata": {},
   "outputs": [],
   "source": [
    "berkeley_date['Date2'] = berkeley_date.Date\n",
    "berkeley_date = berkeley_date.set_index('Date2')"
   ]
  },
  {
   "cell_type": "markdown",
   "metadata": {},
   "source": [
    "## Create Exogenous Variable for Future Use"
   ]
  },
  {
   "cell_type": "markdown",
   "metadata": {},
   "source": [
    "- One obvious idea for improved model performance is to include holidays into the dataset.\n",
    "- The holiday column will be binary: 1 for holiday, 0 for non-holiday.\n",
    "- This should improve model performance, as there will likely be less electricity consumption on holidays."
   ]
  },
  {
   "cell_type": "code",
   "execution_count": 7,
   "metadata": {},
   "outputs": [],
   "source": [
    "us_holidays = holidays.UnitedStates()"
   ]
  },
  {
   "cell_type": "code",
   "execution_count": 8,
   "metadata": {},
   "outputs": [],
   "source": [
    "holidays_list = [1 if values in us_holidays else 0 for index, values in berkeley_date['Date'].iteritems()]\n"
   ]
  },
  {
   "cell_type": "code",
   "execution_count": 9,
   "metadata": {},
   "outputs": [],
   "source": [
    "berkeley_date.insert(2, column = 'Holiday', value = holidays_list)\n"
   ]
  },
  {
   "cell_type": "code",
   "execution_count": 10,
   "metadata": {},
   "outputs": [],
   "source": [
    "building_list = berkeley_date['building_id'].unique()"
   ]
  },
  {
   "cell_type": "code",
   "execution_count": 11,
   "metadata": {},
   "outputs": [
    {
     "data": {
      "text/plain": [
       "array([565, 567, 568, 569, 570, 571, 573, 574, 575, 576, 577, 580, 582,\n",
       "       583, 584, 585, 586, 587, 588, 589, 592, 594, 595, 597, 598, 599,\n",
       "       600, 601, 602, 603, 604, 605, 606, 607, 608, 609, 610, 611, 612,\n",
       "       614, 615, 616, 617, 618, 619, 620, 621, 622, 623, 624, 626, 627,\n",
       "       628, 630, 631, 632, 633, 634, 635, 636, 637, 638, 640, 641, 642,\n",
       "       643, 644, 645, 646, 649, 652, 653, 654, 655])"
      ]
     },
     "execution_count": 11,
     "metadata": {},
     "output_type": "execute_result"
    }
   ],
   "source": [
    "building_list"
   ]
  },
  {
   "cell_type": "markdown",
   "metadata": {},
   "source": [
    "## Train/Test Split, and Split By Building"
   ]
  },
  {
   "cell_type": "code",
   "execution_count": 12,
   "metadata": {},
   "outputs": [],
   "source": [
    "train = berkeley_date[(berkeley_date['Date'].values < dt.datetime.strptime('2019-11-01 00:00:00', '%Y-%m-%d %H:%M:%S').date())]\n",
    "test = berkeley_date[(berkeley_date['Date'].values > dt.datetime.strptime('2019-10-31 00:00:00', '%Y-%m-%d %H:%M:%S').date()) &\n",
    "                     (berkeley_date['Date'].values < dt.datetime.strptime('2019-11-29 00:00:00', '%Y-%m-%d %H:%M:%S').date())]"
   ]
  },
  {
   "cell_type": "code",
   "execution_count": 13,
   "metadata": {},
   "outputs": [],
   "source": [
    "# Split dataframe by the 74 buidlings.\n",
    "\n",
    "def building_df_separator(full_df, building_no):\n",
    "    \n",
    "    building_df = full_df[full_df['building_id'] == building_no]\n",
    "        \n",
    "    return building_df"
   ]
  },
  {
   "cell_type": "code",
   "execution_count": 29,
   "metadata": {},
   "outputs": [],
   "source": [
    "berkeley_date_dict = {}\n",
    "berkeley_train_dict = {}\n",
    "berkeley_test_dict = {}\n",
    "\n",
    "for i in building_list:\n",
    "    berkeley_date_dict[i] = building_df_separator(berkeley_date, i)\n",
    "    berkeley_train_dict[i] = building_df_separator(train, i)\n",
    "    berkeley_test_dict[i] = building_df_separator(test, i)"
   ]
  },
  {
   "cell_type": "code",
   "execution_count": 15,
   "metadata": {},
   "outputs": [],
   "source": [
    "def clean_dict(messy_dict):\n",
    "\n",
    "    berkeley_clean_dict = {}\n",
    "\n",
    "    for keys, values in messy_dict.items():\n",
    "        if keys < 603:\n",
    "            berkeley_clean_dict[keys] = values\n",
    "        elif keys > 604 and keys < 618:\n",
    "            berkeley_clean_dict[keys] = values\n",
    "        elif keys > 618:\n",
    "            berkeley_clean_dict[keys] = values\n",
    "            \n",
    "    return berkeley_clean_dict"
   ]
  },
  {
   "cell_type": "code",
   "execution_count": 30,
   "metadata": {},
   "outputs": [],
   "source": [
    "berkeley_clean_date_dict = clean_dict(berkeley_date_dict)\n",
    "berkeley_clean_train_dict = clean_dict(berkeley_train_dict)\n",
    "berkeley_clean_test_dict = clean_dict(berkeley_test_dict)"
   ]
  },
  {
   "cell_type": "markdown",
   "metadata": {},
   "source": [
    "# Modeling/Validation"
   ]
  },
  {
   "cell_type": "markdown",
   "metadata": {},
   "source": [
    "## Baseline Evaluation"
   ]
  },
  {
   "cell_type": "markdown",
   "metadata": {},
   "source": [
    "- First run through using the SARIMA model that was optimized for Building 580.\n",
    "- This will be done using the `sarima_model` function.\n",
    "- The MAPE will be looked at across all buildings."
   ]
  },
  {
   "cell_type": "code",
   "execution_count": 17,
   "metadata": {},
   "outputs": [],
   "source": [
    "def unlog_pred(log_pred):\n",
    "    \n",
    "    pred = [math.exp(i) for i in log_pred]\n",
    "    pred = pd.Series(pred, index = log_pred.index)\n",
    "    \n",
    "    return pred"
   ]
  },
  {
   "cell_type": "code",
   "execution_count": 18,
   "metadata": {},
   "outputs": [],
   "source": [
    "def sarima_model(train_dict, test_dict):\n",
    "    \n",
    "    sar_pred_dict = {}\n",
    "    mae_dict = {}\n",
    "    \n",
    "    for keys, values in train_dict.items():\n",
    "        model = sm.tsa.statespace.SARIMAX(np.log(values.meter_reading_scraped), \n",
    "                                    order=(1,1,2), \n",
    "                                    seasonal_order=(1,1,2,7)).fit(max_iter = 50, method = 'powell')\n",
    "        \n",
    "        sar_test = test_dict[keys].meter_reading_scraped.values\n",
    "        \n",
    "        sar_pred_log = model.get_forecast(steps = 28)\n",
    "        sar_pred = unlog_pred(sar_pred_log.predicted_mean)\n",
    "        \n",
    "        mae_pred = np.array(sar_pred.values)\n",
    "\n",
    "        mae_score = (abs(sar_test-mae_pred)/sar_test)*100\n",
    "        mae_mean = mae_score.mean()\n",
    "        mae_dict[keys] = mae_mean\n",
    "        print('Building: ', keys)\n",
    "        print('Mean Absolute Error: ', mae_mean)\n",
    "        \n",
    "    return sar_pred_dict, mae_dict"
   ]
  },
  {
   "cell_type": "code",
   "execution_count": 19,
   "metadata": {},
   "outputs": [
    {
     "name": "stderr",
     "output_type": "stream",
     "text": [
      "/Users/andrewgraves/anaconda3/lib/python3.7/site-packages/statsmodels/tsa/base/tsa_model.py:165: ValueWarning: No frequency information was provided, so inferred frequency D will be used.\n",
      "  % freq, ValueWarning)\n"
     ]
    },
    {
     "name": "stdout",
     "output_type": "stream",
     "text": [
      "Optimization terminated successfully.\n",
      "         Current function value: -0.703961\n",
      "         Iterations: 3\n",
      "         Function evaluations: 282\n",
      "Building:  565\n",
      "Mean Absolute Error:  10.22948304453867\n"
     ]
    },
    {
     "name": "stderr",
     "output_type": "stream",
     "text": [
      "/Users/andrewgraves/anaconda3/lib/python3.7/site-packages/statsmodels/tsa/base/tsa_model.py:165: ValueWarning: No frequency information was provided, so inferred frequency D will be used.\n",
      "  % freq, ValueWarning)\n"
     ]
    },
    {
     "name": "stdout",
     "output_type": "stream",
     "text": [
      "Optimization terminated successfully.\n",
      "         Current function value: -1.398882\n",
      "         Iterations: 10\n",
      "         Function evaluations: 893\n",
      "Building:  567\n",
      "Mean Absolute Error:  6.235715630973444\n"
     ]
    },
    {
     "name": "stderr",
     "output_type": "stream",
     "text": [
      "/Users/andrewgraves/anaconda3/lib/python3.7/site-packages/pandas/core/series.py:856: RuntimeWarning: invalid value encountered in log\n",
      "  result = getattr(ufunc, method)(*inputs, **kwargs)\n",
      "/Users/andrewgraves/anaconda3/lib/python3.7/site-packages/statsmodels/tsa/base/tsa_model.py:165: ValueWarning: No frequency information was provided, so inferred frequency D will be used.\n",
      "  % freq, ValueWarning)\n"
     ]
    },
    {
     "name": "stdout",
     "output_type": "stream",
     "text": [
      "Optimization terminated successfully.\n",
      "         Current function value: -0.282389\n",
      "         Iterations: 5\n",
      "         Function evaluations: 464\n",
      "Building:  568\n",
      "Mean Absolute Error:  11.548344329653023\n"
     ]
    },
    {
     "name": "stderr",
     "output_type": "stream",
     "text": [
      "/Users/andrewgraves/anaconda3/lib/python3.7/site-packages/statsmodels/tsa/base/tsa_model.py:165: ValueWarning: No frequency information was provided, so inferred frequency D will be used.\n",
      "  % freq, ValueWarning)\n"
     ]
    },
    {
     "name": "stdout",
     "output_type": "stream",
     "text": [
      "Optimization terminated successfully.\n",
      "         Current function value: -1.250118\n",
      "         Iterations: 5\n",
      "         Function evaluations: 466\n",
      "Building:  569\n",
      "Mean Absolute Error:  13.814295203510921\n"
     ]
    },
    {
     "name": "stderr",
     "output_type": "stream",
     "text": [
      "/Users/andrewgraves/anaconda3/lib/python3.7/site-packages/statsmodels/tsa/base/tsa_model.py:165: ValueWarning: No frequency information was provided, so inferred frequency D will be used.\n",
      "  % freq, ValueWarning)\n",
      "/Users/andrewgraves/anaconda3/lib/python3.7/site-packages/statsmodels/tsa/statespace/sarimax.py:949: UserWarning: Non-stationary starting autoregressive parameters found. Using zeros as starting parameters.\n",
      "  warn('Non-stationary starting autoregressive parameters'\n",
      "/Users/andrewgraves/anaconda3/lib/python3.7/site-packages/statsmodels/tsa/statespace/sarimax.py:961: UserWarning: Non-invertible starting MA parameters found. Using zeros as starting parameters.\n",
      "  warn('Non-invertible starting MA parameters found.'\n"
     ]
    },
    {
     "name": "stdout",
     "output_type": "stream",
     "text": [
      "Optimization terminated successfully.\n",
      "         Current function value: -1.177962\n",
      "         Iterations: 15\n",
      "         Function evaluations: 1415\n",
      "Building:  570\n",
      "Mean Absolute Error:  5.423107478353293\n"
     ]
    },
    {
     "name": "stderr",
     "output_type": "stream",
     "text": [
      "/Users/andrewgraves/anaconda3/lib/python3.7/site-packages/statsmodels/tsa/base/tsa_model.py:165: ValueWarning: No frequency information was provided, so inferred frequency D will be used.\n",
      "  % freq, ValueWarning)\n"
     ]
    },
    {
     "name": "stdout",
     "output_type": "stream",
     "text": [
      "Optimization terminated successfully.\n",
      "         Current function value: -0.349800\n",
      "         Iterations: 17\n",
      "         Function evaluations: 1749\n",
      "Building:  571\n",
      "Mean Absolute Error:  22.06822136965659\n"
     ]
    },
    {
     "name": "stderr",
     "output_type": "stream",
     "text": [
      "/Users/andrewgraves/anaconda3/lib/python3.7/site-packages/statsmodels/tsa/base/tsa_model.py:165: ValueWarning: No frequency information was provided, so inferred frequency D will be used.\n",
      "  % freq, ValueWarning)\n"
     ]
    },
    {
     "name": "stdout",
     "output_type": "stream",
     "text": [
      "Optimization terminated successfully.\n",
      "         Current function value: -1.006969\n",
      "         Iterations: 12\n",
      "         Function evaluations: 1161\n",
      "Building:  573\n",
      "Mean Absolute Error:  8.17013213536855\n"
     ]
    },
    {
     "name": "stderr",
     "output_type": "stream",
     "text": [
      "/Users/andrewgraves/anaconda3/lib/python3.7/site-packages/statsmodels/tsa/base/tsa_model.py:165: ValueWarning: No frequency information was provided, so inferred frequency D will be used.\n",
      "  % freq, ValueWarning)\n"
     ]
    },
    {
     "name": "stdout",
     "output_type": "stream",
     "text": [
      "Optimization terminated successfully.\n",
      "         Current function value: -0.197739\n",
      "         Iterations: 13\n",
      "         Function evaluations: 1263\n",
      "Building:  574\n",
      "Mean Absolute Error:  17.08439606246198\n"
     ]
    },
    {
     "name": "stderr",
     "output_type": "stream",
     "text": [
      "/Users/andrewgraves/anaconda3/lib/python3.7/site-packages/statsmodels/tsa/base/tsa_model.py:165: ValueWarning: No frequency information was provided, so inferred frequency D will be used.\n",
      "  % freq, ValueWarning)\n"
     ]
    },
    {
     "name": "stdout",
     "output_type": "stream",
     "text": [
      "Optimization terminated successfully.\n",
      "         Current function value: -1.030101\n",
      "         Iterations: 12\n",
      "         Function evaluations: 1098\n",
      "Building:  575\n",
      "Mean Absolute Error:  7.527339538120141\n"
     ]
    },
    {
     "name": "stderr",
     "output_type": "stream",
     "text": [
      "/Users/andrewgraves/anaconda3/lib/python3.7/site-packages/statsmodels/tsa/base/tsa_model.py:165: ValueWarning: No frequency information was provided, so inferred frequency D will be used.\n",
      "  % freq, ValueWarning)\n"
     ]
    },
    {
     "name": "stdout",
     "output_type": "stream",
     "text": [
      "Optimization terminated successfully.\n",
      "         Current function value: -1.558155\n",
      "         Iterations: 4\n",
      "         Function evaluations: 377\n",
      "Building:  576\n",
      "Mean Absolute Error:  14.025032258622232\n"
     ]
    },
    {
     "name": "stderr",
     "output_type": "stream",
     "text": [
      "/Users/andrewgraves/anaconda3/lib/python3.7/site-packages/statsmodels/tsa/base/tsa_model.py:165: ValueWarning: No frequency information was provided, so inferred frequency D will be used.\n",
      "  % freq, ValueWarning)\n"
     ]
    },
    {
     "name": "stdout",
     "output_type": "stream",
     "text": [
      "Optimization terminated successfully.\n",
      "         Current function value: 0.493028\n",
      "         Iterations: 6\n",
      "         Function evaluations: 510\n",
      "Building:  577\n",
      "Mean Absolute Error:  9.658819251365676\n"
     ]
    },
    {
     "name": "stderr",
     "output_type": "stream",
     "text": [
      "/Users/andrewgraves/anaconda3/lib/python3.7/site-packages/statsmodels/tsa/base/tsa_model.py:165: ValueWarning: No frequency information was provided, so inferred frequency D will be used.\n",
      "  % freq, ValueWarning)\n"
     ]
    },
    {
     "name": "stdout",
     "output_type": "stream",
     "text": [
      "Optimization terminated successfully.\n",
      "         Current function value: -0.792254\n",
      "         Iterations: 15\n",
      "         Function evaluations: 1317\n",
      "Building:  580\n",
      "Mean Absolute Error:  9.2256333536524\n"
     ]
    },
    {
     "name": "stderr",
     "output_type": "stream",
     "text": [
      "/Users/andrewgraves/anaconda3/lib/python3.7/site-packages/statsmodels/tsa/base/tsa_model.py:165: ValueWarning: No frequency information was provided, so inferred frequency D will be used.\n",
      "  % freq, ValueWarning)\n"
     ]
    },
    {
     "name": "stdout",
     "output_type": "stream",
     "text": [
      "Optimization terminated successfully.\n",
      "         Current function value: -1.329129\n",
      "         Iterations: 12\n",
      "         Function evaluations: 1055\n",
      "Building:  582\n",
      "Mean Absolute Error:  4.391960194039492\n"
     ]
    },
    {
     "name": "stderr",
     "output_type": "stream",
     "text": [
      "/Users/andrewgraves/anaconda3/lib/python3.7/site-packages/statsmodels/tsa/base/tsa_model.py:165: ValueWarning: No frequency information was provided, so inferred frequency D will be used.\n",
      "  % freq, ValueWarning)\n"
     ]
    },
    {
     "name": "stdout",
     "output_type": "stream",
     "text": [
      "Optimization terminated successfully.\n",
      "         Current function value: -2.213861\n",
      "         Iterations: 7\n",
      "         Function evaluations: 667\n",
      "Building:  583\n",
      "Mean Absolute Error:  0.9749299855970771\n"
     ]
    },
    {
     "name": "stderr",
     "output_type": "stream",
     "text": [
      "/Users/andrewgraves/anaconda3/lib/python3.7/site-packages/statsmodels/tsa/base/tsa_model.py:165: ValueWarning: No frequency information was provided, so inferred frequency D will be used.\n",
      "  % freq, ValueWarning)\n"
     ]
    },
    {
     "name": "stdout",
     "output_type": "stream",
     "text": [
      "Optimization terminated successfully.\n",
      "         Current function value: -0.980831\n",
      "         Iterations: 3\n",
      "         Function evaluations: 277\n",
      "Building:  584\n",
      "Mean Absolute Error:  7.987324421843673\n"
     ]
    },
    {
     "name": "stderr",
     "output_type": "stream",
     "text": [
      "/Users/andrewgraves/anaconda3/lib/python3.7/site-packages/statsmodels/tsa/base/tsa_model.py:165: ValueWarning: No frequency information was provided, so inferred frequency D will be used.\n",
      "  % freq, ValueWarning)\n"
     ]
    },
    {
     "name": "stdout",
     "output_type": "stream",
     "text": [
      "Optimization terminated successfully.\n",
      "         Current function value: -1.842319\n",
      "         Iterations: 3\n",
      "         Function evaluations: 293\n",
      "Building:  585\n",
      "Mean Absolute Error:  8.36164260819148\n"
     ]
    },
    {
     "name": "stderr",
     "output_type": "stream",
     "text": [
      "/Users/andrewgraves/anaconda3/lib/python3.7/site-packages/statsmodels/tsa/base/tsa_model.py:165: ValueWarning: No frequency information was provided, so inferred frequency D will be used.\n",
      "  % freq, ValueWarning)\n"
     ]
    },
    {
     "name": "stdout",
     "output_type": "stream",
     "text": [
      "Optimization terminated successfully.\n",
      "         Current function value: -0.327647\n",
      "         Iterations: 15\n",
      "         Function evaluations: 1899\n",
      "Building:  586\n",
      "Mean Absolute Error:  16.273140256792118\n"
     ]
    },
    {
     "name": "stderr",
     "output_type": "stream",
     "text": [
      "/Users/andrewgraves/anaconda3/lib/python3.7/site-packages/statsmodels/tsa/base/tsa_model.py:165: ValueWarning: No frequency information was provided, so inferred frequency D will be used.\n",
      "  % freq, ValueWarning)\n"
     ]
    },
    {
     "name": "stdout",
     "output_type": "stream",
     "text": [
      "Optimization terminated successfully.\n",
      "         Current function value: -2.254815\n",
      "         Iterations: 5\n",
      "         Function evaluations: 491\n",
      "Building:  587\n",
      "Mean Absolute Error:  14.778333692356211\n"
     ]
    },
    {
     "name": "stderr",
     "output_type": "stream",
     "text": [
      "/Users/andrewgraves/anaconda3/lib/python3.7/site-packages/statsmodels/tsa/base/tsa_model.py:165: ValueWarning: No frequency information was provided, so inferred frequency D will be used.\n",
      "  % freq, ValueWarning)\n"
     ]
    },
    {
     "name": "stdout",
     "output_type": "stream",
     "text": [
      "Optimization terminated successfully.\n",
      "         Current function value: -0.774671\n",
      "         Iterations: 3\n",
      "         Function evaluations: 291\n",
      "Building:  588\n",
      "Mean Absolute Error:  13.930823740750098\n"
     ]
    },
    {
     "name": "stderr",
     "output_type": "stream",
     "text": [
      "/Users/andrewgraves/anaconda3/lib/python3.7/site-packages/statsmodels/tsa/base/tsa_model.py:165: ValueWarning: No frequency information was provided, so inferred frequency D will be used.\n",
      "  % freq, ValueWarning)\n"
     ]
    },
    {
     "name": "stdout",
     "output_type": "stream",
     "text": [
      "Optimization terminated successfully.\n",
      "         Current function value: -0.850974\n",
      "         Iterations: 11\n",
      "         Function evaluations: 1034\n",
      "Building:  589\n",
      "Mean Absolute Error:  10.798384576742974\n"
     ]
    },
    {
     "name": "stderr",
     "output_type": "stream",
     "text": [
      "/Users/andrewgraves/anaconda3/lib/python3.7/site-packages/statsmodels/tsa/base/tsa_model.py:165: ValueWarning: No frequency information was provided, so inferred frequency D will be used.\n",
      "  % freq, ValueWarning)\n"
     ]
    },
    {
     "name": "stdout",
     "output_type": "stream",
     "text": [
      "Optimization terminated successfully.\n",
      "         Current function value: -1.933448\n",
      "         Iterations: 5\n",
      "         Function evaluations: 495\n",
      "Building:  592\n",
      "Mean Absolute Error:  2.76233467295048\n"
     ]
    },
    {
     "name": "stderr",
     "output_type": "stream",
     "text": [
      "/Users/andrewgraves/anaconda3/lib/python3.7/site-packages/statsmodels/tsa/base/tsa_model.py:165: ValueWarning: No frequency information was provided, so inferred frequency D will be used.\n",
      "  % freq, ValueWarning)\n"
     ]
    },
    {
     "name": "stdout",
     "output_type": "stream",
     "text": [
      "Optimization terminated successfully.\n",
      "         Current function value: -1.972655\n",
      "         Iterations: 3\n",
      "         Function evaluations: 290\n",
      "Building:  594\n",
      "Mean Absolute Error:  3.541432623826759\n"
     ]
    },
    {
     "name": "stderr",
     "output_type": "stream",
     "text": [
      "/Users/andrewgraves/anaconda3/lib/python3.7/site-packages/statsmodels/tsa/base/tsa_model.py:165: ValueWarning: No frequency information was provided, so inferred frequency D will be used.\n",
      "  % freq, ValueWarning)\n"
     ]
    },
    {
     "name": "stdout",
     "output_type": "stream",
     "text": [
      "Optimization terminated successfully.\n",
      "         Current function value: -0.945858\n",
      "         Iterations: 3\n",
      "         Function evaluations: 273\n",
      "Building:  595\n",
      "Mean Absolute Error:  6.893310974787228\n"
     ]
    },
    {
     "name": "stderr",
     "output_type": "stream",
     "text": [
      "/Users/andrewgraves/anaconda3/lib/python3.7/site-packages/statsmodels/tsa/base/tsa_model.py:165: ValueWarning: No frequency information was provided, so inferred frequency D will be used.\n",
      "  % freq, ValueWarning)\n"
     ]
    },
    {
     "name": "stdout",
     "output_type": "stream",
     "text": [
      "Optimization terminated successfully.\n",
      "         Current function value: -0.762726\n",
      "         Iterations: 12\n",
      "         Function evaluations: 1084\n",
      "Building:  597\n",
      "Mean Absolute Error:  13.597399862633955\n"
     ]
    },
    {
     "name": "stderr",
     "output_type": "stream",
     "text": [
      "/Users/andrewgraves/anaconda3/lib/python3.7/site-packages/statsmodels/tsa/base/tsa_model.py:165: ValueWarning: No frequency information was provided, so inferred frequency D will be used.\n",
      "  % freq, ValueWarning)\n"
     ]
    },
    {
     "name": "stdout",
     "output_type": "stream",
     "text": [
      "Optimization terminated successfully.\n",
      "         Current function value: -1.356608\n",
      "         Iterations: 3\n",
      "         Function evaluations: 276\n",
      "Building:  598\n",
      "Mean Absolute Error:  0.44252732731783706\n"
     ]
    },
    {
     "name": "stderr",
     "output_type": "stream",
     "text": [
      "/Users/andrewgraves/anaconda3/lib/python3.7/site-packages/statsmodels/tsa/base/tsa_model.py:165: ValueWarning: No frequency information was provided, so inferred frequency D will be used.\n",
      "  % freq, ValueWarning)\n"
     ]
    },
    {
     "name": "stdout",
     "output_type": "stream",
     "text": [
      "Optimization terminated successfully.\n",
      "         Current function value: -0.288006\n",
      "         Iterations: 9\n",
      "         Function evaluations: 825\n",
      "Building:  599\n",
      "Mean Absolute Error:  18.34691669166483\n"
     ]
    },
    {
     "name": "stderr",
     "output_type": "stream",
     "text": [
      "/Users/andrewgraves/anaconda3/lib/python3.7/site-packages/statsmodels/tsa/base/tsa_model.py:165: ValueWarning: No frequency information was provided, so inferred frequency D will be used.\n",
      "  % freq, ValueWarning)\n"
     ]
    },
    {
     "name": "stdout",
     "output_type": "stream",
     "text": [
      "Optimization terminated successfully.\n",
      "         Current function value: -1.444571\n",
      "         Iterations: 10\n",
      "         Function evaluations: 921\n",
      "Building:  600\n",
      "Mean Absolute Error:  7.340483068547376\n"
     ]
    },
    {
     "name": "stderr",
     "output_type": "stream",
     "text": [
      "/Users/andrewgraves/anaconda3/lib/python3.7/site-packages/statsmodels/tsa/base/tsa_model.py:165: ValueWarning: No frequency information was provided, so inferred frequency D will be used.\n",
      "  % freq, ValueWarning)\n"
     ]
    },
    {
     "name": "stdout",
     "output_type": "stream",
     "text": [
      "Optimization terminated successfully.\n",
      "         Current function value: 0.217497\n",
      "         Iterations: 8\n",
      "         Function evaluations: 755\n",
      "Building:  601\n",
      "Mean Absolute Error:  90.18449939455844\n"
     ]
    },
    {
     "name": "stderr",
     "output_type": "stream",
     "text": [
      "/Users/andrewgraves/anaconda3/lib/python3.7/site-packages/statsmodels/tsa/base/tsa_model.py:165: ValueWarning: No frequency information was provided, so inferred frequency D will be used.\n",
      "  % freq, ValueWarning)\n"
     ]
    },
    {
     "name": "stdout",
     "output_type": "stream",
     "text": [
      "Optimization terminated successfully.\n",
      "         Current function value: -0.813190\n",
      "         Iterations: 3\n",
      "         Function evaluations: 270\n",
      "Building:  602\n",
      "Mean Absolute Error:  14.928290854248102\n"
     ]
    },
    {
     "name": "stderr",
     "output_type": "stream",
     "text": [
      "/Users/andrewgraves/anaconda3/lib/python3.7/site-packages/statsmodels/tsa/base/tsa_model.py:165: ValueWarning: No frequency information was provided, so inferred frequency D will be used.\n",
      "  % freq, ValueWarning)\n"
     ]
    },
    {
     "name": "stdout",
     "output_type": "stream",
     "text": [
      "Optimization terminated successfully.\n",
      "         Current function value: -0.514584\n",
      "         Iterations: 11\n",
      "         Function evaluations: 1086\n",
      "Building:  605\n",
      "Mean Absolute Error:  16.855483557562604\n"
     ]
    },
    {
     "name": "stderr",
     "output_type": "stream",
     "text": [
      "/Users/andrewgraves/anaconda3/lib/python3.7/site-packages/statsmodels/tsa/base/tsa_model.py:165: ValueWarning: No frequency information was provided, so inferred frequency D will be used.\n",
      "  % freq, ValueWarning)\n"
     ]
    },
    {
     "name": "stdout",
     "output_type": "stream",
     "text": [
      "Optimization terminated successfully.\n",
      "         Current function value: -2.450927\n",
      "         Iterations: 7\n",
      "         Function evaluations: 689\n",
      "Building:  606\n",
      "Mean Absolute Error:  3.885556814295717\n"
     ]
    },
    {
     "name": "stderr",
     "output_type": "stream",
     "text": [
      "/Users/andrewgraves/anaconda3/lib/python3.7/site-packages/statsmodels/tsa/base/tsa_model.py:165: ValueWarning: No frequency information was provided, so inferred frequency D will be used.\n",
      "  % freq, ValueWarning)\n"
     ]
    },
    {
     "name": "stdout",
     "output_type": "stream",
     "text": [
      "Optimization terminated successfully.\n",
      "         Current function value: -0.946102\n",
      "         Iterations: 6\n",
      "         Function evaluations: 551\n",
      "Building:  607\n",
      "Mean Absolute Error:  7.860637491783763\n"
     ]
    },
    {
     "name": "stderr",
     "output_type": "stream",
     "text": [
      "/Users/andrewgraves/anaconda3/lib/python3.7/site-packages/statsmodels/tsa/base/tsa_model.py:165: ValueWarning: No frequency information was provided, so inferred frequency D will be used.\n",
      "  % freq, ValueWarning)\n"
     ]
    },
    {
     "name": "stdout",
     "output_type": "stream",
     "text": [
      "Optimization terminated successfully.\n",
      "         Current function value: -1.403569\n",
      "         Iterations: 3\n",
      "         Function evaluations: 272\n",
      "Building:  608\n",
      "Mean Absolute Error:  4.968498260503919\n"
     ]
    },
    {
     "name": "stderr",
     "output_type": "stream",
     "text": [
      "/Users/andrewgraves/anaconda3/lib/python3.7/site-packages/statsmodels/tsa/base/tsa_model.py:165: ValueWarning: No frequency information was provided, so inferred frequency D will be used.\n",
      "  % freq, ValueWarning)\n"
     ]
    },
    {
     "name": "stdout",
     "output_type": "stream",
     "text": [
      "Optimization terminated successfully.\n",
      "         Current function value: -2.000119\n",
      "         Iterations: 6\n",
      "         Function evaluations: 600\n",
      "Building:  609\n",
      "Mean Absolute Error:  5.250620309503115\n"
     ]
    },
    {
     "name": "stderr",
     "output_type": "stream",
     "text": [
      "/Users/andrewgraves/anaconda3/lib/python3.7/site-packages/statsmodels/tsa/base/tsa_model.py:165: ValueWarning: No frequency information was provided, so inferred frequency D will be used.\n",
      "  % freq, ValueWarning)\n"
     ]
    },
    {
     "name": "stdout",
     "output_type": "stream",
     "text": [
      "Optimization terminated successfully.\n",
      "         Current function value: 0.003003\n",
      "         Iterations: 20\n",
      "         Function evaluations: 1735\n",
      "Building:  610\n",
      "Mean Absolute Error:  32.605910155758565\n"
     ]
    },
    {
     "name": "stderr",
     "output_type": "stream",
     "text": [
      "/Users/andrewgraves/anaconda3/lib/python3.7/site-packages/statsmodels/tsa/base/tsa_model.py:165: ValueWarning: No frequency information was provided, so inferred frequency D will be used.\n",
      "  % freq, ValueWarning)\n"
     ]
    },
    {
     "name": "stdout",
     "output_type": "stream",
     "text": [
      "Optimization terminated successfully.\n",
      "         Current function value: -2.255516\n",
      "         Iterations: 7\n",
      "         Function evaluations: 683\n",
      "Building:  611\n",
      "Mean Absolute Error:  3.9234214097663043\n"
     ]
    },
    {
     "name": "stderr",
     "output_type": "stream",
     "text": [
      "/Users/andrewgraves/anaconda3/lib/python3.7/site-packages/statsmodels/tsa/base/tsa_model.py:165: ValueWarning: No frequency information was provided, so inferred frequency D will be used.\n",
      "  % freq, ValueWarning)\n"
     ]
    },
    {
     "name": "stdout",
     "output_type": "stream",
     "text": [
      "Optimization terminated successfully.\n",
      "         Current function value: -2.309190\n",
      "         Iterations: 5\n",
      "         Function evaluations: 502\n",
      "Building:  612\n",
      "Mean Absolute Error:  6.126824320390502\n"
     ]
    },
    {
     "name": "stderr",
     "output_type": "stream",
     "text": [
      "/Users/andrewgraves/anaconda3/lib/python3.7/site-packages/statsmodels/tsa/base/tsa_model.py:165: ValueWarning: No frequency information was provided, so inferred frequency D will be used.\n",
      "  % freq, ValueWarning)\n"
     ]
    },
    {
     "name": "stdout",
     "output_type": "stream",
     "text": [
      "Optimization terminated successfully.\n",
      "         Current function value: -1.690920\n",
      "         Iterations: 3\n",
      "         Function evaluations: 282\n",
      "Building:  614\n",
      "Mean Absolute Error:  5.416571253361766\n"
     ]
    },
    {
     "name": "stderr",
     "output_type": "stream",
     "text": [
      "/Users/andrewgraves/anaconda3/lib/python3.7/site-packages/statsmodels/tsa/base/tsa_model.py:165: ValueWarning: No frequency information was provided, so inferred frequency D will be used.\n",
      "  % freq, ValueWarning)\n"
     ]
    },
    {
     "name": "stdout",
     "output_type": "stream",
     "text": [
      "Optimization terminated successfully.\n",
      "         Current function value: -2.090246\n",
      "         Iterations: 5\n",
      "         Function evaluations: 507\n",
      "Building:  615\n",
      "Mean Absolute Error:  4.149464417439645\n"
     ]
    },
    {
     "name": "stderr",
     "output_type": "stream",
     "text": [
      "/Users/andrewgraves/anaconda3/lib/python3.7/site-packages/statsmodels/tsa/base/tsa_model.py:165: ValueWarning: No frequency information was provided, so inferred frequency D will be used.\n",
      "  % freq, ValueWarning)\n"
     ]
    },
    {
     "name": "stdout",
     "output_type": "stream",
     "text": [
      "Optimization terminated successfully.\n",
      "         Current function value: -1.098351\n",
      "         Iterations: 2\n",
      "         Function evaluations: 175\n",
      "Building:  616\n",
      "Mean Absolute Error:  6.853452595946576\n"
     ]
    },
    {
     "name": "stderr",
     "output_type": "stream",
     "text": [
      "/Users/andrewgraves/anaconda3/lib/python3.7/site-packages/statsmodels/tsa/base/tsa_model.py:165: ValueWarning: No frequency information was provided, so inferred frequency D will be used.\n",
      "  % freq, ValueWarning)\n"
     ]
    },
    {
     "name": "stdout",
     "output_type": "stream",
     "text": [
      "Optimization terminated successfully.\n",
      "         Current function value: -2.141487\n",
      "         Iterations: 5\n",
      "         Function evaluations: 472\n",
      "Building:  617\n",
      "Mean Absolute Error:  4.694904660553354\n"
     ]
    },
    {
     "name": "stderr",
     "output_type": "stream",
     "text": [
      "/Users/andrewgraves/anaconda3/lib/python3.7/site-packages/statsmodels/tsa/base/tsa_model.py:165: ValueWarning: No frequency information was provided, so inferred frequency D will be used.\n",
      "  % freq, ValueWarning)\n"
     ]
    },
    {
     "name": "stdout",
     "output_type": "stream",
     "text": [
      "Optimization terminated successfully.\n",
      "         Current function value: 0.106613\n",
      "         Iterations: 15\n",
      "         Function evaluations: 1462\n",
      "Building:  619\n",
      "Mean Absolute Error:  5.50651296147638\n"
     ]
    },
    {
     "name": "stderr",
     "output_type": "stream",
     "text": [
      "/Users/andrewgraves/anaconda3/lib/python3.7/site-packages/statsmodels/tsa/base/tsa_model.py:165: ValueWarning: No frequency information was provided, so inferred frequency D will be used.\n",
      "  % freq, ValueWarning)\n"
     ]
    },
    {
     "name": "stdout",
     "output_type": "stream",
     "text": [
      "Optimization terminated successfully.\n",
      "         Current function value: -1.760902\n",
      "         Iterations: 6\n",
      "         Function evaluations: 573\n",
      "Building:  620\n",
      "Mean Absolute Error:  8.800955727064432\n"
     ]
    },
    {
     "name": "stderr",
     "output_type": "stream",
     "text": [
      "/Users/andrewgraves/anaconda3/lib/python3.7/site-packages/statsmodels/tsa/base/tsa_model.py:165: ValueWarning: No frequency information was provided, so inferred frequency D will be used.\n",
      "  % freq, ValueWarning)\n"
     ]
    },
    {
     "name": "stdout",
     "output_type": "stream",
     "text": [
      "Optimization terminated successfully.\n",
      "         Current function value: -0.728532\n",
      "         Iterations: 4\n",
      "         Function evaluations: 357\n",
      "Building:  621\n",
      "Mean Absolute Error:  11.335164390858248\n"
     ]
    },
    {
     "name": "stderr",
     "output_type": "stream",
     "text": [
      "/Users/andrewgraves/anaconda3/lib/python3.7/site-packages/statsmodels/tsa/base/tsa_model.py:165: ValueWarning: No frequency information was provided, so inferred frequency D will be used.\n",
      "  % freq, ValueWarning)\n"
     ]
    },
    {
     "name": "stdout",
     "output_type": "stream",
     "text": [
      "Optimization terminated successfully.\n",
      "         Current function value: -2.299456\n",
      "         Iterations: 3\n",
      "         Function evaluations: 291\n",
      "Building:  622\n",
      "Mean Absolute Error:  3.411586197015894\n"
     ]
    },
    {
     "name": "stderr",
     "output_type": "stream",
     "text": [
      "/Users/andrewgraves/anaconda3/lib/python3.7/site-packages/statsmodels/tsa/base/tsa_model.py:165: ValueWarning: No frequency information was provided, so inferred frequency D will be used.\n",
      "  % freq, ValueWarning)\n"
     ]
    },
    {
     "name": "stdout",
     "output_type": "stream",
     "text": [
      "Optimization terminated successfully.\n",
      "         Current function value: -0.917371\n",
      "         Iterations: 7\n",
      "         Function evaluations: 671\n",
      "Building:  623\n",
      "Mean Absolute Error:  11.123823547657611\n"
     ]
    },
    {
     "name": "stderr",
     "output_type": "stream",
     "text": [
      "/Users/andrewgraves/anaconda3/lib/python3.7/site-packages/statsmodels/tsa/base/tsa_model.py:165: ValueWarning: No frequency information was provided, so inferred frequency D will be used.\n",
      "  % freq, ValueWarning)\n"
     ]
    },
    {
     "name": "stdout",
     "output_type": "stream",
     "text": [
      "Optimization terminated successfully.\n",
      "         Current function value: -1.198264\n",
      "         Iterations: 4\n",
      "         Function evaluations: 379\n",
      "Building:  624\n",
      "Mean Absolute Error:  11.855803763114022\n"
     ]
    },
    {
     "name": "stderr",
     "output_type": "stream",
     "text": [
      "/Users/andrewgraves/anaconda3/lib/python3.7/site-packages/statsmodels/tsa/base/tsa_model.py:165: ValueWarning: No frequency information was provided, so inferred frequency D will be used.\n",
      "  % freq, ValueWarning)\n"
     ]
    },
    {
     "name": "stdout",
     "output_type": "stream",
     "text": [
      "Optimization terminated successfully.\n",
      "         Current function value: -0.851267\n",
      "         Iterations: 5\n",
      "         Function evaluations: 463\n",
      "Building:  626\n",
      "Mean Absolute Error:  17.91025457810977\n"
     ]
    },
    {
     "name": "stderr",
     "output_type": "stream",
     "text": [
      "/Users/andrewgraves/anaconda3/lib/python3.7/site-packages/statsmodels/tsa/base/tsa_model.py:165: ValueWarning: No frequency information was provided, so inferred frequency D will be used.\n",
      "  % freq, ValueWarning)\n"
     ]
    },
    {
     "name": "stdout",
     "output_type": "stream",
     "text": [
      "Optimization terminated successfully.\n",
      "         Current function value: -2.004499\n",
      "         Iterations: 8\n",
      "         Function evaluations: 765\n",
      "Building:  627\n",
      "Mean Absolute Error:  7.709966125694785\n"
     ]
    },
    {
     "name": "stderr",
     "output_type": "stream",
     "text": [
      "/Users/andrewgraves/anaconda3/lib/python3.7/site-packages/statsmodels/tsa/base/tsa_model.py:165: ValueWarning: No frequency information was provided, so inferred frequency D will be used.\n",
      "  % freq, ValueWarning)\n"
     ]
    },
    {
     "name": "stdout",
     "output_type": "stream",
     "text": [
      "Optimization terminated successfully.\n",
      "         Current function value: -1.215191\n",
      "         Iterations: 4\n",
      "         Function evaluations: 375\n",
      "Building:  628\n",
      "Mean Absolute Error:  6.121004818384533\n"
     ]
    },
    {
     "name": "stderr",
     "output_type": "stream",
     "text": [
      "/Users/andrewgraves/anaconda3/lib/python3.7/site-packages/statsmodels/tsa/base/tsa_model.py:165: ValueWarning: No frequency information was provided, so inferred frequency D will be used.\n",
      "  % freq, ValueWarning)\n"
     ]
    },
    {
     "name": "stdout",
     "output_type": "stream",
     "text": [
      "Optimization terminated successfully.\n",
      "         Current function value: -1.416540\n",
      "         Iterations: 6\n",
      "         Function evaluations: 585\n",
      "Building:  630\n",
      "Mean Absolute Error:  7.672333286455311\n"
     ]
    },
    {
     "name": "stderr",
     "output_type": "stream",
     "text": [
      "/Users/andrewgraves/anaconda3/lib/python3.7/site-packages/statsmodels/tsa/base/tsa_model.py:165: ValueWarning: No frequency information was provided, so inferred frequency D will be used.\n",
      "  % freq, ValueWarning)\n"
     ]
    },
    {
     "name": "stdout",
     "output_type": "stream",
     "text": [
      "Optimization terminated successfully.\n",
      "         Current function value: -0.866588\n",
      "         Iterations: 5\n",
      "         Function evaluations: 467\n",
      "Building:  631\n",
      "Mean Absolute Error:  12.0366396026865\n"
     ]
    },
    {
     "name": "stderr",
     "output_type": "stream",
     "text": [
      "/Users/andrewgraves/anaconda3/lib/python3.7/site-packages/statsmodels/tsa/base/tsa_model.py:165: ValueWarning: No frequency information was provided, so inferred frequency D will be used.\n",
      "  % freq, ValueWarning)\n"
     ]
    },
    {
     "name": "stdout",
     "output_type": "stream",
     "text": [
      "Optimization terminated successfully.\n",
      "         Current function value: -1.652764\n",
      "         Iterations: 9\n",
      "         Function evaluations: 854\n",
      "Building:  632\n",
      "Mean Absolute Error:  4.554904302810843\n"
     ]
    },
    {
     "name": "stderr",
     "output_type": "stream",
     "text": [
      "/Users/andrewgraves/anaconda3/lib/python3.7/site-packages/statsmodels/tsa/base/tsa_model.py:165: ValueWarning: No frequency information was provided, so inferred frequency D will be used.\n",
      "  % freq, ValueWarning)\n"
     ]
    },
    {
     "name": "stdout",
     "output_type": "stream",
     "text": [
      "Optimization terminated successfully.\n",
      "         Current function value: -2.967650\n",
      "         Iterations: 3\n",
      "         Function evaluations: 311\n",
      "Building:  633\n",
      "Mean Absolute Error:  0.8490006570481939\n"
     ]
    },
    {
     "name": "stderr",
     "output_type": "stream",
     "text": [
      "/Users/andrewgraves/anaconda3/lib/python3.7/site-packages/statsmodels/tsa/base/tsa_model.py:165: ValueWarning: No frequency information was provided, so inferred frequency D will be used.\n",
      "  % freq, ValueWarning)\n"
     ]
    },
    {
     "name": "stdout",
     "output_type": "stream",
     "text": [
      "Optimization terminated successfully.\n",
      "         Current function value: -0.182960\n",
      "         Iterations: 7\n",
      "         Function evaluations: 641\n",
      "Building:  634\n",
      "Mean Absolute Error:  35.59385645539392\n"
     ]
    },
    {
     "name": "stderr",
     "output_type": "stream",
     "text": [
      "/Users/andrewgraves/anaconda3/lib/python3.7/site-packages/statsmodels/tsa/base/tsa_model.py:165: ValueWarning: No frequency information was provided, so inferred frequency D will be used.\n",
      "  % freq, ValueWarning)\n"
     ]
    },
    {
     "name": "stdout",
     "output_type": "stream",
     "text": [
      "Optimization terminated successfully.\n",
      "         Current function value: -1.124909\n",
      "         Iterations: 10\n",
      "         Function evaluations: 926\n",
      "Building:  635\n",
      "Mean Absolute Error:  12.322321999953003\n"
     ]
    },
    {
     "name": "stderr",
     "output_type": "stream",
     "text": [
      "/Users/andrewgraves/anaconda3/lib/python3.7/site-packages/statsmodels/tsa/base/tsa_model.py:165: ValueWarning: No frequency information was provided, so inferred frequency D will be used.\n",
      "  % freq, ValueWarning)\n"
     ]
    },
    {
     "name": "stdout",
     "output_type": "stream",
     "text": [
      "Optimization terminated successfully.\n",
      "         Current function value: -0.203460\n",
      "         Iterations: 7\n",
      "         Function evaluations: 658\n",
      "Building:  636\n",
      "Mean Absolute Error:  27.306796275517122\n"
     ]
    },
    {
     "name": "stderr",
     "output_type": "stream",
     "text": [
      "/Users/andrewgraves/anaconda3/lib/python3.7/site-packages/statsmodels/tsa/base/tsa_model.py:165: ValueWarning: No frequency information was provided, so inferred frequency D will be used.\n",
      "  % freq, ValueWarning)\n"
     ]
    },
    {
     "name": "stdout",
     "output_type": "stream",
     "text": [
      "Optimization terminated successfully.\n",
      "         Current function value: -0.441925\n",
      "         Iterations: 12\n",
      "         Function evaluations: 1120\n",
      "Building:  637\n",
      "Mean Absolute Error:  13.111338686247036\n"
     ]
    },
    {
     "name": "stderr",
     "output_type": "stream",
     "text": [
      "/Users/andrewgraves/anaconda3/lib/python3.7/site-packages/statsmodels/tsa/base/tsa_model.py:165: ValueWarning: No frequency information was provided, so inferred frequency D will be used.\n",
      "  % freq, ValueWarning)\n"
     ]
    },
    {
     "name": "stdout",
     "output_type": "stream",
     "text": [
      "Optimization terminated successfully.\n",
      "         Current function value: -0.628009\n",
      "         Iterations: 7\n",
      "         Function evaluations: 651\n",
      "Building:  638\n",
      "Mean Absolute Error:  9.577607678348736\n"
     ]
    },
    {
     "name": "stderr",
     "output_type": "stream",
     "text": [
      "/Users/andrewgraves/anaconda3/lib/python3.7/site-packages/statsmodels/tsa/base/tsa_model.py:165: ValueWarning: No frequency information was provided, so inferred frequency D will be used.\n",
      "  % freq, ValueWarning)\n"
     ]
    },
    {
     "name": "stdout",
     "output_type": "stream",
     "text": [
      "Optimization terminated successfully.\n",
      "         Current function value: -1.505600\n",
      "         Iterations: 13\n",
      "         Function evaluations: 1197\n",
      "Building:  640\n",
      "Mean Absolute Error:  9.31225123763849\n"
     ]
    },
    {
     "name": "stderr",
     "output_type": "stream",
     "text": [
      "/Users/andrewgraves/anaconda3/lib/python3.7/site-packages/statsmodels/tsa/base/tsa_model.py:165: ValueWarning: No frequency information was provided, so inferred frequency D will be used.\n",
      "  % freq, ValueWarning)\n"
     ]
    },
    {
     "name": "stdout",
     "output_type": "stream",
     "text": [
      "Optimization terminated successfully.\n",
      "         Current function value: -1.737270\n",
      "         Iterations: 6\n",
      "         Function evaluations: 608\n",
      "Building:  641\n",
      "Mean Absolute Error:  4.77777492247097\n"
     ]
    },
    {
     "name": "stderr",
     "output_type": "stream",
     "text": [
      "/Users/andrewgraves/anaconda3/lib/python3.7/site-packages/statsmodels/tsa/base/tsa_model.py:165: ValueWarning: No frequency information was provided, so inferred frequency D will be used.\n",
      "  % freq, ValueWarning)\n"
     ]
    },
    {
     "name": "stdout",
     "output_type": "stream",
     "text": [
      "Optimization terminated successfully.\n",
      "         Current function value: -0.716322\n",
      "         Iterations: 3\n",
      "         Function evaluations: 283\n",
      "Building:  642\n",
      "Mean Absolute Error:  13.076976980143245\n"
     ]
    },
    {
     "name": "stderr",
     "output_type": "stream",
     "text": [
      "/Users/andrewgraves/anaconda3/lib/python3.7/site-packages/statsmodels/tsa/base/tsa_model.py:165: ValueWarning: No frequency information was provided, so inferred frequency D will be used.\n",
      "  % freq, ValueWarning)\n"
     ]
    },
    {
     "name": "stdout",
     "output_type": "stream",
     "text": [
      "Optimization terminated successfully.\n",
      "         Current function value: -1.340668\n",
      "         Iterations: 5\n",
      "         Function evaluations: 475\n",
      "Building:  643\n",
      "Mean Absolute Error:  5.052057436194109\n"
     ]
    },
    {
     "name": "stderr",
     "output_type": "stream",
     "text": [
      "/Users/andrewgraves/anaconda3/lib/python3.7/site-packages/statsmodels/tsa/base/tsa_model.py:165: ValueWarning: No frequency information was provided, so inferred frequency D will be used.\n",
      "  % freq, ValueWarning)\n"
     ]
    },
    {
     "name": "stdout",
     "output_type": "stream",
     "text": [
      "Optimization terminated successfully.\n",
      "         Current function value: -0.727315\n",
      "         Iterations: 6\n",
      "         Function evaluations: 549\n",
      "Building:  644\n",
      "Mean Absolute Error:  16.708313136371004\n"
     ]
    },
    {
     "name": "stderr",
     "output_type": "stream",
     "text": [
      "/Users/andrewgraves/anaconda3/lib/python3.7/site-packages/statsmodels/tsa/base/tsa_model.py:165: ValueWarning: No frequency information was provided, so inferred frequency D will be used.\n",
      "  % freq, ValueWarning)\n"
     ]
    },
    {
     "name": "stdout",
     "output_type": "stream",
     "text": [
      "Optimization terminated successfully.\n",
      "         Current function value: -1.668900\n",
      "         Iterations: 5\n",
      "         Function evaluations: 455\n",
      "Building:  645\n",
      "Mean Absolute Error:  3.252037277722206\n"
     ]
    },
    {
     "name": "stderr",
     "output_type": "stream",
     "text": [
      "/Users/andrewgraves/anaconda3/lib/python3.7/site-packages/statsmodels/tsa/base/tsa_model.py:165: ValueWarning: No frequency information was provided, so inferred frequency D will be used.\n",
      "  % freq, ValueWarning)\n"
     ]
    },
    {
     "name": "stdout",
     "output_type": "stream",
     "text": [
      "Optimization terminated successfully.\n",
      "         Current function value: -0.670345\n",
      "         Iterations: 3\n",
      "         Function evaluations: 272\n",
      "Building:  646\n",
      "Mean Absolute Error:  8.4836203815275\n"
     ]
    },
    {
     "name": "stderr",
     "output_type": "stream",
     "text": [
      "/Users/andrewgraves/anaconda3/lib/python3.7/site-packages/statsmodels/tsa/base/tsa_model.py:165: ValueWarning: No frequency information was provided, so inferred frequency D will be used.\n",
      "  % freq, ValueWarning)\n"
     ]
    },
    {
     "name": "stdout",
     "output_type": "stream",
     "text": [
      "Optimization terminated successfully.\n",
      "         Current function value: -1.410457\n",
      "         Iterations: 6\n",
      "         Function evaluations: 545\n",
      "Building:  649\n",
      "Mean Absolute Error:  5.529991126799834\n"
     ]
    },
    {
     "name": "stderr",
     "output_type": "stream",
     "text": [
      "/Users/andrewgraves/anaconda3/lib/python3.7/site-packages/statsmodels/tsa/base/tsa_model.py:165: ValueWarning: No frequency information was provided, so inferred frequency D will be used.\n",
      "  % freq, ValueWarning)\n"
     ]
    },
    {
     "name": "stdout",
     "output_type": "stream",
     "text": [
      "Optimization terminated successfully.\n",
      "         Current function value: -0.680702\n",
      "         Iterations: 13\n",
      "         Function evaluations: 1199\n",
      "Building:  652\n",
      "Mean Absolute Error:  20.281152514552183\n"
     ]
    },
    {
     "name": "stderr",
     "output_type": "stream",
     "text": [
      "/Users/andrewgraves/anaconda3/lib/python3.7/site-packages/statsmodels/tsa/base/tsa_model.py:165: ValueWarning: No frequency information was provided, so inferred frequency D will be used.\n",
      "  % freq, ValueWarning)\n"
     ]
    },
    {
     "name": "stdout",
     "output_type": "stream",
     "text": [
      "Optimization terminated successfully.\n",
      "         Current function value: -1.737719\n",
      "         Iterations: 6\n",
      "         Function evaluations: 580\n",
      "Building:  653\n",
      "Mean Absolute Error:  5.371377861207207\n"
     ]
    },
    {
     "name": "stderr",
     "output_type": "stream",
     "text": [
      "/Users/andrewgraves/anaconda3/lib/python3.7/site-packages/statsmodels/tsa/base/tsa_model.py:165: ValueWarning: No frequency information was provided, so inferred frequency D will be used.\n",
      "  % freq, ValueWarning)\n"
     ]
    },
    {
     "name": "stdout",
     "output_type": "stream",
     "text": [
      "Optimization terminated successfully.\n",
      "         Current function value: -2.175671\n",
      "         Iterations: 3\n",
      "         Function evaluations: 284\n",
      "Building:  654\n",
      "Mean Absolute Error:  1.7486515383635985\n"
     ]
    },
    {
     "name": "stderr",
     "output_type": "stream",
     "text": [
      "/Users/andrewgraves/anaconda3/lib/python3.7/site-packages/statsmodels/tsa/base/tsa_model.py:165: ValueWarning: No frequency information was provided, so inferred frequency D will be used.\n",
      "  % freq, ValueWarning)\n"
     ]
    },
    {
     "name": "stdout",
     "output_type": "stream",
     "text": [
      "Optimization terminated successfully.\n",
      "         Current function value: -0.818802\n",
      "         Iterations: 9\n",
      "         Function evaluations: 852\n",
      "Building:  655\n",
      "Mean Absolute Error:  10.835903401769162\n"
     ]
    }
   ],
   "source": [
    "sar_pred_dict1, mae_dict1 = sarima_model(berkeley_clean_train_dict, berkeley_clean_test_dict)"
   ]
  },
  {
   "cell_type": "code",
   "execution_count": 23,
   "metadata": {},
   "outputs": [
    {
     "name": "stdout",
     "output_type": "stream",
     "text": [
      "8.36164260819148\n"
     ]
    },
    {
     "data": {
      "text/plain": [
       "(array([40., 25.,  3.,  2.,  0.,  0.,  0.,  0.,  0.,  1.]),\n",
       " array([ 0.44252733,  9.41672453, 18.39092174, 27.36511895, 36.33931615,\n",
       "        45.31351336, 54.28771057, 63.26190777, 72.23610498, 81.21030219,\n",
       "        90.18449939]),\n",
       " <a list of 10 Patch objects>)"
      ]
     },
     "execution_count": 23,
     "metadata": {},
     "output_type": "execute_result"
    },
    {
     "data": {
      "image/png": "[encoded data removed]",
      "text/plain": [
       "<Figure size 432x288 with 1 Axes>"
      ]
     },
     "metadata": {
      "needs_background": "light"
     },
     "output_type": "display_data"
    }
   ],
   "source": [
    "mae_list1 = list(mae_dict1.values())\n",
    "print(np.median(mae_list1))\n",
    "plt.hist(mae_list1)"
   ]
  },
  {
   "cell_type": "code",
   "execution_count": 44,
   "metadata": {},
   "outputs": [],
   "source": [
    "mae_list_10 = [i for i in mae_list1 if i < 10]"
   ]
  },
  {
   "cell_type": "markdown",
   "metadata": {},
   "source": [
    "**42/71 (59%) of the buildings have a MAPE of 10% or less, and the median MAPE is 8.36%. This is not bad for the first run through! Next step is adding in an exogenous variable for improved model performance.**"
   ]
  },
  {
   "cell_type": "markdown",
   "metadata": {},
   "source": [
    "## Model with Exogenous Variable"
   ]
  },
  {
   "cell_type": "code",
   "execution_count": 24,
   "metadata": {},
   "outputs": [],
   "source": [
    "pred_index = [pd.to_datetime('2019-11-01')]\n",
    "add_day = pd.to_datetime('2019-11-01')\n",
    "i = 0\n",
    "for i in range(27):\n",
    "    add_day += timedelta(days=1)\n",
    "    add_day_list = [add_day]\n",
    "    pred_index.extend(add_day_list)\n",
    "    i += 1"
   ]
  },
  {
   "cell_type": "code",
   "execution_count": 25,
   "metadata": {},
   "outputs": [],
   "source": [
    "def train_test_split(data, n_test):\n",
    "    return data[:n_test], data[n_test:]"
   ]
  },
  {
   "cell_type": "code",
   "execution_count": 33,
   "metadata": {},
   "outputs": [],
   "source": [
    "def train_test_validation(data, n_test): # data is array of all values\n",
    "    \n",
    "    predictions = []\n",
    "    mae_list = []\n",
    "    \n",
    "    X = np.log(data.meter_reading_scraped.values)\n",
    "    ex = data.Holiday.values\n",
    "    first_df = data[data['Date'] < pd.to_datetime('2019-11-01')]\n",
    "    last_df = data[(data['Date'] >= pd.to_datetime('2019-11-01')) & (data['Date'] < pd.to_datetime('2019-11-29'))]\n",
    "    first_index = list(first_df.Date.values)\n",
    "    last_index = list(last_df.Date.values)\n",
    "    train, test = train_test_split(X, n_test)\n",
    "    train_ex, test_ex = train_test_split(ex, n_test)\n",
    "    test, test_ex = test[:-2], test_ex[:-2]\n",
    "    train_ser, train_ex_ser = pd.Series(train, index = first_index), pd.Series(train_ex, index = first_index)\n",
    "    test_ser, test_ex_ser = pd.Series(test, index = last_index), pd.Series(test_ex, index = last_index)\n",
    "    \n",
    "    \n",
    "    model = sm.tsa.statespace.SARIMAX(train_ser, train_ex_ser, order=(1,1,2), \n",
    "                                                seasonal_order=(1,1,2,7)).fit(max_iter = 50, method = 'powell')\n",
    "\n",
    "#     log_pred = model.predict(pd.to_datetime('2019-11-01'), pd.to_datetime('2019-11-28'), exog = pd.DataFrame(test_ex_ser))\n",
    "#     sar_pred = unlog_pred(log_pred)\n",
    "    sar_test = unlog_pred(test_ser)\n",
    "\n",
    "    pred_forecast_log = model.get_forecast(steps = 28, exog = pd.DataFrame(test_ex_ser))\n",
    "    pred_forecast = unlog_pred(pred_forecast_log.predicted_mean)\n",
    "    \n",
    "    mae_pred = np.array(pred_forecast.values)\n",
    "    mae_test = np.array(sar_test.values)\n",
    "\n",
    "    mae_score = (abs(mae_test-mae_pred)/mae_test)*100\n",
    "    mae_mean = mae_score.mean()\n",
    "    print('Building: ', key)\n",
    "    print('Mean Absolute Error: ', mae_mean)\n",
    "\n",
    "    return pred_forecast, mae_mean"
   ]
  },
  {
   "cell_type": "code",
   "execution_count": 37,
   "metadata": {},
   "outputs": [
    {
     "name": "stderr",
     "output_type": "stream",
     "text": [
      "/Users/andrewgraves/anaconda3/lib/python3.7/site-packages/statsmodels/tsa/base/tsa_model.py:165: ValueWarning: No frequency information was provided, so inferred frequency D will be used.\n",
      "  % freq, ValueWarning)\n"
     ]
    },
    {
     "name": "stdout",
     "output_type": "stream",
     "text": [
      "Optimization terminated successfully.\n",
      "         Current function value: -0.825450\n",
      "         Iterations: 3\n",
      "         Function evaluations: 287\n",
      "Building:  565\n",
      "Mean Absolute Error:  8.025521553069797\n"
     ]
    },
    {
     "name": "stderr",
     "output_type": "stream",
     "text": [
      "/Users/andrewgraves/anaconda3/lib/python3.7/site-packages/statsmodels/tsa/base/tsa_model.py:165: ValueWarning: No frequency information was provided, so inferred frequency D will be used.\n",
      "  % freq, ValueWarning)\n"
     ]
    },
    {
     "name": "stdout",
     "output_type": "stream",
     "text": [
      "Optimization terminated successfully.\n",
      "         Current function value: -1.408870\n",
      "         Iterations: 8\n",
      "         Function evaluations: 802\n",
      "Building:  567\n",
      "Mean Absolute Error:  5.898226749271003\n"
     ]
    },
    {
     "name": "stderr",
     "output_type": "stream",
     "text": [
      "/Users/andrewgraves/anaconda3/lib/python3.7/site-packages/ipykernel_launcher.py:6: RuntimeWarning: invalid value encountered in log\n",
      "  \n",
      "/Users/andrewgraves/anaconda3/lib/python3.7/site-packages/statsmodels/tsa/base/tsa_model.py:165: ValueWarning: No frequency information was provided, so inferred frequency D will be used.\n",
      "  % freq, ValueWarning)\n"
     ]
    },
    {
     "name": "stdout",
     "output_type": "stream",
     "text": [
      "Optimization terminated successfully.\n",
      "         Current function value: -0.368017\n",
      "         Iterations: 4\n",
      "         Function evaluations: 404\n",
      "Building:  568\n",
      "Mean Absolute Error:  8.529171544610213\n"
     ]
    },
    {
     "name": "stderr",
     "output_type": "stream",
     "text": [
      "/Users/andrewgraves/anaconda3/lib/python3.7/site-packages/statsmodels/tsa/base/tsa_model.py:165: ValueWarning: No frequency information was provided, so inferred frequency D will be used.\n",
      "  % freq, ValueWarning)\n"
     ]
    },
    {
     "name": "stdout",
     "output_type": "stream",
     "text": [
      "Optimization terminated successfully.\n",
      "         Current function value: -1.252854\n",
      "         Iterations: 5\n",
      "         Function evaluations: 506\n",
      "Building:  569\n",
      "Mean Absolute Error:  13.5803940529227\n"
     ]
    },
    {
     "name": "stderr",
     "output_type": "stream",
     "text": [
      "/Users/andrewgraves/anaconda3/lib/python3.7/site-packages/statsmodels/tsa/base/tsa_model.py:165: ValueWarning: No frequency information was provided, so inferred frequency D will be used.\n",
      "  % freq, ValueWarning)\n"
     ]
    },
    {
     "name": "stdout",
     "output_type": "stream",
     "text": [
      "Optimization terminated successfully.\n",
      "         Current function value: -1.395078\n",
      "         Iterations: 3\n",
      "         Function evaluations: 309\n",
      "Building:  570\n",
      "Mean Absolute Error:  3.0312134110914064\n"
     ]
    },
    {
     "name": "stderr",
     "output_type": "stream",
     "text": [
      "/Users/andrewgraves/anaconda3/lib/python3.7/site-packages/statsmodels/tsa/base/tsa_model.py:165: ValueWarning: No frequency information was provided, so inferred frequency D will be used.\n",
      "  % freq, ValueWarning)\n"
     ]
    },
    {
     "name": "stdout",
     "output_type": "stream",
     "text": [
      "Optimization terminated successfully.\n",
      "         Current function value: -0.589266\n",
      "         Iterations: 4\n",
      "         Function evaluations: 396\n",
      "Building:  571\n",
      "Mean Absolute Error:  10.861202081502826\n"
     ]
    },
    {
     "name": "stderr",
     "output_type": "stream",
     "text": [
      "/Users/andrewgraves/anaconda3/lib/python3.7/site-packages/statsmodels/tsa/base/tsa_model.py:165: ValueWarning: No frequency information was provided, so inferred frequency D will be used.\n",
      "  % freq, ValueWarning)\n"
     ]
    },
    {
     "name": "stdout",
     "output_type": "stream",
     "text": [
      "Optimization terminated successfully.\n",
      "         Current function value: -1.065571\n",
      "         Iterations: 12\n",
      "         Function evaluations: 1232\n",
      "Building:  573\n",
      "Mean Absolute Error:  6.568120114983316\n"
     ]
    },
    {
     "name": "stderr",
     "output_type": "stream",
     "text": [
      "/Users/andrewgraves/anaconda3/lib/python3.7/site-packages/statsmodels/tsa/base/tsa_model.py:165: ValueWarning: No frequency information was provided, so inferred frequency D will be used.\n",
      "  % freq, ValueWarning)\n"
     ]
    },
    {
     "name": "stdout",
     "output_type": "stream",
     "text": [
      "Optimization terminated successfully.\n",
      "         Current function value: -0.414114\n",
      "         Iterations: 13\n",
      "         Function evaluations: 1314\n",
      "Building:  574\n",
      "Mean Absolute Error:  7.4663087881154295\n"
     ]
    },
    {
     "name": "stderr",
     "output_type": "stream",
     "text": [
      "/Users/andrewgraves/anaconda3/lib/python3.7/site-packages/statsmodels/tsa/base/tsa_model.py:165: ValueWarning: No frequency information was provided, so inferred frequency D will be used.\n",
      "  % freq, ValueWarning)\n"
     ]
    },
    {
     "name": "stdout",
     "output_type": "stream",
     "text": [
      "Optimization terminated successfully.\n",
      "         Current function value: -1.037894\n",
      "         Iterations: 15\n",
      "         Function evaluations: 1507\n",
      "Building:  575\n",
      "Mean Absolute Error:  7.544376045104117\n"
     ]
    },
    {
     "name": "stderr",
     "output_type": "stream",
     "text": [
      "/Users/andrewgraves/anaconda3/lib/python3.7/site-packages/statsmodels/tsa/base/tsa_model.py:165: ValueWarning: No frequency information was provided, so inferred frequency D will be used.\n",
      "  % freq, ValueWarning)\n"
     ]
    },
    {
     "name": "stdout",
     "output_type": "stream",
     "text": [
      "Optimization terminated successfully.\n",
      "         Current function value: -1.564311\n",
      "         Iterations: 4\n",
      "         Function evaluations: 397\n",
      "Building:  576\n",
      "Mean Absolute Error:  14.101292749656448\n"
     ]
    },
    {
     "name": "stderr",
     "output_type": "stream",
     "text": [
      "/Users/andrewgraves/anaconda3/lib/python3.7/site-packages/statsmodels/tsa/base/tsa_model.py:165: ValueWarning: No frequency information was provided, so inferred frequency D will be used.\n",
      "  % freq, ValueWarning)\n"
     ]
    },
    {
     "name": "stdout",
     "output_type": "stream",
     "text": [
      "Optimization terminated successfully.\n",
      "         Current function value: 0.480382\n",
      "         Iterations: 6\n",
      "         Function evaluations: 580\n",
      "Building:  577\n",
      "Mean Absolute Error:  6.68767603720531\n"
     ]
    },
    {
     "name": "stderr",
     "output_type": "stream",
     "text": [
      "/Users/andrewgraves/anaconda3/lib/python3.7/site-packages/statsmodels/tsa/base/tsa_model.py:165: ValueWarning: No frequency information was provided, so inferred frequency D will be used.\n",
      "  % freq, ValueWarning)\n"
     ]
    },
    {
     "name": "stdout",
     "output_type": "stream",
     "text": [
      "Optimization terminated successfully.\n",
      "         Current function value: -0.897288\n",
      "         Iterations: 6\n",
      "         Function evaluations: 647\n",
      "Building:  580\n",
      "Mean Absolute Error:  7.03993307211062\n"
     ]
    },
    {
     "name": "stderr",
     "output_type": "stream",
     "text": [
      "/Users/andrewgraves/anaconda3/lib/python3.7/site-packages/statsmodels/tsa/base/tsa_model.py:165: ValueWarning: No frequency information was provided, so inferred frequency D will be used.\n",
      "  % freq, ValueWarning)\n"
     ]
    },
    {
     "name": "stdout",
     "output_type": "stream",
     "text": [
      "Optimization terminated successfully.\n",
      "         Current function value: -1.362776\n",
      "         Iterations: 11\n",
      "         Function evaluations: 1087\n",
      "Building:  582\n",
      "Mean Absolute Error:  3.7413194278628485\n"
     ]
    },
    {
     "name": "stderr",
     "output_type": "stream",
     "text": [
      "/Users/andrewgraves/anaconda3/lib/python3.7/site-packages/statsmodels/tsa/base/tsa_model.py:165: ValueWarning: No frequency information was provided, so inferred frequency D will be used.\n",
      "  % freq, ValueWarning)\n"
     ]
    },
    {
     "name": "stdout",
     "output_type": "stream",
     "text": [
      "Optimization terminated successfully.\n",
      "         Current function value: -2.274778\n",
      "         Iterations: 7\n",
      "         Function evaluations: 736\n",
      "Building:  583\n",
      "Mean Absolute Error:  1.1086219388687382\n"
     ]
    },
    {
     "name": "stderr",
     "output_type": "stream",
     "text": [
      "/Users/andrewgraves/anaconda3/lib/python3.7/site-packages/statsmodels/tsa/base/tsa_model.py:165: ValueWarning: No frequency information was provided, so inferred frequency D will be used.\n",
      "  % freq, ValueWarning)\n"
     ]
    },
    {
     "name": "stdout",
     "output_type": "stream",
     "text": [
      "Optimization terminated successfully.\n",
      "         Current function value: -1.083029\n",
      "         Iterations: 3\n",
      "         Function evaluations: 312\n",
      "Building:  584\n",
      "Mean Absolute Error:  6.075458053758289\n"
     ]
    },
    {
     "name": "stderr",
     "output_type": "stream",
     "text": [
      "/Users/andrewgraves/anaconda3/lib/python3.7/site-packages/statsmodels/tsa/base/tsa_model.py:165: ValueWarning: No frequency information was provided, so inferred frequency D will be used.\n",
      "  % freq, ValueWarning)\n"
     ]
    },
    {
     "name": "stdout",
     "output_type": "stream",
     "text": [
      "Optimization terminated successfully.\n",
      "         Current function value: -1.938880\n",
      "         Iterations: 3\n",
      "         Function evaluations: 326\n",
      "Building:  585\n",
      "Mean Absolute Error:  7.455921998797855\n"
     ]
    },
    {
     "name": "stderr",
     "output_type": "stream",
     "text": [
      "/Users/andrewgraves/anaconda3/lib/python3.7/site-packages/statsmodels/tsa/base/tsa_model.py:165: ValueWarning: No frequency information was provided, so inferred frequency D will be used.\n",
      "  % freq, ValueWarning)\n"
     ]
    },
    {
     "name": "stdout",
     "output_type": "stream",
     "text": [
      "Optimization terminated successfully.\n",
      "         Current function value: -0.582252\n",
      "         Iterations: 4\n",
      "         Function evaluations: 398\n",
      "Building:  586\n",
      "Mean Absolute Error:  8.609810268266296\n"
     ]
    },
    {
     "name": "stderr",
     "output_type": "stream",
     "text": [
      "/Users/andrewgraves/anaconda3/lib/python3.7/site-packages/statsmodels/tsa/base/tsa_model.py:165: ValueWarning: No frequency information was provided, so inferred frequency D will be used.\n",
      "  % freq, ValueWarning)\n"
     ]
    },
    {
     "name": "stdout",
     "output_type": "stream",
     "text": [
      "Optimization terminated successfully.\n",
      "         Current function value: -2.290874\n",
      "         Iterations: 6\n",
      "         Function evaluations: 626\n",
      "Building:  587\n",
      "Mean Absolute Error:  14.700846725236238\n"
     ]
    },
    {
     "name": "stderr",
     "output_type": "stream",
     "text": [
      "/Users/andrewgraves/anaconda3/lib/python3.7/site-packages/statsmodels/tsa/base/tsa_model.py:165: ValueWarning: No frequency information was provided, so inferred frequency D will be used.\n",
      "  % freq, ValueWarning)\n"
     ]
    },
    {
     "name": "stdout",
     "output_type": "stream",
     "text": [
      "Optimization terminated successfully.\n",
      "         Current function value: -0.799645\n",
      "         Iterations: 3\n",
      "         Function evaluations: 297\n",
      "Building:  588\n",
      "Mean Absolute Error:  14.465975117465149\n"
     ]
    },
    {
     "name": "stderr",
     "output_type": "stream",
     "text": [
      "/Users/andrewgraves/anaconda3/lib/python3.7/site-packages/statsmodels/tsa/base/tsa_model.py:165: ValueWarning: No frequency information was provided, so inferred frequency D will be used.\n",
      "  % freq, ValueWarning)\n"
     ]
    },
    {
     "name": "stdout",
     "output_type": "stream",
     "text": [
      "Optimization terminated successfully.\n",
      "         Current function value: -1.056766\n",
      "         Iterations: 8\n",
      "         Function evaluations: 850\n",
      "Building:  589\n",
      "Mean Absolute Error:  5.862933568232257\n"
     ]
    },
    {
     "name": "stderr",
     "output_type": "stream",
     "text": [
      "/Users/andrewgraves/anaconda3/lib/python3.7/site-packages/statsmodels/tsa/base/tsa_model.py:165: ValueWarning: No frequency information was provided, so inferred frequency D will be used.\n",
      "  % freq, ValueWarning)\n"
     ]
    },
    {
     "name": "stdout",
     "output_type": "stream",
     "text": [
      "Optimization terminated successfully.\n",
      "         Current function value: -1.960412\n",
      "         Iterations: 4\n",
      "         Function evaluations: 438\n",
      "Building:  592\n",
      "Mean Absolute Error:  2.6849482913703553\n"
     ]
    },
    {
     "name": "stderr",
     "output_type": "stream",
     "text": [
      "/Users/andrewgraves/anaconda3/lib/python3.7/site-packages/statsmodels/tsa/base/tsa_model.py:165: ValueWarning: No frequency information was provided, so inferred frequency D will be used.\n",
      "  % freq, ValueWarning)\n"
     ]
    },
    {
     "name": "stdout",
     "output_type": "stream",
     "text": [
      "Optimization terminated successfully.\n",
      "         Current function value: -2.071668\n",
      "         Iterations: 11\n",
      "         Function evaluations: 1116\n",
      "Building:  594\n",
      "Mean Absolute Error:  3.0588751893210913\n"
     ]
    },
    {
     "name": "stderr",
     "output_type": "stream",
     "text": [
      "/Users/andrewgraves/anaconda3/lib/python3.7/site-packages/statsmodels/tsa/base/tsa_model.py:165: ValueWarning: No frequency information was provided, so inferred frequency D will be used.\n",
      "  % freq, ValueWarning)\n"
     ]
    },
    {
     "name": "stdout",
     "output_type": "stream",
     "text": [
      "Optimization terminated successfully.\n",
      "         Current function value: -1.118507\n",
      "         Iterations: 3\n",
      "         Function evaluations: 290\n",
      "Building:  595\n",
      "Mean Absolute Error:  4.171217494199035\n"
     ]
    },
    {
     "name": "stderr",
     "output_type": "stream",
     "text": [
      "/Users/andrewgraves/anaconda3/lib/python3.7/site-packages/statsmodels/tsa/base/tsa_model.py:165: ValueWarning: No frequency information was provided, so inferred frequency D will be used.\n",
      "  % freq, ValueWarning)\n"
     ]
    },
    {
     "name": "stdout",
     "output_type": "stream",
     "text": [
      "Optimization terminated successfully.\n",
      "         Current function value: -0.823600\n",
      "         Iterations: 17\n",
      "         Function evaluations: 1732\n",
      "Building:  597\n",
      "Mean Absolute Error:  13.628921245122475\n"
     ]
    },
    {
     "name": "stderr",
     "output_type": "stream",
     "text": [
      "/Users/andrewgraves/anaconda3/lib/python3.7/site-packages/statsmodels/tsa/base/tsa_model.py:165: ValueWarning: No frequency information was provided, so inferred frequency D will be used.\n",
      "  % freq, ValueWarning)\n"
     ]
    },
    {
     "name": "stdout",
     "output_type": "stream",
     "text": [
      "Optimization terminated successfully.\n",
      "         Current function value: -1.488941\n",
      "         Iterations: 3\n",
      "         Function evaluations: 301\n",
      "Building:  598\n",
      "Mean Absolute Error:  1.2744528885715063\n"
     ]
    },
    {
     "name": "stderr",
     "output_type": "stream",
     "text": [
      "/Users/andrewgraves/anaconda3/lib/python3.7/site-packages/statsmodels/tsa/base/tsa_model.py:165: ValueWarning: No frequency information was provided, so inferred frequency D will be used.\n",
      "  % freq, ValueWarning)\n"
     ]
    },
    {
     "name": "stdout",
     "output_type": "stream",
     "text": [
      "Optimization terminated successfully.\n",
      "         Current function value: -0.289980\n",
      "         Iterations: 6\n",
      "         Function evaluations: 599\n",
      "Building:  599\n",
      "Mean Absolute Error:  17.9714113442847\n"
     ]
    },
    {
     "name": "stderr",
     "output_type": "stream",
     "text": [
      "/Users/andrewgraves/anaconda3/lib/python3.7/site-packages/statsmodels/tsa/base/tsa_model.py:165: ValueWarning: No frequency information was provided, so inferred frequency D will be used.\n",
      "  % freq, ValueWarning)\n"
     ]
    },
    {
     "name": "stdout",
     "output_type": "stream",
     "text": [
      "Optimization terminated successfully.\n",
      "         Current function value: -1.480845\n",
      "         Iterations: 11\n",
      "         Function evaluations: 1110\n",
      "Building:  600\n",
      "Mean Absolute Error:  6.785002871808779\n"
     ]
    },
    {
     "name": "stderr",
     "output_type": "stream",
     "text": [
      "/Users/andrewgraves/anaconda3/lib/python3.7/site-packages/statsmodels/tsa/base/tsa_model.py:165: ValueWarning: No frequency information was provided, so inferred frequency D will be used.\n",
      "  % freq, ValueWarning)\n"
     ]
    },
    {
     "name": "stdout",
     "output_type": "stream",
     "text": [
      "Optimization terminated successfully.\n",
      "         Current function value: 0.217491\n",
      "         Iterations: 8\n",
      "         Function evaluations: 827\n",
      "Building:  601\n",
      "Mean Absolute Error:  90.25789114181362\n"
     ]
    },
    {
     "name": "stderr",
     "output_type": "stream",
     "text": [
      "/Users/andrewgraves/anaconda3/lib/python3.7/site-packages/statsmodels/tsa/base/tsa_model.py:165: ValueWarning: No frequency information was provided, so inferred frequency D will be used.\n",
      "  % freq, ValueWarning)\n"
     ]
    },
    {
     "name": "stdout",
     "output_type": "stream",
     "text": [
      "Optimization terminated successfully.\n",
      "         Current function value: -0.813604\n",
      "         Iterations: 3\n",
      "         Function evaluations: 293\n",
      "Building:  602\n",
      "Mean Absolute Error:  14.862812692926274\n"
     ]
    },
    {
     "name": "stderr",
     "output_type": "stream",
     "text": [
      "/Users/andrewgraves/anaconda3/lib/python3.7/site-packages/statsmodels/tsa/base/tsa_model.py:165: ValueWarning: No frequency information was provided, so inferred frequency D will be used.\n",
      "  % freq, ValueWarning)\n"
     ]
    },
    {
     "name": "stdout",
     "output_type": "stream",
     "text": [
      "Optimization terminated successfully.\n",
      "         Current function value: -0.765886\n",
      "         Iterations: 14\n",
      "         Function evaluations: 1367\n",
      "Building:  605\n",
      "Mean Absolute Error:  9.547975246676511\n"
     ]
    },
    {
     "name": "stderr",
     "output_type": "stream",
     "text": [
      "/Users/andrewgraves/anaconda3/lib/python3.7/site-packages/statsmodels/tsa/base/tsa_model.py:165: ValueWarning: No frequency information was provided, so inferred frequency D will be used.\n",
      "  % freq, ValueWarning)\n"
     ]
    },
    {
     "name": "stdout",
     "output_type": "stream",
     "text": [
      "Optimization terminated successfully.\n",
      "         Current function value: -2.484083\n",
      "         Iterations: 7\n",
      "         Function evaluations: 737\n",
      "Building:  606\n",
      "Mean Absolute Error:  3.8807839541635087\n"
     ]
    },
    {
     "name": "stderr",
     "output_type": "stream",
     "text": [
      "/Users/andrewgraves/anaconda3/lib/python3.7/site-packages/statsmodels/tsa/base/tsa_model.py:165: ValueWarning: No frequency information was provided, so inferred frequency D will be used.\n",
      "  % freq, ValueWarning)\n"
     ]
    },
    {
     "name": "stdout",
     "output_type": "stream",
     "text": [
      "Optimization terminated successfully.\n",
      "         Current function value: -1.006041\n",
      "         Iterations: 15\n",
      "         Function evaluations: 1594\n",
      "Building:  607\n",
      "Mean Absolute Error:  7.586347475313046\n"
     ]
    },
    {
     "name": "stderr",
     "output_type": "stream",
     "text": [
      "/Users/andrewgraves/anaconda3/lib/python3.7/site-packages/statsmodels/tsa/base/tsa_model.py:165: ValueWarning: No frequency information was provided, so inferred frequency D will be used.\n",
      "  % freq, ValueWarning)\n"
     ]
    },
    {
     "name": "stdout",
     "output_type": "stream",
     "text": [
      "Optimization terminated successfully.\n",
      "         Current function value: -1.519149\n",
      "         Iterations: 3\n",
      "         Function evaluations: 320\n",
      "Building:  608\n",
      "Mean Absolute Error:  3.737594169869165\n"
     ]
    },
    {
     "name": "stderr",
     "output_type": "stream",
     "text": [
      "/Users/andrewgraves/anaconda3/lib/python3.7/site-packages/statsmodels/tsa/base/tsa_model.py:165: ValueWarning: No frequency information was provided, so inferred frequency D will be used.\n",
      "  % freq, ValueWarning)\n"
     ]
    },
    {
     "name": "stdout",
     "output_type": "stream",
     "text": [
      "Optimization terminated successfully.\n",
      "         Current function value: -2.007154\n",
      "         Iterations: 5\n",
      "         Function evaluations: 540\n",
      "Building:  609\n",
      "Mean Absolute Error:  5.192200843833061\n"
     ]
    },
    {
     "name": "stderr",
     "output_type": "stream",
     "text": [
      "/Users/andrewgraves/anaconda3/lib/python3.7/site-packages/statsmodels/tsa/base/tsa_model.py:165: ValueWarning: No frequency information was provided, so inferred frequency D will be used.\n",
      "  % freq, ValueWarning)\n"
     ]
    },
    {
     "name": "stdout",
     "output_type": "stream",
     "text": [
      "Optimization terminated successfully.\n",
      "         Current function value: -0.006750\n",
      "         Iterations: 19\n",
      "         Function evaluations: 1825\n",
      "Building:  610\n",
      "Mean Absolute Error:  30.9321943416774\n"
     ]
    },
    {
     "name": "stderr",
     "output_type": "stream",
     "text": [
      "/Users/andrewgraves/anaconda3/lib/python3.7/site-packages/statsmodels/tsa/base/tsa_model.py:165: ValueWarning: No frequency information was provided, so inferred frequency D will be used.\n",
      "  % freq, ValueWarning)\n"
     ]
    },
    {
     "name": "stdout",
     "output_type": "stream",
     "text": [
      "Optimization terminated successfully.\n",
      "         Current function value: -2.281432\n",
      "         Iterations: 6\n",
      "         Function evaluations: 636\n",
      "Building:  611\n",
      "Mean Absolute Error:  3.5266979964912926\n"
     ]
    },
    {
     "name": "stderr",
     "output_type": "stream",
     "text": [
      "/Users/andrewgraves/anaconda3/lib/python3.7/site-packages/statsmodels/tsa/base/tsa_model.py:165: ValueWarning: No frequency information was provided, so inferred frequency D will be used.\n",
      "  % freq, ValueWarning)\n"
     ]
    },
    {
     "name": "stdout",
     "output_type": "stream",
     "text": [
      "Optimization terminated successfully.\n",
      "         Current function value: -2.385194\n",
      "         Iterations: 5\n",
      "         Function evaluations: 526\n",
      "Building:  612\n",
      "Mean Absolute Error:  6.264979562725728\n"
     ]
    },
    {
     "name": "stderr",
     "output_type": "stream",
     "text": [
      "/Users/andrewgraves/anaconda3/lib/python3.7/site-packages/statsmodels/tsa/base/tsa_model.py:165: ValueWarning: No frequency information was provided, so inferred frequency D will be used.\n",
      "  % freq, ValueWarning)\n"
     ]
    },
    {
     "name": "stdout",
     "output_type": "stream",
     "text": [
      "Optimization terminated successfully.\n",
      "         Current function value: -1.880011\n",
      "         Iterations: 3\n",
      "         Function evaluations: 288\n",
      "Building:  614\n",
      "Mean Absolute Error:  4.287030746800004\n"
     ]
    },
    {
     "name": "stderr",
     "output_type": "stream",
     "text": [
      "/Users/andrewgraves/anaconda3/lib/python3.7/site-packages/statsmodels/tsa/base/tsa_model.py:165: ValueWarning: No frequency information was provided, so inferred frequency D will be used.\n",
      "  % freq, ValueWarning)\n"
     ]
    },
    {
     "name": "stdout",
     "output_type": "stream",
     "text": [
      "Optimization terminated successfully.\n",
      "         Current function value: -2.122538\n",
      "         Iterations: 5\n",
      "         Function evaluations: 538\n",
      "Building:  615\n",
      "Mean Absolute Error:  3.9214905355019316\n"
     ]
    },
    {
     "name": "stderr",
     "output_type": "stream",
     "text": [
      "/Users/andrewgraves/anaconda3/lib/python3.7/site-packages/statsmodels/tsa/base/tsa_model.py:165: ValueWarning: No frequency information was provided, so inferred frequency D will be used.\n",
      "  % freq, ValueWarning)\n"
     ]
    },
    {
     "name": "stdout",
     "output_type": "stream",
     "text": [
      "Optimization terminated successfully.\n",
      "         Current function value: -1.216747\n",
      "         Iterations: 3\n",
      "         Function evaluations: 336\n",
      "Building:  616\n",
      "Mean Absolute Error:  5.018967987380448\n"
     ]
    },
    {
     "name": "stderr",
     "output_type": "stream",
     "text": [
      "/Users/andrewgraves/anaconda3/lib/python3.7/site-packages/statsmodels/tsa/base/tsa_model.py:165: ValueWarning: No frequency information was provided, so inferred frequency D will be used.\n",
      "  % freq, ValueWarning)\n"
     ]
    },
    {
     "name": "stdout",
     "output_type": "stream",
     "text": [
      "Optimization terminated successfully.\n",
      "         Current function value: -2.166370\n",
      "         Iterations: 5\n",
      "         Function evaluations: 527\n",
      "Building:  617\n",
      "Mean Absolute Error:  4.638643372622531\n"
     ]
    },
    {
     "name": "stderr",
     "output_type": "stream",
     "text": [
      "/Users/andrewgraves/anaconda3/lib/python3.7/site-packages/statsmodels/tsa/base/tsa_model.py:165: ValueWarning: No frequency information was provided, so inferred frequency D will be used.\n",
      "  % freq, ValueWarning)\n"
     ]
    },
    {
     "name": "stdout",
     "output_type": "stream",
     "text": [
      "Optimization terminated successfully.\n",
      "         Current function value: 0.106266\n",
      "         Iterations: 15\n",
      "         Function evaluations: 1595\n",
      "Building:  619\n",
      "Mean Absolute Error:  5.480164635332376\n"
     ]
    },
    {
     "name": "stderr",
     "output_type": "stream",
     "text": [
      "/Users/andrewgraves/anaconda3/lib/python3.7/site-packages/statsmodels/tsa/base/tsa_model.py:165: ValueWarning: No frequency information was provided, so inferred frequency D will be used.\n",
      "  % freq, ValueWarning)\n"
     ]
    },
    {
     "name": "stdout",
     "output_type": "stream",
     "text": [
      "Optimization terminated successfully.\n",
      "         Current function value: -1.763029\n",
      "         Iterations: 5\n",
      "         Function evaluations: 520\n",
      "Building:  620\n",
      "Mean Absolute Error:  8.810051404929386\n"
     ]
    },
    {
     "name": "stderr",
     "output_type": "stream",
     "text": [
      "/Users/andrewgraves/anaconda3/lib/python3.7/site-packages/statsmodels/tsa/base/tsa_model.py:165: ValueWarning: No frequency information was provided, so inferred frequency D will be used.\n",
      "  % freq, ValueWarning)\n"
     ]
    },
    {
     "name": "stdout",
     "output_type": "stream",
     "text": [
      "Optimization terminated successfully.\n",
      "         Current function value: -0.773315\n",
      "         Iterations: 4\n",
      "         Function evaluations: 400\n",
      "Building:  621\n",
      "Mean Absolute Error:  9.513664642463352\n"
     ]
    },
    {
     "name": "stderr",
     "output_type": "stream",
     "text": [
      "/Users/andrewgraves/anaconda3/lib/python3.7/site-packages/statsmodels/tsa/base/tsa_model.py:165: ValueWarning: No frequency information was provided, so inferred frequency D will be used.\n",
      "  % freq, ValueWarning)\n"
     ]
    },
    {
     "name": "stdout",
     "output_type": "stream",
     "text": [
      "Optimization terminated successfully.\n",
      "         Current function value: -2.421651\n",
      "         Iterations: 8\n",
      "         Function evaluations: 839\n",
      "Building:  622\n",
      "Mean Absolute Error:  3.2216392724976664\n"
     ]
    },
    {
     "name": "stderr",
     "output_type": "stream",
     "text": [
      "/Users/andrewgraves/anaconda3/lib/python3.7/site-packages/statsmodels/tsa/base/tsa_model.py:165: ValueWarning: No frequency information was provided, so inferred frequency D will be used.\n",
      "  % freq, ValueWarning)\n"
     ]
    },
    {
     "name": "stdout",
     "output_type": "stream",
     "text": [
      "Optimization terminated successfully.\n",
      "         Current function value: -1.125938\n",
      "         Iterations: 13\n",
      "         Function evaluations: 1314\n",
      "Building:  623\n",
      "Mean Absolute Error:  7.789841798433692\n"
     ]
    },
    {
     "name": "stderr",
     "output_type": "stream",
     "text": [
      "/Users/andrewgraves/anaconda3/lib/python3.7/site-packages/statsmodels/tsa/base/tsa_model.py:165: ValueWarning: No frequency information was provided, so inferred frequency D will be used.\n",
      "  % freq, ValueWarning)\n"
     ]
    },
    {
     "name": "stdout",
     "output_type": "stream",
     "text": [
      "Optimization terminated successfully.\n",
      "         Current function value: -1.242253\n",
      "         Iterations: 8\n",
      "         Function evaluations: 813\n",
      "Building:  624\n",
      "Mean Absolute Error:  10.844477916550607\n"
     ]
    },
    {
     "name": "stderr",
     "output_type": "stream",
     "text": [
      "/Users/andrewgraves/anaconda3/lib/python3.7/site-packages/statsmodels/tsa/base/tsa_model.py:165: ValueWarning: No frequency information was provided, so inferred frequency D will be used.\n",
      "  % freq, ValueWarning)\n"
     ]
    },
    {
     "name": "stdout",
     "output_type": "stream",
     "text": [
      "Optimization terminated successfully.\n",
      "         Current function value: -0.882657\n",
      "         Iterations: 5\n",
      "         Function evaluations: 504\n",
      "Building:  626\n",
      "Mean Absolute Error:  16.394132938254565\n"
     ]
    },
    {
     "name": "stderr",
     "output_type": "stream",
     "text": [
      "/Users/andrewgraves/anaconda3/lib/python3.7/site-packages/statsmodels/tsa/base/tsa_model.py:165: ValueWarning: No frequency information was provided, so inferred frequency D will be used.\n",
      "  % freq, ValueWarning)\n"
     ]
    },
    {
     "name": "stdout",
     "output_type": "stream",
     "text": [
      "Optimization terminated successfully.\n",
      "         Current function value: -2.090827\n",
      "         Iterations: 4\n",
      "         Function evaluations: 402\n",
      "Building:  627\n",
      "Mean Absolute Error:  7.940791897894736\n"
     ]
    },
    {
     "name": "stderr",
     "output_type": "stream",
     "text": [
      "/Users/andrewgraves/anaconda3/lib/python3.7/site-packages/statsmodels/tsa/base/tsa_model.py:165: ValueWarning: No frequency information was provided, so inferred frequency D will be used.\n",
      "  % freq, ValueWarning)\n"
     ]
    },
    {
     "name": "stdout",
     "output_type": "stream",
     "text": [
      "Optimization terminated successfully.\n",
      "         Current function value: -1.325260\n",
      "         Iterations: 9\n",
      "         Function evaluations: 977\n",
      "Building:  628\n",
      "Mean Absolute Error:  5.522753555358846\n"
     ]
    },
    {
     "name": "stderr",
     "output_type": "stream",
     "text": [
      "/Users/andrewgraves/anaconda3/lib/python3.7/site-packages/statsmodels/tsa/base/tsa_model.py:165: ValueWarning: No frequency information was provided, so inferred frequency D will be used.\n",
      "  % freq, ValueWarning)\n"
     ]
    },
    {
     "name": "stdout",
     "output_type": "stream",
     "text": [
      "Optimization terminated successfully.\n",
      "         Current function value: -1.664286\n",
      "         Iterations: 12\n",
      "         Function evaluations: 1254\n",
      "Building:  630\n",
      "Mean Absolute Error:  3.7966690742013185\n"
     ]
    },
    {
     "name": "stderr",
     "output_type": "stream",
     "text": [
      "/Users/andrewgraves/anaconda3/lib/python3.7/site-packages/statsmodels/tsa/base/tsa_model.py:165: ValueWarning: No frequency information was provided, so inferred frequency D will be used.\n",
      "  % freq, ValueWarning)\n"
     ]
    },
    {
     "name": "stdout",
     "output_type": "stream",
     "text": [
      "Optimization terminated successfully.\n",
      "         Current function value: -0.962005\n",
      "         Iterations: 5\n",
      "         Function evaluations: 504\n",
      "Building:  631\n",
      "Mean Absolute Error:  9.518636047575539\n"
     ]
    },
    {
     "name": "stderr",
     "output_type": "stream",
     "text": [
      "/Users/andrewgraves/anaconda3/lib/python3.7/site-packages/statsmodels/tsa/base/tsa_model.py:165: ValueWarning: No frequency information was provided, so inferred frequency D will be used.\n",
      "  % freq, ValueWarning)\n"
     ]
    },
    {
     "name": "stdout",
     "output_type": "stream",
     "text": [
      "Optimization terminated successfully.\n",
      "         Current function value: -1.737907\n",
      "         Iterations: 11\n",
      "         Function evaluations: 1141\n",
      "Building:  632\n",
      "Mean Absolute Error:  3.930689242181295\n"
     ]
    },
    {
     "name": "stderr",
     "output_type": "stream",
     "text": [
      "/Users/andrewgraves/anaconda3/lib/python3.7/site-packages/statsmodels/tsa/base/tsa_model.py:165: ValueWarning: No frequency information was provided, so inferred frequency D will be used.\n",
      "  % freq, ValueWarning)\n"
     ]
    },
    {
     "name": "stdout",
     "output_type": "stream",
     "text": [
      "Optimization terminated successfully.\n",
      "         Current function value: -2.993806\n",
      "         Iterations: 3\n",
      "         Function evaluations: 335\n",
      "Building:  633\n",
      "Mean Absolute Error:  0.7460797383216116\n"
     ]
    },
    {
     "name": "stderr",
     "output_type": "stream",
     "text": [
      "/Users/andrewgraves/anaconda3/lib/python3.7/site-packages/statsmodels/tsa/base/tsa_model.py:165: ValueWarning: No frequency information was provided, so inferred frequency D will be used.\n",
      "  % freq, ValueWarning)\n"
     ]
    },
    {
     "name": "stdout",
     "output_type": "stream",
     "text": [
      "Optimization terminated successfully.\n",
      "         Current function value: -0.239943\n",
      "         Iterations: 13\n",
      "         Function evaluations: 1282\n",
      "Building:  634\n",
      "Mean Absolute Error:  35.799604148179604\n"
     ]
    },
    {
     "name": "stderr",
     "output_type": "stream",
     "text": [
      "/Users/andrewgraves/anaconda3/lib/python3.7/site-packages/statsmodels/tsa/base/tsa_model.py:165: ValueWarning: No frequency information was provided, so inferred frequency D will be used.\n",
      "  % freq, ValueWarning)\n"
     ]
    },
    {
     "name": "stdout",
     "output_type": "stream",
     "text": [
      "Optimization terminated successfully.\n",
      "         Current function value: -1.146575\n",
      "         Iterations: 10\n",
      "         Function evaluations: 1010\n",
      "Building:  635\n",
      "Mean Absolute Error:  11.89078880301409\n"
     ]
    },
    {
     "name": "stderr",
     "output_type": "stream",
     "text": [
      "/Users/andrewgraves/anaconda3/lib/python3.7/site-packages/statsmodels/tsa/base/tsa_model.py:165: ValueWarning: No frequency information was provided, so inferred frequency D will be used.\n",
      "  % freq, ValueWarning)\n"
     ]
    },
    {
     "name": "stdout",
     "output_type": "stream",
     "text": [
      "Optimization terminated successfully.\n",
      "         Current function value: -0.238445\n",
      "         Iterations: 6\n",
      "         Function evaluations: 601\n",
      "Building:  636\n",
      "Mean Absolute Error:  26.3695580030035\n"
     ]
    },
    {
     "name": "stderr",
     "output_type": "stream",
     "text": [
      "/Users/andrewgraves/anaconda3/lib/python3.7/site-packages/statsmodels/tsa/base/tsa_model.py:165: ValueWarning: No frequency information was provided, so inferred frequency D will be used.\n",
      "  % freq, ValueWarning)\n"
     ]
    },
    {
     "name": "stdout",
     "output_type": "stream",
     "text": [
      "Optimization terminated successfully.\n",
      "         Current function value: -0.482835\n",
      "         Iterations: 13\n",
      "         Function evaluations: 1332\n",
      "Building:  637\n",
      "Mean Absolute Error:  14.175342448243791\n"
     ]
    },
    {
     "name": "stderr",
     "output_type": "stream",
     "text": [
      "/Users/andrewgraves/anaconda3/lib/python3.7/site-packages/statsmodels/tsa/base/tsa_model.py:165: ValueWarning: No frequency information was provided, so inferred frequency D will be used.\n",
      "  % freq, ValueWarning)\n"
     ]
    },
    {
     "name": "stdout",
     "output_type": "stream",
     "text": [
      "Optimization terminated successfully.\n",
      "         Current function value: -0.682078\n",
      "         Iterations: 6\n",
      "         Function evaluations: 611\n",
      "Building:  638\n",
      "Mean Absolute Error:  7.614708194266727\n"
     ]
    },
    {
     "name": "stderr",
     "output_type": "stream",
     "text": [
      "/Users/andrewgraves/anaconda3/lib/python3.7/site-packages/statsmodels/tsa/base/tsa_model.py:165: ValueWarning: No frequency information was provided, so inferred frequency D will be used.\n",
      "  % freq, ValueWarning)\n"
     ]
    },
    {
     "name": "stdout",
     "output_type": "stream",
     "text": [
      "Optimization terminated successfully.\n",
      "         Current function value: -1.525271\n",
      "         Iterations: 13\n",
      "         Function evaluations: 1324\n",
      "Building:  640\n",
      "Mean Absolute Error:  9.00731951801855\n"
     ]
    },
    {
     "name": "stderr",
     "output_type": "stream",
     "text": [
      "/Users/andrewgraves/anaconda3/lib/python3.7/site-packages/statsmodels/tsa/base/tsa_model.py:165: ValueWarning: No frequency information was provided, so inferred frequency D will be used.\n",
      "  % freq, ValueWarning)\n"
     ]
    },
    {
     "name": "stdout",
     "output_type": "stream",
     "text": [
      "Optimization terminated successfully.\n",
      "         Current function value: -1.755592\n",
      "         Iterations: 6\n",
      "         Function evaluations: 642\n",
      "Building:  641\n",
      "Mean Absolute Error:  4.726401236624421\n"
     ]
    },
    {
     "name": "stderr",
     "output_type": "stream",
     "text": [
      "/Users/andrewgraves/anaconda3/lib/python3.7/site-packages/statsmodels/tsa/base/tsa_model.py:165: ValueWarning: No frequency information was provided, so inferred frequency D will be used.\n",
      "  % freq, ValueWarning)\n"
     ]
    },
    {
     "name": "stdout",
     "output_type": "stream",
     "text": [
      "Optimization terminated successfully.\n",
      "         Current function value: -0.853231\n",
      "         Iterations: 15\n",
      "         Function evaluations: 1528\n",
      "Building:  642\n",
      "Mean Absolute Error:  10.829628734035879\n"
     ]
    },
    {
     "name": "stderr",
     "output_type": "stream",
     "text": [
      "/Users/andrewgraves/anaconda3/lib/python3.7/site-packages/statsmodels/tsa/base/tsa_model.py:165: ValueWarning: No frequency information was provided, so inferred frequency D will be used.\n",
      "  % freq, ValueWarning)\n"
     ]
    },
    {
     "name": "stdout",
     "output_type": "stream",
     "text": [
      "Optimization terminated successfully.\n",
      "         Current function value: -1.581231\n",
      "         Iterations: 5\n",
      "         Function evaluations: 523\n",
      "Building:  643\n",
      "Mean Absolute Error:  3.069760731126337\n"
     ]
    },
    {
     "name": "stderr",
     "output_type": "stream",
     "text": [
      "/Users/andrewgraves/anaconda3/lib/python3.7/site-packages/statsmodels/tsa/base/tsa_model.py:165: ValueWarning: No frequency information was provided, so inferred frequency D will be used.\n",
      "  % freq, ValueWarning)\n"
     ]
    },
    {
     "name": "stdout",
     "output_type": "stream",
     "text": [
      "Optimization terminated successfully.\n",
      "         Current function value: -0.735553\n",
      "         Iterations: 6\n",
      "         Function evaluations: 597\n",
      "Building:  644\n",
      "Mean Absolute Error:  16.941210007132685\n"
     ]
    },
    {
     "name": "stderr",
     "output_type": "stream",
     "text": [
      "/Users/andrewgraves/anaconda3/lib/python3.7/site-packages/statsmodels/tsa/base/tsa_model.py:165: ValueWarning: No frequency information was provided, so inferred frequency D will be used.\n",
      "  % freq, ValueWarning)\n"
     ]
    },
    {
     "name": "stdout",
     "output_type": "stream",
     "text": [
      "Optimization terminated successfully.\n",
      "         Current function value: -1.673236\n",
      "         Iterations: 5\n",
      "         Function evaluations: 508\n",
      "Building:  645\n",
      "Mean Absolute Error:  3.220995092535021\n"
     ]
    },
    {
     "name": "stderr",
     "output_type": "stream",
     "text": [
      "/Users/andrewgraves/anaconda3/lib/python3.7/site-packages/statsmodels/tsa/base/tsa_model.py:165: ValueWarning: No frequency information was provided, so inferred frequency D will be used.\n",
      "  % freq, ValueWarning)\n"
     ]
    },
    {
     "name": "stdout",
     "output_type": "stream",
     "text": [
      "Optimization terminated successfully.\n",
      "         Current function value: -0.890854\n",
      "         Iterations: 4\n",
      "         Function evaluations: 394\n",
      "Building:  646\n",
      "Mean Absolute Error:  5.313615568564637\n"
     ]
    },
    {
     "name": "stderr",
     "output_type": "stream",
     "text": [
      "/Users/andrewgraves/anaconda3/lib/python3.7/site-packages/statsmodels/tsa/base/tsa_model.py:165: ValueWarning: No frequency information was provided, so inferred frequency D will be used.\n",
      "  % freq, ValueWarning)\n"
     ]
    },
    {
     "name": "stdout",
     "output_type": "stream",
     "text": [
      "Optimization terminated successfully.\n",
      "         Current function value: -1.412114\n",
      "         Iterations: 6\n",
      "         Function evaluations: 610\n",
      "Building:  649\n",
      "Mean Absolute Error:  5.52205618062591\n"
     ]
    },
    {
     "name": "stderr",
     "output_type": "stream",
     "text": [
      "/Users/andrewgraves/anaconda3/lib/python3.7/site-packages/statsmodels/tsa/base/tsa_model.py:165: ValueWarning: No frequency information was provided, so inferred frequency D will be used.\n",
      "  % freq, ValueWarning)\n"
     ]
    },
    {
     "name": "stdout",
     "output_type": "stream",
     "text": [
      "Optimization terminated successfully.\n",
      "         Current function value: -0.926096\n",
      "         Iterations: 3\n",
      "         Function evaluations: 331\n",
      "Building:  652\n",
      "Mean Absolute Error:  19.469216677449765\n"
     ]
    },
    {
     "name": "stderr",
     "output_type": "stream",
     "text": [
      "/Users/andrewgraves/anaconda3/lib/python3.7/site-packages/statsmodels/tsa/base/tsa_model.py:165: ValueWarning: No frequency information was provided, so inferred frequency D will be used.\n",
      "  % freq, ValueWarning)\n"
     ]
    },
    {
     "name": "stdout",
     "output_type": "stream",
     "text": [
      "Optimization terminated successfully.\n",
      "         Current function value: -1.744484\n",
      "         Iterations: 6\n",
      "         Function evaluations: 629\n",
      "Building:  653\n",
      "Mean Absolute Error:  5.366619908872537\n"
     ]
    },
    {
     "name": "stderr",
     "output_type": "stream",
     "text": [
      "/Users/andrewgraves/anaconda3/lib/python3.7/site-packages/statsmodels/tsa/base/tsa_model.py:165: ValueWarning: No frequency information was provided, so inferred frequency D will be used.\n",
      "  % freq, ValueWarning)\n"
     ]
    },
    {
     "name": "stdout",
     "output_type": "stream",
     "text": [
      "Optimization terminated successfully.\n",
      "         Current function value: -2.214764\n",
      "         Iterations: 3\n",
      "         Function evaluations: 316\n",
      "Building:  654\n",
      "Mean Absolute Error:  1.501555061118913\n"
     ]
    },
    {
     "name": "stderr",
     "output_type": "stream",
     "text": [
      "/Users/andrewgraves/anaconda3/lib/python3.7/site-packages/statsmodels/tsa/base/tsa_model.py:165: ValueWarning: No frequency information was provided, so inferred frequency D will be used.\n",
      "  % freq, ValueWarning)\n"
     ]
    },
    {
     "name": "stdout",
     "output_type": "stream",
     "text": [
      "Optimization terminated successfully.\n",
      "         Current function value: -0.836566\n",
      "         Iterations: 11\n",
      "         Function evaluations: 1112\n",
      "Building:  655\n",
      "Mean Absolute Error:  9.94013530872061\n"
     ]
    }
   ],
   "source": [
    "sar_pred_dict_ex = {}\n",
    "mae_dict_ex = {}\n",
    "\n",
    "for key in berkeley_clean_train_dict.keys():\n",
    "    \n",
    "    ex_pred, ex_mae = train_test_validation(berkeley_clean_date_dict[key], 1400)\n",
    "    sar_pred_dict_ex[key] = ex_pred\n",
    "    mae_dict_ex[key] = ex_mae\n"
   ]
  },
  {
   "cell_type": "code",
   "execution_count": 38,
   "metadata": {},
   "outputs": [
    {
     "name": "stdout",
     "output_type": "stream",
     "text": [
      "7.03993307211062\n"
     ]
    },
    {
     "data": {
      "text/plain": [
       "(array([51., 15.,  2.,  2.,  0.,  0.,  0.,  0.,  0.,  1.]),\n",
       " array([ 0.74607974,  9.69726088, 18.64844202, 27.59962316, 36.5508043 ,\n",
       "        45.50198544, 54.45316658, 63.40434772, 72.35552886, 81.30671   ,\n",
       "        90.25789114]),\n",
       " <a list of 10 Patch objects>)"
      ]
     },
     "execution_count": 38,
     "metadata": {},
     "output_type": "execute_result"
    },
    {
     "data": {
      "image/png": "[encoded data removed]",
      "text/plain": [
       "<Figure size 432x288 with 1 Axes>"
      ]
     },
     "metadata": {
      "needs_background": "light"
     },
     "output_type": "display_data"
    }
   ],
   "source": [
    "mae_list_ex = list(mae_dict_ex.values())\n",
    "print(np.median(mae_list_ex))\n",
    "plt.hist(mae_list_ex)"
   ]
  },
  {
   "cell_type": "markdown",
   "metadata": {},
   "source": [
    "**52/71 (73%) of the buildings have a MAPE of 10% or less, and the median MAPE is 7.04%. This is an almost 20% improvement on the baseline evaluation!**"
   ]
  },
  {
   "cell_type": "markdown",
   "metadata": {},
   "source": [
    "## Save Data"
   ]
  },
  {
   "cell_type": "markdown",
   "metadata": {},
   "source": [
    "The predictions will be saved into pickle files so that they can be used in the \"New_SARIMA_Presentation_Prep\" notebook. The findings here will be consolidated, exported, and used in Tableau for data visualizations."
   ]
  },
  {
   "cell_type": "code",
   "execution_count": null,
   "metadata": {},
   "outputs": [],
   "source": [
    "# sar_pred_dict1 = {}\n",
    "\n",
    "# for keys, values in sar_pred_dict.items():\n",
    "#     sar_pred_dict1[keys] = values[1]"
   ]
  },
  {
   "cell_type": "code",
   "execution_count": 319,
   "metadata": {},
   "outputs": [],
   "source": [
    "with open('sar_pred_dict_month_R1.pkl', 'wb') as to_write:\n",
    "    pickle.dump(sar_pred_dict1, to_write)"
   ]
  },
  {
   "cell_type": "code",
   "execution_count": 318,
   "metadata": {},
   "outputs": [],
   "source": [
    "with open('mae_dict_month_R1.pkl', 'wb') as to_write:\n",
    "    pickle.dump(mae_dict1, to_write)"
   ]
  },
  {
   "cell_type": "markdown",
   "metadata": {},
   "source": [
    "---"
   ]
  },
  {
   "cell_type": "code",
   "execution_count": 49,
   "metadata": {},
   "outputs": [],
   "source": [
    "# for pred in sar_pred_list:\n",
    "#     with open('Model_Pickles/{}.pkl'.format(list(pred.keys())[0]), 'wb') as to_write:\n",
    "#         pickle.dump(pred, to_write)"
   ]
  },
  {
   "cell_type": "code",
   "execution_count": 50,
   "metadata": {},
   "outputs": [],
   "source": [
    "# unfit_buildings = [(keys, values) for keys, values in mae_dict.items() if values > 20]\n",
    "        "
   ]
  },
  {
   "cell_type": "code",
   "execution_count": 51,
   "metadata": {},
   "outputs": [],
   "source": [
    "# unfit_buildings"
   ]
  },
  {
   "cell_type": "markdown",
   "metadata": {},
   "source": [
    "---"
   ]
  },
  {
   "cell_type": "code",
   "execution_count": null,
   "metadata": {},
   "outputs": [],
   "source": [
    "# df = berkeley_date_dict[565].Holiday\n",
    "\n",
    "# df.loc[pd.to_datetime('2019-11-01'): pd.to_datetime('2019-11-01') + timedelta(days=7)]"
   ]
  },
  {
   "cell_type": "code",
   "execution_count": null,
   "metadata": {},
   "outputs": [],
   "source": [
    "# # walk forward validation in a step by step manner\n",
    "# def walk_forward_validation(data, n_test, end_date): # data is array of all values\n",
    "    \n",
    "#     predictions = []\n",
    "#     mae_list = []\n",
    "    \n",
    "#     X = np.log(data.meter_reading_scraped.values)\n",
    "#     first_df = data[data['Date'] < pd.to_datetime(end_date)]\n",
    "#     first_index = list(first_df.Date.values)\n",
    "#     train, test = train_test_split(X, n_test)\n",
    "#     history = [x for x in train] #seed history with training data\n",
    "    \n",
    "#     week_list = [7,14,21,28]\n",
    "#     for index, week in enumerate(week_list):  \n",
    "        \n",
    "#         j = week-7\n",
    "#         model = sm.tsa.statespace.SARIMAX(pd.Series(history, index = first_index), order=(1,1,2), \n",
    "#                                                     seasonal_order=(1,1,2,7)).fit(max_iter = 50, method = 'powell')\n",
    "        \n",
    "#         log_pred = model.predict(pd.to_datetime('2018-12-31'), pd.to_datetime(end_date))\n",
    "#         sar_pred = unlog_pred(log_pred)\n",
    "        \n",
    "#         pred_forecast_log = model.get_forecast(steps = 7)\n",
    "#         pred_forecast = unlog_pred(pred_forecast_log.predicted_mean)\n",
    "#         predictions = np.concatenate((predictions, pred_forecast), axis=None)\n",
    "        \n",
    "#         mae_test = np.array([math.exp(num) for num in test[j:week]])\n",
    "#         mae_score = (abs(mae_test-predictions[j:week])/mae_test)*100\n",
    "#         mae_mean = mae_score.mean()\n",
    "#         print(mae_mean)\n",
    "#         mae_list.append(mae_mean)\n",
    "#         print('-------------------')\n",
    "                                          \n",
    "#         history = np.concatenate((history, test[j:week]), axis=None) #add it to history for next loop\n",
    "#         end_date = pd.to_datetime(end_date) + timedelta(days=7)\n",
    "        \n",
    "#         day = 0\n",
    "#         for day in range(7):\n",
    "#             add_day = [first_index[-1] + timedelta(days=1)]\n",
    "#             first_index.extend(add_day)\n",
    "#             day += 1\n",
    "    \n",
    "#     mae = np.array(mae_list).mean()\n",
    "    \n",
    "#     sar_preds = pd.Series(predictions, index = pred_index)\n",
    "#     print('Building', i, ':')\n",
    "#     print('Mean Absolute Error:', mae)\n",
    "#     print('-------------------')    \n",
    "#     print('-------------------')\n",
    "                    \n",
    "#     return sar_preds, mae"
   ]
  }
 ],
 "metadata": {
  "kernelspec": {
   "display_name": "Python 3",
   "language": "python",
   "name": "python3"
  },
  "language_info": {
   "codemirror_mode": {
    "name": "ipython",
    "version": 3
   },
   "file_extension": ".py",
   "mimetype": "text/x-python",
   "name": "python",
   "nbconvert_exporter": "python",
   "pygments_lexer": "ipython3",
   "version": "3.7.3"
  }
 },
 "nbformat": 4,
 "nbformat_minor": 4
}
